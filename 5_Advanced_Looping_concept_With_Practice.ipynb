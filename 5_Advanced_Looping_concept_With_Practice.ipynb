{
  "nbformat": 4,
  "nbformat_minor": 0,
  "metadata": {
    "colab": {
      "provenance": [],
      "include_colab_link": true
    },
    "kernelspec": {
      "name": "python3",
      "display_name": "Python 3"
    },
    "language_info": {
      "name": "python"
    }
  },
  "cells": [
    {
      "cell_type": "markdown",
      "metadata": {
        "id": "view-in-github",
        "colab_type": "text"
      },
      "source": [
        "<a href=\"https://colab.research.google.com/github/salonee/MSinDS_Aug2024-2025/blob/main/5_Advanced_Looping_concept_With_Practice.ipynb\" target=\"_parent\"><img src=\"https://colab.research.google.com/assets/colab-badge.svg\" alt=\"Open In Colab\"/></a>"
      ]
    },
    {
      "cell_type": "code",
      "source": [
        "# Advanced Looping Concept : Shortcuts to solve the simple questions\n",
        "# Map\n",
        "# Filter\n",
        "# Lambda\n",
        "# Ternary Operator\n",
        "# List Comprehension , Set Comprehension & Dictionary Comprehension\n",
        "\n",
        "\n"
      ],
      "metadata": {
        "id": "uWl8EWQHkxsl"
      },
      "execution_count": null,
      "outputs": []
    },
    {
      "cell_type": "code",
      "execution_count": null,
      "metadata": {
        "id": "iLahe0h5oFVo"
      },
      "outputs": [],
      "source": [
        "# Map Function\n",
        "# map()\n",
        "# The map() function in Python applies a given function to each item of an iterable (e.g. a list)\n",
        "# and returns a new iterable with the results. The syntax of the map() function is as follows:\n",
        "\n",
        "'''map(function, iterable)'''\n",
        "\n",
        "\n"
      ]
    },
    {
      "cell_type": "code",
      "source": [
        "# Iterable : List, string, tuple, set, dictionary\n"
      ],
      "metadata": {
        "id": "VPachIpLlUFh"
      },
      "execution_count": null,
      "outputs": []
    },
    {
      "cell_type": "code",
      "source": [
        "# # Practice 1\n",
        "#Add one to each element\n",
        "# add_1 is the function and with map, you don't put the brackets\n",
        "\n",
        "_list = [2,3,4,5,6]\n",
        "# [3,4,5,6,7]\n",
        "\n",
        "def add_1(n):\n",
        "  return n+1\n",
        "\n",
        "list(map(add_1,_list))\n",
        "# Iteration :\n",
        "# I1\n",
        "# i = 2\n",
        "# add_1(2) --> 3\n",
        "\n",
        "# I2\n",
        "# i = 3\n",
        "# add_1(3) --> 4\n",
        "\n",
        "# I3\n",
        "# i = 4\n",
        "# add_1(4) --> 5\n",
        "\n",
        "# I4\n",
        "# i = 5\n",
        "# add_1(5) --> 6\n",
        "\n",
        "# I5\n",
        "# i = 6\n",
        "# add_1(6) --> 7\n",
        "\n",
        "# Map --> [3,4,5,6,7]"
      ],
      "metadata": {
        "id": "RhHIUlVEojBG",
        "colab": {
          "base_uri": "https://localhost:8080/"
        },
        "outputId": "bd54888a-7e2e-4704-a7e6-1d83eed513dc"
      },
      "execution_count": null,
      "outputs": [
        {
          "output_type": "execute_result",
          "data": {
            "text/plain": [
              "[3, 4, 5, 6, 7]"
            ]
          },
          "metadata": {},
          "execution_count": 4
        }
      ]
    },
    {
      "cell_type": "code",
      "source": [
        "tuple(map(add_1,_list))"
      ],
      "metadata": {
        "colab": {
          "base_uri": "https://localhost:8080/"
        },
        "id": "OQ-HmYeNQMOE",
        "outputId": "8332ab62-5831-451e-e9da-f79fefc3383d"
      },
      "execution_count": null,
      "outputs": [
        {
          "output_type": "execute_result",
          "data": {
            "text/plain": [
              "(3, 4, 5, 6, 7)"
            ]
          },
          "metadata": {},
          "execution_count": 5
        }
      ]
    },
    {
      "cell_type": "code",
      "source": [],
      "metadata": {
        "colab": {
          "base_uri": "https://localhost:8080/"
        },
        "id": "Vi-v7_oytF7D",
        "outputId": "ffa80e19-a075-4442-9a4a-edad0d38431d"
      },
      "execution_count": null,
      "outputs": [
        {
          "output_type": "stream",
          "name": "stdout",
          "text": [
            "[35, 57, 79]\n"
          ]
        }
      ]
    },
    {
      "cell_type": "code",
      "source": [
        "# # Practice 2\n",
        "# Output as square of each element in a list\n",
        "# map will work only if you want to apply some logic to each and every element.\n",
        "\n",
        "def square(n):\n",
        "  return n**2\n",
        "\n",
        "_list = [4,2,5,6,8]\n",
        "list(map(square, _list))\n",
        "\n",
        "\n",
        "# map will iterate over each and every item in the iterable and put it in the function"
      ],
      "metadata": {
        "id": "Q7Ji_jYKp8qG",
        "colab": {
          "base_uri": "https://localhost:8080/"
        },
        "outputId": "0c4ebd50-24fc-45df-e249-145f4dcdf0e6"
      },
      "execution_count": null,
      "outputs": [
        {
          "output_type": "execute_result",
          "data": {
            "text/plain": [
              "[16, 4, 25, 36, 64]"
            ]
          },
          "metadata": {},
          "execution_count": 6
        }
      ]
    },
    {
      "cell_type": "code",
      "source": [
        "# word , Each Character Vowel or Consonant\n",
        "\n",
        "def _vowel_cons_check(s):\n",
        "  if s.lower() in 'aeiou':\n",
        "    return f'{s}:Vowel'\n",
        "  else:\n",
        "    return f'{s}:Consonant'"
      ],
      "metadata": {
        "id": "JuuVzRE0ufNe"
      },
      "execution_count": null,
      "outputs": []
    },
    {
      "cell_type": "code",
      "source": [
        "list(map(_vowel_cons_check,'AlmaBetter'))"
      ],
      "metadata": {
        "colab": {
          "base_uri": "https://localhost:8080/"
        },
        "id": "ZuKxhlQlOgPq",
        "outputId": "86de7235-98ea-42c0-f8e0-49a988f1ab1d"
      },
      "execution_count": null,
      "outputs": [
        {
          "output_type": "execute_result",
          "data": {
            "text/plain": [
              "['A:Vowel',\n",
              " 'l:Consonant',\n",
              " 'm:Consonant',\n",
              " 'a:Vowel',\n",
              " 'B:Consonant',\n",
              " 'e:Vowel',\n",
              " 't:Consonant',\n",
              " 't:Consonant',\n",
              " 'e:Vowel',\n",
              " 'r:Consonant']"
            ]
          },
          "metadata": {},
          "execution_count": 10
        }
      ]
    },
    {
      "cell_type": "code",
      "source": [
        "list(map(_vowel_cons_check,'AlmaBetter')) # Address of where the values are stored"
      ],
      "metadata": {
        "colab": {
          "base_uri": "https://localhost:8080/"
        },
        "id": "ugeJDsfXO38B",
        "outputId": "46174941-5418-477d-d8eb-b5cb397a02da"
      },
      "execution_count": null,
      "outputs": [
        {
          "output_type": "execute_result",
          "data": {
            "text/plain": [
              "['A:Vowel',\n",
              " 'l:Consonant',\n",
              " 'm:Consonant',\n",
              " 'a:Vowel',\n",
              " 'B:Consonant',\n",
              " 'e:Vowel',\n",
              " 't:Consonant',\n",
              " 't:Consonant',\n",
              " 'e:Vowel',\n",
              " 'r:Consonant']"
            ]
          },
          "metadata": {},
          "execution_count": 13
        }
      ]
    },
    {
      "cell_type": "code",
      "source": [
        "tuple(map(_vowel_cons_check,'AlmaBetter'))"
      ],
      "metadata": {
        "colab": {
          "base_uri": "https://localhost:8080/"
        },
        "id": "MonqYSKpPENa",
        "outputId": "6590a2df-8f58-4be5-f338-99455d76ac39"
      },
      "execution_count": null,
      "outputs": [
        {
          "output_type": "execute_result",
          "data": {
            "text/plain": [
              "('A:Vowel',\n",
              " 'l:Consonant',\n",
              " 'm:Consonant',\n",
              " 'a:Vowel',\n",
              " 'B:Consonant',\n",
              " 'e:Vowel',\n",
              " 't:Consonant',\n",
              " 't:Consonant',\n",
              " 'e:Vowel',\n",
              " 'r:Consonant')"
            ]
          },
          "metadata": {},
          "execution_count": 14
        }
      ]
    },
    {
      "cell_type": "code",
      "source": [
        "set(map(_vowel_cons_check,'AlmaBetter'))"
      ],
      "metadata": {
        "colab": {
          "base_uri": "https://localhost:8080/"
        },
        "id": "gzZnzu0OPG6m",
        "outputId": "846bd421-2560-475a-a818-44caf5b5ebf7"
      },
      "execution_count": null,
      "outputs": [
        {
          "output_type": "execute_result",
          "data": {
            "text/plain": [
              "{'A:Vowel',\n",
              " 'B:Consonant',\n",
              " 'a:Vowel',\n",
              " 'e:Vowel',\n",
              " 'l:Consonant',\n",
              " 'm:Consonant',\n",
              " 'r:Consonant',\n",
              " 't:Consonant'}"
            ]
          },
          "metadata": {},
          "execution_count": 15
        }
      ]
    },
    {
      "cell_type": "code",
      "source": [
        "# Iterable : list, string, tuple, dict, set"
      ],
      "metadata": {
        "id": "NXfCwfMWPWEY"
      },
      "execution_count": null,
      "outputs": []
    },
    {
      "cell_type": "code",
      "source": [
        "# # Practice 3\n",
        "# Practice: get the Gender of the person\n",
        "\n",
        "def gender(name):\n",
        "  sal = name.split('.')[0]\n",
        "  if sal == 'Mr':\n",
        "    return {name:'Male'}\n",
        "  else:\n",
        "    return {name: 'Female'}\n",
        "\n",
        "\n",
        "# gender(name = 'Mr.John')\n",
        "_ex = ['Mr.John', 'Ms.Siya','Mrs.Tara','Mr.Tonny']\n",
        "list(map(gender,_ex)) # map function is mapping each value from _ex varibale to function gender"
      ],
      "metadata": {
        "colab": {
          "base_uri": "https://localhost:8080/"
        },
        "id": "Q1eknZExOQDR",
        "outputId": "edfeb659-eba4-4242-95c3-05c26e55573b"
      },
      "execution_count": null,
      "outputs": [
        {
          "output_type": "execute_result",
          "data": {
            "text/plain": [
              "[{'Mr.John': 'Male'},\n",
              " {'Ms.Siya': 'Female'},\n",
              " {'Mrs.Tara': 'Female'},\n",
              " {'Mr.Tonny': 'Male'}]"
            ]
          },
          "metadata": {},
          "execution_count": 16
        }
      ]
    },
    {
      "cell_type": "code",
      "source": [
        "# Practice 4\n",
        "# Output as type of all elements\n",
        "ex = [[2,3],(4),(5,),'Data',6.7,{5,6},{7:8,9:10}, True]\n",
        "# output : [list, int,tup, str,float,set,dict,bool]\n",
        "list(map(type,ex))"
      ],
      "metadata": {
        "colab": {
          "base_uri": "https://localhost:8080/"
        },
        "id": "fexwLJ8j849_",
        "outputId": "93b5dbfc-7ce7-48fb-d8e0-80c66562b9dd"
      },
      "execution_count": null,
      "outputs": [
        {
          "output_type": "execute_result",
          "data": {
            "text/plain": [
              "[list, int, tuple, str, float, set, dict, bool]"
            ]
          },
          "metadata": {},
          "execution_count": 18
        }
      ]
    },
    {
      "cell_type": "code",
      "source": [
        "# Practice 5\n",
        "# Storing comma separated input as list of items.\n",
        "n = input('Enter the numbers:')\n",
        "# 3,4,5,6,7\n",
        "n = n.split(',') # ['3', '4', '5', '6', '7']\n",
        "# print(n)\n",
        "list(map(eval, n)) # '3' --> eval('3') -->3, eval('4') --> 4..."
      ],
      "metadata": {
        "colab": {
          "base_uri": "https://localhost:8080/"
        },
        "id": "6ZWRPo3Rh22q",
        "outputId": "04010cc1-2275-4ca1-b369-60cb7fecf7a4"
      },
      "execution_count": null,
      "outputs": [
        {
          "name": "stdout",
          "output_type": "stream",
          "text": [
            "Enter the numbers:3,4,5,6.7,True\n"
          ]
        },
        {
          "output_type": "execute_result",
          "data": {
            "text/plain": [
              "[3, 4, 5, 6.7, True]"
            ]
          },
          "metadata": {},
          "execution_count": 23
        }
      ]
    },
    {
      "cell_type": "code",
      "source": [
        "type(eval('True')) #"
      ],
      "metadata": {
        "colab": {
          "base_uri": "https://localhost:8080/"
        },
        "id": "IHrNJ1JDSRk6",
        "outputId": "8648a686-87c2-4dc2-f181-7ef956d15536"
      },
      "execution_count": null,
      "outputs": [
        {
          "output_type": "execute_result",
          "data": {
            "text/plain": [
              "bool"
            ]
          },
          "metadata": {},
          "execution_count": 28
        }
      ]
    },
    {
      "cell_type": "code",
      "source": [
        "_dict = {1:2, 3:4} # [(1,2),(3,4)]\n",
        "# Multiply key & value\n",
        "\n",
        "def _multiply(n):\n",
        "  return n[0]*n[1]\n",
        "\n",
        "list(map(_multiply,_dict.items())) # iterable\n",
        "\n",
        "# print(_dict.items())"
      ],
      "metadata": {
        "colab": {
          "base_uri": "https://localhost:8080/"
        },
        "id": "e4iwSNLARFU-",
        "outputId": "4544bea0-e627-4d22-c6e9-5f4d331860a9"
      },
      "execution_count": null,
      "outputs": [
        {
          "output_type": "execute_result",
          "data": {
            "text/plain": [
              "[2, 12]"
            ]
          },
          "metadata": {},
          "execution_count": 26
        }
      ]
    },
    {
      "cell_type": "code",
      "source": [
        "# Limitations :\n",
        "# 1. Functions can be an aggregation"
      ],
      "metadata": {
        "id": "yiXb2aLcRzcg"
      },
      "execution_count": null,
      "outputs": []
    },
    {
      "cell_type": "code",
      "source": [
        "_list = [4,5,6,7,8,10] # 6 elements # Sum of even numbers # Aggregation | Map\n",
        "# Output : 6 elements"
      ],
      "metadata": {
        "id": "h_WDG9l8SdS4"
      },
      "execution_count": null,
      "outputs": []
    },
    {
      "cell_type": "code",
      "source": [
        "# Filter function\n",
        "# filter()\n",
        "# filter() is a built-in function that allows you to filter elements of an iterable\n",
        "#  (such as a list, tuple, or string) based on a certain condition.\n",
        "#  The filter() function returns an iterator containing only the elements for which the condition is True\n",
        "'''filter(function, iterable)'''\n",
        "\n",
        "# Note: Function must give the output as True or False"
      ],
      "metadata": {
        "id": "biMl2Y_XoTTa"
      },
      "execution_count": null,
      "outputs": []
    },
    {
      "cell_type": "code",
      "source": [
        "# Practice 1\n",
        "# keep the employees > 5000\n",
        "\n",
        "#\n",
        "def salary_filter(n):\n",
        "  if n > 5000:\n",
        "    return True\n",
        "  else:\n",
        "    return False\n",
        "\n",
        "ex = [8000,9000,7500,1000,2000,3000]\n",
        "list(filter(salary_filter,ex)) # Output is coming as False those values are filtered out"
      ],
      "metadata": {
        "id": "fKjjbQJcowVt",
        "colab": {
          "base_uri": "https://localhost:8080/"
        },
        "outputId": "5d08e754-7f5d-43d4-f518-f24981a41e39"
      },
      "execution_count": null,
      "outputs": [
        {
          "output_type": "execute_result",
          "data": {
            "text/plain": [
              "[8000, 9000, 7500]"
            ]
          },
          "metadata": {},
          "execution_count": 29
        }
      ]
    },
    {
      "cell_type": "code",
      "source": [
        "# Filter : Input : 6 elements != output will be filtered based on some logic\n",
        "# : Logic is driven by function\n",
        "# Filter will give the output where you iterator function is giving output as True\n",
        "# Filter : Function : True Or False|Boolean"
      ],
      "metadata": {
        "id": "rqQnr52FTINO"
      },
      "execution_count": null,
      "outputs": []
    },
    {
      "cell_type": "code",
      "source": [
        "# Practice 2\n",
        "# keep words having > 5 len\n",
        "\n",
        "# ['Science', 'AlmaBetter', 'Engineering', 'Machine']\n",
        "# Filter will only keep elements where function is giving True as an output\n",
        "\n",
        "def len_word(n):\n",
        "  return len(n) > 5 # True & False\n",
        "\n",
        "\n",
        "word = ['Data', 'Science', 'AlmaBetter', 'Engineering', 'Hi', 'Machine']\n",
        "list(filter(len_word,word))\n",
        "# Filter doesn't keep the data which are getting False as an output from Function\n"
      ],
      "metadata": {
        "colab": {
          "base_uri": "https://localhost:8080/"
        },
        "id": "646E0t5twaBn",
        "outputId": "322fe5fe-ef20-4ef3-9feb-97e4ab111e50"
      },
      "execution_count": null,
      "outputs": [
        {
          "output_type": "execute_result",
          "data": {
            "text/plain": [
              "['Science', 'AlmaBetter', 'Engineering', 'Machine']"
            ]
          },
          "metadata": {},
          "execution_count": 30
        }
      ]
    },
    {
      "cell_type": "code",
      "source": [
        "# Practice 3\n",
        "# Filter numbers which are perfect squares\n",
        "# Perfect square are number where\n",
        "# Square root is integer then it's a perfect number.\n",
        "\n",
        "# [4 , 16 , 9 , 64]\n",
        "\n",
        "# Hint : int(n ** (1/2)) == n ** (1/2) then perfect Square\n",
        "# filter will keep the value in the output if function gives True\n",
        "\n",
        "def perfect_square(n):\n",
        "  if int(n ** (1/2)) == n ** (1/2):\n",
        "    return True\n",
        "  else:\n",
        "    return False\n",
        "\n",
        "ex = [2, 4, 16 , 9 , 27, 64]\n",
        "list(filter(perfect_square, ex))"
      ],
      "metadata": {
        "id": "b0WrfuQUoq3-",
        "colab": {
          "base_uri": "https://localhost:8080/"
        },
        "outputId": "a06a3853-92f1-4ad3-ecf1-a9c8ecc43ae5"
      },
      "execution_count": null,
      "outputs": [
        {
          "output_type": "execute_result",
          "data": {
            "text/plain": [
              "[4, 16, 9, 64]"
            ]
          },
          "metadata": {},
          "execution_count": 32
        }
      ]
    },
    {
      "cell_type": "code",
      "source": [
        "# print from (1000, 2000)  --> all perfect squares\n",
        "def perfect_square(n):\n",
        "  if int(n ** (1/2)) == n ** (1/2):\n",
        "    return True\n",
        "  else:\n",
        "    return False\n",
        "\n",
        "a = 1000\n",
        "b = 2000\n",
        "ex = list(range(a,b+1))\n",
        "list(filter(perfect_square, ex))"
      ],
      "metadata": {
        "colab": {
          "base_uri": "https://localhost:8080/"
        },
        "id": "w29OZ1FPUa5p",
        "outputId": "b7e822e2-b3ed-4cf2-dbeb-5d050946a39c"
      },
      "execution_count": null,
      "outputs": [
        {
          "output_type": "execute_result",
          "data": {
            "text/plain": [
              "[1024, 1089, 1156, 1225, 1296, 1369, 1444, 1521, 1600, 1681, 1764, 1849, 1936]"
            ]
          },
          "metadata": {},
          "execution_count": 33
        }
      ]
    },
    {
      "cell_type": "code",
      "source": [
        "# List of prime number from a to b\n",
        "def isprime(n):\n",
        "  prime = True\n",
        "  for i in range(2,n):\n",
        "    if n%i == 0:\n",
        "      prime = False\n",
        "      break\n",
        "  return prime\n",
        "\n",
        "a = 1000\n",
        "b = 2000\n",
        "ex = range(a,b+1)\n",
        "list(filter(isprime,ex ))"
      ],
      "metadata": {
        "id": "_y5Qjecz1a8O"
      },
      "execution_count": null,
      "outputs": []
    },
    {
      "cell_type": "code",
      "source": [
        "# map & filter\n",
        "# map(function,iterable) : map give you the output of function\n",
        "# filter(function , iterable)# function must output in boolean (True/ False),\n",
        "# it gives you the output which are coming as True"
      ],
      "metadata": {
        "id": "9MXp2UvR1uy5"
      },
      "execution_count": null,
      "outputs": []
    },
    {
      "cell_type": "code",
      "source": [
        "def len_word(n):\n",
        "  return len(n) > 5 # True & False\n",
        "\n",
        "\n",
        "word = ['Data', 'Science', 'AlmaBetter', 'Engineering', 'Hi', 'Machine']\n",
        "list(filter(len_word,word))"
      ],
      "metadata": {
        "colab": {
          "base_uri": "https://localhost:8080/"
        },
        "id": "7_VjV_oeVYfG",
        "outputId": "e223fe48-096b-491b-dcf2-8ce2654c5745"
      },
      "execution_count": null,
      "outputs": [
        {
          "output_type": "execute_result",
          "data": {
            "text/plain": [
              "['Science', 'AlmaBetter', 'Engineering', 'Machine']"
            ]
          },
          "metadata": {},
          "execution_count": 36
        }
      ]
    },
    {
      "cell_type": "code",
      "source": [
        "def len_word(n):\n",
        "  return len(n) > 5 # True & False\n",
        "\n",
        "\n",
        "word = ['Data', 'Science', 'AlmaBetter', 'Engineering', 'Hi', 'Machine']\n",
        "list(map(len_word,word))"
      ],
      "metadata": {
        "colab": {
          "base_uri": "https://localhost:8080/"
        },
        "id": "OVsNGYQwV5MR",
        "outputId": "44f1f60c-96cf-46a9-d3da-3854c38f47b4"
      },
      "execution_count": null,
      "outputs": [
        {
          "output_type": "execute_result",
          "data": {
            "text/plain": [
              "[False, True, True, True, False, True]"
            ]
          },
          "metadata": {},
          "execution_count": 37
        }
      ]
    },
    {
      "cell_type": "code",
      "source": [
        "# lambda() Function\n",
        "# lambda\n",
        "\n",
        "# A lambda function is a small, anonymous function in Python that can take any number of arguments,\n",
        "# but can only have one expression.\n",
        "# Lambda functions are often used as a shortcut for creating simple, one-liner functions.\n",
        "\n",
        "def add_1(a):\n",
        "  return a+1\n",
        "\n",
        "add_1(a =5)\n"
      ],
      "metadata": {
        "id": "OPRMhbTVoWuI",
        "colab": {
          "base_uri": "https://localhost:8080/"
        },
        "outputId": "ecdc322f-9238-4ca3-8c1c-7899b5a806df"
      },
      "execution_count": null,
      "outputs": [
        {
          "output_type": "execute_result",
          "data": {
            "text/plain": [
              "6"
            ]
          },
          "metadata": {},
          "execution_count": 38
        }
      ]
    },
    {
      "cell_type": "code",
      "source": [
        "add_1_n = lambda a: a+1"
      ],
      "metadata": {
        "id": "59zI2XBCWchS"
      },
      "execution_count": null,
      "outputs": []
    },
    {
      "cell_type": "code",
      "source": [
        "add_1_n(2)"
      ],
      "metadata": {
        "colab": {
          "base_uri": "https://localhost:8080/"
        },
        "id": "T52B74LyWmSn",
        "outputId": "eff47f2b-db9b-448c-85fc-aae3d9554117"
      },
      "execution_count": null,
      "outputs": [
        {
          "output_type": "execute_result",
          "data": {
            "text/plain": [
              "3"
            ]
          },
          "metadata": {},
          "execution_count": 42
        }
      ]
    },
    {
      "cell_type": "code",
      "source": [
        "# A lambda function that adds two numbers\n",
        "\n",
        "_add = lambda a,b : a+b\n",
        "\n",
        "_add(2,3)\n",
        "\n",
        "# Non default/ default\n",
        "_add = lambda a,b=0 : a+b\n",
        "_add(2,4)\n",
        "# Non Default will come first then default arguments\n",
        "# _add = lambda a= 0,b : a+b\n",
        "# _add(2,4)"
      ],
      "metadata": {
        "id": "lL6WHhv_ovUX",
        "colab": {
          "base_uri": "https://localhost:8080/"
        },
        "outputId": "f69a85ed-e0db-45ec-9a37-f368bda30af9"
      },
      "execution_count": null,
      "outputs": [
        {
          "output_type": "execute_result",
          "data": {
            "text/plain": [
              "6"
            ]
          },
          "metadata": {},
          "execution_count": 45
        }
      ]
    },
    {
      "cell_type": "code",
      "source": [
        "_add = lambda a,b : a+b # 1 liner\n",
        "\n",
        "_add(a = [2,3,4,5],b = ['a','b','c']) # Concatenation of the list"
      ],
      "metadata": {
        "colab": {
          "base_uri": "https://localhost:8080/"
        },
        "id": "JvnUv0REXGm0",
        "outputId": "391a9b44-ff00-4a76-bac6-a3f85a0800b3"
      },
      "execution_count": null,
      "outputs": [
        {
          "output_type": "execute_result",
          "data": {
            "text/plain": [
              "[2, 3, 4, 5, 'a', 'b', 'c']"
            ]
          },
          "metadata": {},
          "execution_count": 47
        }
      ]
    },
    {
      "cell_type": "code",
      "source": [
        "# Practice 1\n",
        "# a ^ 2 + b ^ 2\n",
        "# lambda a,b :\n",
        "_square = lambda a,b : a**2 + b**2\n",
        "_square(2,3) # 4 + 9 = 14"
      ],
      "metadata": {
        "id": "APPlKZ9XaBv4",
        "colab": {
          "base_uri": "https://localhost:8080/"
        },
        "outputId": "f489ac0d-bee7-496f-ec16-29b2b5ce3460"
      },
      "execution_count": null,
      "outputs": [
        {
          "output_type": "execute_result",
          "data": {
            "text/plain": [
              "13"
            ]
          },
          "metadata": {},
          "execution_count": 48
        }
      ]
    },
    {
      "cell_type": "code",
      "source": [
        "# reduce : Aggregation : Using package you can do it. Better to use for / while directly"
      ],
      "metadata": {
        "id": "kW27V3q3Xmlc"
      },
      "execution_count": null,
      "outputs": []
    },
    {
      "cell_type": "code",
      "source": [
        "_ex = [(2,3), (4,5), (8,10)]\n",
        "\n",
        "list(map(lambda a : a[0]**2 + a[1]**2   ,_ex )) # (2,3)\n"
      ],
      "metadata": {
        "id": "QDBQ8gNaG7SI",
        "colab": {
          "base_uri": "https://localhost:8080/"
        },
        "outputId": "fccbb349-5918-4584-ee97-4347ea1ac28d"
      },
      "execution_count": null,
      "outputs": [
        {
          "output_type": "execute_result",
          "data": {
            "text/plain": [
              "[13, 41, 164]"
            ]
          },
          "metadata": {},
          "execution_count": 49
        }
      ]
    },
    {
      "cell_type": "code",
      "source": [
        "def square(a):\n",
        "  return a[0] **2 + a[1] **2\n",
        "\n",
        "list(map(square,_ex ))"
      ],
      "metadata": {
        "colab": {
          "base_uri": "https://localhost:8080/"
        },
        "id": "LrpqrovKY7C0",
        "outputId": "c2d56f1f-6205-4d45-f8a7-6816a84cad81"
      },
      "execution_count": null,
      "outputs": [
        {
          "output_type": "execute_result",
          "data": {
            "text/plain": [
              "[13, 41, 164]"
            ]
          },
          "metadata": {},
          "execution_count": 50
        }
      ]
    },
    {
      "cell_type": "code",
      "source": [
        "# Lambda & Filter\n",
        "\n",
        "# len(word) > 5| keep it\n",
        "\n",
        "word = ['Data', 'Science', 'AlmaBetter', 'Engineering', 'Hi', 'Machine']\n",
        "list(filter(lambda s: len(s)> 5, word)) # Filter function\n"
      ],
      "metadata": {
        "id": "JSXl_VmWad9c",
        "colab": {
          "base_uri": "https://localhost:8080/"
        },
        "outputId": "7e50f044-9737-4dc6-f6d3-bfcaf508bb4c"
      },
      "execution_count": null,
      "outputs": [
        {
          "output_type": "execute_result",
          "data": {
            "text/plain": [
              "['Science', 'AlmaBetter', 'Engineering', 'Machine']"
            ]
          },
          "metadata": {},
          "execution_count": 51
        }
      ]
    },
    {
      "cell_type": "code",
      "source": [
        "# Map & filter : Used to to do iterations on the iterables (String, list, tuple, Dict, Set)\n",
        "# Function : Custom, In built, Lambda\n",
        "# lambda arguments : output\n",
        "# lambda a,b : a+b"
      ],
      "metadata": {
        "id": "bVHiAch8aCMH"
      },
      "execution_count": null,
      "outputs": []
    },
    {
      "cell_type": "code",
      "source": [
        "_list = [2,4,5,6,7,8,9,11,12] # [4,16,36,64,144]\n",
        "\n",
        "list(map(lambda n: n**2, filter(lambda n: True if n %2 ==0 else False, _list)))\n"
      ],
      "metadata": {
        "colab": {
          "base_uri": "https://localhost:8080/"
        },
        "id": "WPVxtHhGaZkK",
        "outputId": "94b364cf-ff1a-4df8-f1da-ee448461e789"
      },
      "execution_count": null,
      "outputs": [
        {
          "output_type": "execute_result",
          "data": {
            "text/plain": [
              "[4, 16, 36, 64, 144]"
            ]
          },
          "metadata": {},
          "execution_count": 56
        }
      ]
    },
    {
      "cell_type": "code",
      "source": [
        "# Ternary Operator\n",
        "\n",
        "# Normal if else\n",
        "# if condition:\n",
        "#   if_result\n",
        "# else:\n",
        "#   else_result\n",
        "\n",
        "# One liner if else in python\n",
        "# if_result if condition else else_result\n",
        "# 'Even' if n%2 ==0 else \"Odd\" # one liner if-else\n",
        "# if n % 2 == 0:\n",
        "#     print('Even')\n",
        "#   else:\n",
        "#     print('Odd')\n",
        "# Select + ctrl + / (Comment & uncomment both)"
      ],
      "metadata": {
        "id": "NXBWgiRfWbMA"
      },
      "execution_count": null,
      "outputs": []
    },
    {
      "cell_type": "code",
      "source": [
        "# Practice 1\n",
        "# write a code where if num is even output True else False # lambda & ternary Operator\n",
        "\n",
        "_list = [3,45,67,58,92]\n",
        "# Only take out the even number\n",
        "# [58,92]\n",
        "# map or filter --> Filter\n",
        "# map --> you don't remove any element -- Input has 6 elements --output - 6 elements\n",
        "# filter --> You remove elements which function is giving as False\n",
        "\n",
        "\n",
        "list(filter(lambda n: True if n%2 ==0 else False, _list)) # Ternary Operator\n",
        "\n"
      ],
      "metadata": {
        "id": "kqUVSnMYozia",
        "colab": {
          "base_uri": "https://localhost:8080/"
        },
        "outputId": "2689223c-6caf-4cc2-d56c-5e56c6455669"
      },
      "execution_count": null,
      "outputs": [
        {
          "output_type": "execute_result",
          "data": {
            "text/plain": [
              "[58, 92]"
            ]
          },
          "metadata": {},
          "execution_count": 1
        }
      ]
    },
    {
      "cell_type": "code",
      "source": [
        "def even_odd(n):\n",
        "  if n%2 ==0:\n",
        "    return True\n",
        "  else:\n",
        "    return False\n",
        "\n",
        "list(filter(even_odd, _list)) # Ternary Operator\n",
        "\n",
        "# Map & Filter -- > For loop on the iterables\n",
        "# Function : One element as an input --> Output : One element as well"
      ],
      "metadata": {
        "colab": {
          "base_uri": "https://localhost:8080/"
        },
        "id": "K97qbfBzW22P",
        "outputId": "62f1cc8a-cdd6-496c-dc00-2004ff078b06"
      },
      "execution_count": null,
      "outputs": [
        {
          "output_type": "execute_result",
          "data": {
            "text/plain": [
              "[58, 92]"
            ]
          },
          "metadata": {},
          "execution_count": 2
        }
      ]
    },
    {
      "cell_type": "code",
      "source": [
        "# Practice 2\n",
        "# write a code where if character is vowel or consonant\n",
        "# ternary operator\n",
        "# one liner if -else\n",
        "\n",
        "char = input('Enter the character:')\n",
        "'Vowel' if char.lower() in 'aeiou' else 'Consonant' # Ternary Operator | if-else in one line"
      ],
      "metadata": {
        "id": "9GHTuLIY8nFk",
        "colab": {
          "base_uri": "https://localhost:8080/",
          "height": 52
        },
        "outputId": "1b17f344-3bee-4062-bf87-0e228cadad5c"
      },
      "execution_count": null,
      "outputs": [
        {
          "name": "stdout",
          "output_type": "stream",
          "text": [
            "Enter the character:e\n"
          ]
        },
        {
          "output_type": "execute_result",
          "data": {
            "text/plain": [
              "'Vowel'"
            ],
            "application/vnd.google.colaboratory.intrinsic+json": {
              "type": "string"
            }
          },
          "metadata": {},
          "execution_count": 5
        }
      ]
    },
    {
      "cell_type": "code",
      "source": [
        "#  Practice 3 :\n",
        "# word as input : remove all vowels from the name\n",
        "# Word = 'AlmaBetter' --> 'lmBttr'\n",
        "#join -> characters in list --> concat to get final string\n",
        "\n",
        "word = 'AlmaBetter'\n",
        "word_list = list(filter(lambda char : True if char.lower() not in 'aeiou' else False, word    ))\n",
        "# List to string --> .join()\n",
        "''.join(word_list)"
      ],
      "metadata": {
        "colab": {
          "base_uri": "https://localhost:8080/",
          "height": 35
        },
        "id": "e-6AvXaL622m",
        "outputId": "4e9e4bd1-ebb1-4f3c-db8e-c6380c93c3cd"
      },
      "execution_count": null,
      "outputs": [
        {
          "output_type": "execute_result",
          "data": {
            "text/plain": [
              "'lmBttr'"
            ],
            "application/vnd.google.colaboratory.intrinsic+json": {
              "type": "string"
            }
          },
          "metadata": {},
          "execution_count": 7
        }
      ]
    },
    {
      "cell_type": "code",
      "source": [
        "# Map\n",
        "# Filter\n",
        "# Lambda\n",
        "# Ternary Operator\n",
        "# Concept : Is it clear?? yes"
      ],
      "metadata": {
        "id": "Gr7HTvz1Zzgx"
      },
      "execution_count": null,
      "outputs": []
    },
    {
      "cell_type": "markdown",
      "source": [
        "#### Alternative to map and Filter"
      ],
      "metadata": {
        "id": "-bsc-4YWW0W5"
      }
    },
    {
      "cell_type": "code",
      "source": [
        "# List Comprehension\n",
        "# List comprehensions are a concise and powerful way to create lists in Python.\n",
        "# They allow you to create a new list by iterating over an existing iterable object, such as a list, tuple, or string,\n",
        "# and applying a condition or expression to each element.\n",
        "\n",
        "# [output for item in iterable if condition]\n",
        "\n",
        "\n"
      ],
      "metadata": {
        "id": "p6KqXCi8oat3"
      },
      "execution_count": null,
      "outputs": []
    },
    {
      "cell_type": "code",
      "source": [],
      "metadata": {
        "id": "HLel-Wl-3-92"
      },
      "execution_count": null,
      "outputs": []
    },
    {
      "cell_type": "code",
      "source": [
        "# [output for item in iterable if condition]"
      ],
      "metadata": {
        "id": "QB7G6qWC3-uE"
      },
      "execution_count": null,
      "outputs": []
    },
    {
      "cell_type": "code",
      "source": [
        "# Practice 1\n",
        "# Celsius to Fahrenheit : (x * 9/5) + 32\n",
        "# list comprehension\n",
        "celsius_temps = [0, 10, 20, 30, 40]\n",
        "# List comprehension : method 1 : List Comprehension\n",
        "\n",
        "[ round((i * 9/5) + 32) for i in celsius_temps ]\n",
        "# Each iteration : output will be appended in a single list"
      ],
      "metadata": {
        "id": "bng6EnVdpMoI",
        "colab": {
          "base_uri": "https://localhost:8080/"
        },
        "outputId": "5ba038f5-8279-4827-a475-e85d06589ce3"
      },
      "execution_count": null,
      "outputs": [
        {
          "output_type": "execute_result",
          "data": {
            "text/plain": [
              "[32, 50, 68, 86, 104]"
            ]
          },
          "metadata": {},
          "execution_count": 9
        }
      ]
    },
    {
      "cell_type": "code",
      "source": [
        "_out = []\n",
        "for i in celsius_temps:\n",
        "  f = round((i * 9/5) + 32)\n",
        "  _out.append(f)\n",
        "print(_out)\n",
        "\n"
      ],
      "metadata": {
        "colab": {
          "base_uri": "https://localhost:8080/"
        },
        "id": "PtRueCGlwEWR",
        "outputId": "82f59d40-6734-4dc8-d900-dde828966cc6"
      },
      "execution_count": null,
      "outputs": [
        {
          "output_type": "stream",
          "name": "stdout",
          "text": [
            "[32, 50, 68, 86, 104]\n"
          ]
        }
      ]
    },
    {
      "cell_type": "code",
      "source": [
        "# mehtod 3 : Using Map & lambda | Pythonic |\n",
        "list(map(lambda i:round((i * 9/5) + 32),celsius_temps ))"
      ],
      "metadata": {
        "colab": {
          "base_uri": "https://localhost:8080/"
        },
        "id": "F9B1E_eUw3_z",
        "outputId": "84c258d9-e67e-4ecc-cadf-10e040f32145"
      },
      "execution_count": null,
      "outputs": [
        {
          "output_type": "execute_result",
          "data": {
            "text/plain": [
              "[32, 50, 68, 86, 104]"
            ]
          },
          "metadata": {},
          "execution_count": 11
        }
      ]
    },
    {
      "cell_type": "code",
      "source": [
        "# method 4 : Using map & Function\n",
        "def c_to_f(n):\n",
        "  return round((n * 9/5) + 32)\n",
        "\n",
        "list(map(c_to_f,celsius_temps ))"
      ],
      "metadata": {
        "colab": {
          "base_uri": "https://localhost:8080/"
        },
        "id": "Fp1QXPMsxFqt",
        "outputId": "5d84da6f-a565-46e7-a418-c6a2bcdc4a0b"
      },
      "execution_count": null,
      "outputs": [
        {
          "output_type": "execute_result",
          "data": {
            "text/plain": [
              "[32, 50, 68, 86, 104]"
            ]
          },
          "metadata": {},
          "execution_count": 12
        }
      ]
    },
    {
      "cell_type": "code",
      "source": [
        "# Practice 2\n",
        "grades = [75, 45, 90, 30, 80, 55]\n",
        "# Filter grades greater than or equal to 60 using list comprehension\n",
        "# [output for item in iterable if condition]\n",
        "\n",
        "# method 1 using list comprehension\n",
        "[ i for i in grades if i >=60 ]"
      ],
      "metadata": {
        "id": "botdRsMGQxU7",
        "colab": {
          "base_uri": "https://localhost:8080/"
        },
        "outputId": "65ef7d63-ffc3-4d51-b353-8751da6858e5"
      },
      "execution_count": null,
      "outputs": [
        {
          "output_type": "execute_result",
          "data": {
            "text/plain": [
              "[75, 90, 80]"
            ]
          },
          "metadata": {},
          "execution_count": 13
        }
      ]
    },
    {
      "cell_type": "code",
      "source": [
        "# Method 2 :Using For loop & if- else\n",
        "_out = []\n",
        "for i in grades:\n",
        "  if i >=60:\n",
        "    _out.append(i)\n",
        "print(_out)"
      ],
      "metadata": {
        "id": "buFAq5-xyICn",
        "colab": {
          "base_uri": "https://localhost:8080/"
        },
        "outputId": "b89ff328-07a2-4eea-91be-0e1af9a29ab5"
      },
      "execution_count": null,
      "outputs": [
        {
          "output_type": "stream",
          "name": "stdout",
          "text": [
            "[75, 90, 80]\n"
          ]
        }
      ]
    },
    {
      "cell_type": "code",
      "source": [
        "# Method 3 : Filter\n",
        "def grade_check(n):\n",
        "  return n >=60\n",
        "\n",
        "list(filter(grade_check,grades))"
      ],
      "metadata": {
        "colab": {
          "base_uri": "https://localhost:8080/"
        },
        "id": "-HCzNg36yg6J",
        "outputId": "5c23cc05-cbb8-474b-f74c-eb9cde9da784"
      },
      "execution_count": null,
      "outputs": [
        {
          "output_type": "execute_result",
          "data": {
            "text/plain": [
              "[75, 90, 80]"
            ]
          },
          "metadata": {},
          "execution_count": 15
        }
      ]
    },
    {
      "cell_type": "code",
      "source": [
        "# Method 4 : lambda with filter\n",
        "list(filter(lambda n : n >=60, grades))"
      ],
      "metadata": {
        "colab": {
          "base_uri": "https://localhost:8080/"
        },
        "id": "fTsEGm9RzV37",
        "outputId": "e5984801-dc7f-48fc-f2ca-2c821adf0379"
      },
      "execution_count": null,
      "outputs": [
        {
          "output_type": "execute_result",
          "data": {
            "text/plain": [
              "[75, 90, 80]"
            ]
          },
          "metadata": {},
          "execution_count": 16
        }
      ]
    },
    {
      "cell_type": "code",
      "source": [
        "# Practice 3\n",
        "files = ['document.txt','image.png','movies.mp4', 'songs.mp3','file_txt.ipynb']\n",
        "# output all files other than .txt\n",
        "# ['image.png','movies.mp4', 'songs.mp3', 'file_txt.ipynb']\n",
        "# list comprehension\n",
        "\n",
        "# hint : .split() --> method\n",
        "# '.'.join(), _var.split('.')\n",
        "# # [output for item in iterable if condition]\n",
        "[ i for i in files if '.txt' not in i]"
      ],
      "metadata": {
        "id": "aGPQgcHEEYiP",
        "colab": {
          "base_uri": "https://localhost:8080/"
        },
        "outputId": "0f5f3ed0-ee74-4eb9-b773-d9584d28a9e1"
      },
      "execution_count": null,
      "outputs": [
        {
          "output_type": "execute_result",
          "data": {
            "text/plain": [
              "['image.png', 'movies.mp4', 'songs.mp3', 'file_txt.ipynb']"
            ]
          },
          "metadata": {},
          "execution_count": 17
        }
      ]
    },
    {
      "cell_type": "code",
      "source": [
        "# Filter & lambda\n",
        "list(filter(lambda n : '.txt' not in n, files))"
      ],
      "metadata": {
        "colab": {
          "base_uri": "https://localhost:8080/"
        },
        "id": "X_mnYT6BdIMd",
        "outputId": "4990a060-2d70-403d-f4ce-ef62e05143c2"
      },
      "execution_count": null,
      "outputs": [
        {
          "output_type": "execute_result",
          "data": {
            "text/plain": [
              "['image.png', 'movies.mp4', 'songs.mp3', 'file_txt.ipynb']"
            ]
          },
          "metadata": {},
          "execution_count": 18
        }
      ]
    },
    {
      "cell_type": "code",
      "source": [
        "# list(filter(lambda n : n if '.txt' not in n else 'None', files))\n",
        "# filter --> Function True or False"
      ],
      "metadata": {
        "colab": {
          "base_uri": "https://localhost:8080/"
        },
        "id": "7mcV9EcxdmbS",
        "outputId": "f4cee639-bf7a-434c-a1fb-dab77c84ac3a"
      },
      "execution_count": null,
      "outputs": [
        {
          "output_type": "execute_result",
          "data": {
            "text/plain": [
              "['document.txt', 'image.png', 'movies.mp4', 'songs.mp3', 'file_txt.ipynb']"
            ]
          },
          "metadata": {},
          "execution_count": 20
        }
      ]
    },
    {
      "cell_type": "code",
      "source": [
        "# x not in '.txt'\n",
        "# '.txt' not in x\n"
      ],
      "metadata": {
        "id": "trbad52GdUSn"
      },
      "execution_count": null,
      "outputs": []
    },
    {
      "cell_type": "code",
      "source": [
        "# Practice 4\n",
        "grades = [40,50, 60, 30, 80, 90, 70,95]\n",
        "# if  >=60 Pass, else Fail , output as list\n",
        "# ['fail','fail', 'pass'...]\n",
        "# if and else both\n",
        "['Pass' if i >=60 else 'Fail' for i in grades]\n",
        "\n",
        "#\n"
      ],
      "metadata": {
        "id": "5OaYbg38QBoB",
        "colab": {
          "base_uri": "https://localhost:8080/"
        },
        "outputId": "39536044-a5b3-412f-868d-2d94830484f1"
      },
      "execution_count": null,
      "outputs": [
        {
          "output_type": "execute_result",
          "data": {
            "text/plain": [
              "['Fail', 'Fail', 'Pass', 'Fail', 'Pass', 'Pass', 'Pass', 'Pass']"
            ]
          },
          "metadata": {},
          "execution_count": 21
        }
      ]
    },
    {
      "cell_type": "code",
      "source": [
        "# What changed in the above case?\n",
        "# if Condition : After for loop\n",
        "# [ final_output for i in iterable if condition]\n",
        "\n",
        "# If and else : before for loop\n",
        "# [final_if_output if condition else else_output for i in iterable ]"
      ],
      "metadata": {
        "id": "AKV5YDoi5_Ed"
      },
      "execution_count": null,
      "outputs": []
    },
    {
      "cell_type": "code",
      "source": [
        "# word = 'AlmaBetter'\n",
        "# # Question 1  : ['A','a', 'e', 'e'] # Vowels\n",
        "# # Question 2 : ['a', 'L', 'M', 'a', 'B', 'e', 'T', 'T', 'e', 'R' ]\n",
        "# # Vowels are in small and Consonants are in Capital\n",
        "word = 'AlmaBetter'\n",
        "# Question 1\n",
        "[i for i in word if i.lower() in 'aeiou']"
      ],
      "metadata": {
        "id": "Su23p-WF6gZi",
        "colab": {
          "base_uri": "https://localhost:8080/"
        },
        "outputId": "6d296609-db21-45e3-d833-e6010d37110c"
      },
      "execution_count": null,
      "outputs": [
        {
          "output_type": "execute_result",
          "data": {
            "text/plain": [
              "['A', 'a', 'e', 'e']"
            ]
          },
          "metadata": {},
          "execution_count": 22
        }
      ]
    },
    {
      "cell_type": "code",
      "source": [
        "# Question 2\n",
        "[i.lower() if i.lower() in 'aeiou' else i.upper() for i in word]"
      ],
      "metadata": {
        "colab": {
          "base_uri": "https://localhost:8080/"
        },
        "id": "BZGlscaXenH7",
        "outputId": "09087630-33cb-4a44-ac4a-29b4dd199441"
      },
      "execution_count": null,
      "outputs": [
        {
          "output_type": "execute_result",
          "data": {
            "text/plain": [
              "['a', 'L', 'M', 'a', 'B', 'e', 'T', 'T', 'e', 'R']"
            ]
          },
          "metadata": {},
          "execution_count": 23
        }
      ]
    },
    {
      "cell_type": "code",
      "source": [
        "# Question 1 :\n",
        "word = 'AlmaBetter'\n",
        "# output = ['A','a', 'e', 'e']\n"
      ],
      "metadata": {
        "colab": {
          "base_uri": "https://localhost:8080/"
        },
        "id": "cq0-0CXi8xwE",
        "outputId": "83d4dfae-74b9-416c-ba66-5c6a7ca4e015"
      },
      "execution_count": null,
      "outputs": [
        {
          "output_type": "execute_result",
          "data": {
            "text/plain": [
              "['A', 'a', 'e', 'e']"
            ]
          },
          "metadata": {},
          "execution_count": 49
        }
      ]
    },
    {
      "cell_type": "code",
      "source": [
        "# Question 2:\n",
        "word = 'AlmaBetter'\n",
        "# ['a', 'L', 'M', 'a', 'B', 'e', 'T', 'T', 'e', 'R' ]\n",
        "# # Vowels are in small and Consonants are in Capital\n",
        "\n"
      ],
      "metadata": {
        "colab": {
          "base_uri": "https://localhost:8080/"
        },
        "id": "ZD8TwA779HqF",
        "outputId": "881cc8a0-c107-4480-d874-87ebd2a46a5a"
      },
      "execution_count": null,
      "outputs": [
        {
          "output_type": "execute_result",
          "data": {
            "text/plain": [
              "['a', 'L', 'M', 'a', 'B', 'e', 'T', 'T', 'e', 'R']"
            ]
          },
          "metadata": {},
          "execution_count": 50
        }
      ]
    },
    {
      "cell_type": "code",
      "source": [
        "# Map & filter\n",
        "# list comprehension with only if condition : filter\n",
        "# [ i for i in iterable if i condition] -- Filter\n",
        "# list comprehension without if-else condition : map\n",
        "# [ i for i in iterable] -- Map\n",
        "# list comprehension with if-else condition : map\n",
        "# [i if condition else i for i in iterable] : map\n"
      ],
      "metadata": {
        "id": "ElQc6YdWHGd_"
      },
      "execution_count": null,
      "outputs": []
    },
    {
      "cell_type": "code",
      "source": [
        "# List comprehension\n",
        "# If condition : then it comes after for loop # filter\n",
        "# If and else both condition : then it comes before for loop # Map\n"
      ],
      "metadata": {
        "id": "Sv749BrVWXPn"
      },
      "execution_count": null,
      "outputs": []
    },
    {
      "cell_type": "code",
      "source": [
        "# List Comprehension : Output will be as list - [ Expression  ]\n",
        "# Set Comprehension : Output will be set - { Expression } | Unique Values"
      ],
      "metadata": {
        "id": "cHY8wTWRAmrG"
      },
      "execution_count": null,
      "outputs": []
    },
    {
      "cell_type": "code",
      "source": [
        "# Set Comprehension\n",
        "grades = [40,50, 60, 30, 80, 90, 70,95]\n",
        "# if  >=60 Pass, else Fail\n",
        "# {i for i in grades if i >=60}\n",
        "{'pass' if i>=60 else 'fail' for i in grades}\n",
        "# Set Comprehension --> Unique as set doesn't allow duplicates"
      ],
      "metadata": {
        "id": "2v2PMl_ApWKj",
        "colab": {
          "base_uri": "https://localhost:8080/"
        },
        "outputId": "6037a909-2ffe-45ac-da11-1734a6e2b5a3"
      },
      "execution_count": null,
      "outputs": [
        {
          "output_type": "execute_result",
          "data": {
            "text/plain": [
              "{'fail', 'pass'}"
            ]
          },
          "metadata": {},
          "execution_count": 67
        }
      ]
    },
    {
      "cell_type": "code",
      "source": [
        "# If condition : then it comes after for loop # filter\n",
        "# If and else both condition : then it comes before for loop # Map\n"
      ],
      "metadata": {
        "id": "amUP00ddYNBs"
      },
      "execution_count": null,
      "outputs": []
    },
    {
      "cell_type": "code",
      "source": [
        "grades = [40,50, 60, 30, 80, 90, 70,95]\n",
        "# if  >=60 Pass, else Fail\n",
        "# {i for i in grades if i >=60}\n",
        "['pass' if i>=60 else 'fail' for i in grades]"
      ],
      "metadata": {
        "id": "HosjkdjkpY2t",
        "colab": {
          "base_uri": "https://localhost:8080/"
        },
        "outputId": "62815570-aa3c-44cd-eb41-967a5417a3db"
      },
      "execution_count": null,
      "outputs": [
        {
          "output_type": "execute_result",
          "data": {
            "text/plain": [
              "['fail', 'fail', 'pass', 'fail', 'pass', 'pass', 'pass', 'pass']"
            ]
          },
          "metadata": {},
          "execution_count": 25
        }
      ]
    },
    {
      "cell_type": "code",
      "source": [
        "{'pass' if i>=60 else 'fail' for i in grades}"
      ],
      "metadata": {
        "colab": {
          "base_uri": "https://localhost:8080/"
        },
        "id": "v6rcIqa2gAgt",
        "outputId": "18531740-97d2-492a-fd0c-e7e7639f9997"
      },
      "execution_count": null,
      "outputs": [
        {
          "output_type": "execute_result",
          "data": {
            "text/plain": [
              "{'fail', 'pass'}"
            ]
          },
          "metadata": {},
          "execution_count": 26
        }
      ]
    },
    {
      "cell_type": "code",
      "source": [
        "# when set comprehention ? No duplicates -->"
      ],
      "metadata": {
        "id": "X46PwGV6gD38"
      },
      "execution_count": null,
      "outputs": []
    },
    {
      "cell_type": "code",
      "source": [
        "# Dictionary Comprehension : key and value pair\n",
        "\n",
        "ex = ['Data', 'Science', 'Almabetter', 'Python']\n",
        "# {'Data':4,'Science':7 ,...}\n",
        "\n",
        "{ i:len(i) for i in ex }\n"
      ],
      "metadata": {
        "id": "ExyLgSKnpdQ_",
        "colab": {
          "base_uri": "https://localhost:8080/"
        },
        "outputId": "151775ad-f2a2-496c-b01e-19ff017e81dd"
      },
      "execution_count": null,
      "outputs": [
        {
          "output_type": "execute_result",
          "data": {
            "text/plain": [
              "{'Data': 4, 'Science': 7, 'Almabetter': 10, 'Python': 6}"
            ]
          },
          "metadata": {},
          "execution_count": 27
        }
      ]
    },
    {
      "cell_type": "code",
      "source": [
        "_list = [2,3,4,5,6,7]\n",
        "# { 2:'Even',4:'Even....}\n",
        "\n",
        "{i:'Even' for i in _list if i % 2==0}"
      ],
      "metadata": {
        "colab": {
          "base_uri": "https://localhost:8080/"
        },
        "id": "RWAx3gF_gbQE",
        "outputId": "5df903bd-3b7c-421e-81d4-d75eef5b853c"
      },
      "execution_count": null,
      "outputs": [
        {
          "output_type": "execute_result",
          "data": {
            "text/plain": [
              "{2: 'Even', 4: 'Even', 6: 'Even'}"
            ]
          },
          "metadata": {},
          "execution_count": 28
        }
      ]
    },
    {
      "cell_type": "code",
      "source": [
        "# Dictionary Comprehention\n",
        "\n",
        "# { key:value for i in iterable if i condition}\n",
        "# {key:value if condition else value for i in iterable}"
      ],
      "metadata": {
        "id": "nLRYZzsmgyZM"
      },
      "execution_count": null,
      "outputs": []
    },
    {
      "cell_type": "code",
      "source": [
        "# { 2:'Even',3 :\"odd\",4:'Even....}\n",
        "{i:'Even' if i % 2==0 else 'Odd'   for i in _list}"
      ],
      "metadata": {
        "colab": {
          "base_uri": "https://localhost:8080/"
        },
        "id": "WqQIOLePgstG",
        "outputId": "e0585ef0-2a01-4a77-b7da-f58b047783a3"
      },
      "execution_count": null,
      "outputs": [
        {
          "output_type": "execute_result",
          "data": {
            "text/plain": [
              "{2: 'Even', 3: 'Odd', 4: 'Even', 5: 'Odd', 6: 'Even', 7: 'Odd'}"
            ]
          },
          "metadata": {},
          "execution_count": 29
        }
      ]
    },
    {
      "cell_type": "code",
      "source": [
        "# {i:'Even' if i % 2==0 else i:'Odd'   for i in _list} -- Wrong Expression for dictionary\n",
        "# {i:'Even' if i % 2==0 else 'Odd'   for i in _list} -- Right expression\n",
        "# key is written once and condition is applied on values"
      ],
      "metadata": {
        "id": "k47ZvVCXhNZw"
      },
      "execution_count": null,
      "outputs": []
    },
    {
      "cell_type": "code",
      "source": [
        "_var = ['A', '@', '$', '&', '*', '😇', '😁']\n",
        "# { 65 : 'A', 64: '@'...  }\n",
        "# Dictionary Comprehension -->\n",
        "{ord(i): i for i in _var}"
      ],
      "metadata": {
        "colab": {
          "base_uri": "https://localhost:8080/"
        },
        "id": "h9Z06WcQBWfo",
        "outputId": "81a472b9-999d-4df2-cd7c-0ae877988e36"
      },
      "execution_count": null,
      "outputs": [
        {
          "output_type": "execute_result",
          "data": {
            "text/plain": [
              "{65: 'A', 64: '@', 36: '$', 38: '&', 42: '*', 128519: '😇', 128513: '😁'}"
            ]
          },
          "metadata": {},
          "execution_count": 33
        }
      ]
    },
    {
      "cell_type": "code",
      "source": [],
      "metadata": {
        "id": "83g367tkiTvV"
      },
      "execution_count": null,
      "outputs": []
    },
    {
      "cell_type": "markdown",
      "source": [
        "#### Practice"
      ],
      "metadata": {
        "id": "FYmWZfaKPXfZ"
      }
    },
    {
      "cell_type": "code",
      "source": [
        "# Practice 1\n",
        "'''\n",
        "Question 1: Square Even Numbers\n",
        "Write a Python code that takes a list as an input and returns the squares of only the even numbers.\n",
        "Use the filter() function to filter even numbers, and the map() function to apply squaring.\n",
        "'''\n",
        "\n",
        "_list = [2,4,5,6,7,8,9]\n",
        "# Output : [4,16,36,64]\n",
        "\n",
        "even_numbers = list(filter(lambda x: x%2==0 , _list))\n",
        "list(map(lambda x: x**2, even_numbers))\n"
      ],
      "metadata": {
        "id": "4TGmxfd7pgq-",
        "colab": {
          "base_uri": "https://localhost:8080/"
        },
        "outputId": "cf7ab050-a666-4ebf-df94-8099d54196eb"
      },
      "execution_count": null,
      "outputs": [
        {
          "output_type": "execute_result",
          "data": {
            "text/plain": [
              "[4, 16, 36, 64]"
            ]
          },
          "metadata": {},
          "execution_count": 7
        }
      ]
    },
    {
      "cell_type": "code",
      "source": [
        "list(map(lambda x: x**2, list(filter(lambda x: x%2==0 , _list))))"
      ],
      "metadata": {
        "colab": {
          "base_uri": "https://localhost:8080/"
        },
        "id": "qmtlywwOhEEm",
        "outputId": "1c8982d7-63b8-46dc-824a-98f479fc27ed"
      },
      "execution_count": null,
      "outputs": [
        {
          "output_type": "execute_result",
          "data": {
            "text/plain": [
              "[4, 16, 36, 64]"
            ]
          },
          "metadata": {},
          "execution_count": 8
        }
      ]
    },
    {
      "cell_type": "code",
      "source": [
        "# Practice 2\n",
        "'''\n",
        "List Comprehension to Create Pairs\n",
        "Given a list of numbers, write a Python code that uses list comprehension\n",
        "to generate a new list of tuples, where each tuple contains a odd numbers and its square.\n",
        "input = [1, 2, 3, 4]  # Output: [(1, 1), (3, 9)]\n",
        "'''\n",
        "\n",
        "\n",
        "_list = [1,2,3,4]\n",
        "\n",
        "# List comprehension\n",
        "[ (i,i**2) for i in _list if i %2 !=0   ]\n"
      ],
      "metadata": {
        "colab": {
          "base_uri": "https://localhost:8080/"
        },
        "id": "IE8i9j6aSPtd",
        "outputId": "93a06184-22c9-4140-8ef5-fc9a1a778e27"
      },
      "execution_count": null,
      "outputs": [
        {
          "output_type": "execute_result",
          "data": {
            "text/plain": [
              "[(1, 1), (3, 9)]"
            ]
          },
          "metadata": {},
          "execution_count": 10
        }
      ]
    },
    {
      "cell_type": "code",
      "source": [
        "# Map or filter :\n",
        "# both\n",
        "list( map(lambda x: (x, x**2) ,list(filter(lambda x: x%2 !=0, _list)))) # Function used with filter : Output: Boolean"
      ],
      "metadata": {
        "colab": {
          "base_uri": "https://localhost:8080/"
        },
        "id": "AUwP4q37hgt5",
        "outputId": "f3f623d3-673f-4da1-a801-534d9a3028a8"
      },
      "execution_count": null,
      "outputs": [
        {
          "output_type": "execute_result",
          "data": {
            "text/plain": [
              "[(1, 1), (3, 9)]"
            ]
          },
          "metadata": {},
          "execution_count": 13
        }
      ]
    },
    {
      "cell_type": "code",
      "source": [
        "# Practice 3\n",
        "word = 'Engineering'\n",
        "# {} : set of Unique Vowels\n",
        "# Set comprehension\n",
        "\n",
        "''.join({ i for i in word if i.lower() in 'aeiou' })\n"
      ],
      "metadata": {
        "id": "IYbKt3IsSa8-",
        "colab": {
          "base_uri": "https://localhost:8080/",
          "height": 35
        },
        "outputId": "e2bac4cb-b532-48ea-8c69-e46ed4327098"
      },
      "execution_count": null,
      "outputs": [
        {
          "output_type": "execute_result",
          "data": {
            "text/plain": [
              "'iEe'"
            ],
            "application/vnd.google.colaboratory.intrinsic+json": {
              "type": "string"
            }
          },
          "metadata": {},
          "execution_count": 15
        }
      ]
    },
    {
      "cell_type": "code",
      "source": [
        "# Practice 4\n",
        "'''\n",
        "Question: Sorting a Dictionary by Values\n",
        "Given a dictionary where the keys are strings and the values are integers,\n",
        "write a Python function that sorts the dictionary by its values in ascending order.\n",
        "Use the sorted() function with a lambda expression.\n",
        "\n",
        "Example:\n",
        "\n",
        "my_dict = {'apple': 3, 'banana': 1, 'cherry': 2}\n",
        "\n",
        "# Your function here\n",
        "\n",
        "# Expected Output:\n",
        "# ['banana', 'cherry', 'apple'] # value\n",
        "Hint: You can pass a lambda function as the key argument to the sorted() function to sort by dictionary values.\n",
        "'''\n",
        "my_dict = {'cherry': 2,'apple': 3, 'banana': 1}\n",
        "sorted(my_dict.keys()) # Alphabetical order | By default it is taking keys\n",
        "# Sort the keys based on value\n",
        "\n",
        "list(dict(sorted(my_dict.items(), key = lambda x: x[1] )).keys()) # x : ('cherry', 2)\n",
        "\n",
        "\n",
        "\n"
      ],
      "metadata": {
        "id": "3OpL00jQLSHt",
        "colab": {
          "base_uri": "https://localhost:8080/"
        },
        "outputId": "1ba3d2da-5e54-49cd-da39-78d04e02159e"
      },
      "execution_count": null,
      "outputs": [
        {
          "output_type": "execute_result",
          "data": {
            "text/plain": [
              "['banana', 'cherry', 'apple']"
            ]
          },
          "metadata": {},
          "execution_count": 33
        }
      ]
    },
    {
      "cell_type": "code",
      "source": [
        "sorted(my_dict, key = lambda x: my_dict[x]) # x= 'banana', 'cherry', 'apple'\n",
        "# Hwo does it work"
      ],
      "metadata": {
        "colab": {
          "base_uri": "https://localhost:8080/"
        },
        "id": "MjMlj_2KnZqK",
        "outputId": "3064a990-02e5-471d-a35c-90dbb7dbfc06"
      },
      "execution_count": null,
      "outputs": [
        {
          "output_type": "execute_result",
          "data": {
            "text/plain": [
              "['banana', 'cherry', 'apple']"
            ]
          },
          "metadata": {},
          "execution_count": 34
        }
      ]
    },
    {
      "cell_type": "code",
      "source": [
        "sorted(my_dict, key = lambda x: x) # x= 'banana', 'cherry', 'apple'\n",
        "# Sorting Criteria : Key of dict\n",
        "# Alphabetical order"
      ],
      "metadata": {
        "colab": {
          "base_uri": "https://localhost:8080/"
        },
        "id": "pTgOzztEn5SG",
        "outputId": "bb26daad-91fd-4467-a59b-4d69214e653f"
      },
      "execution_count": null,
      "outputs": [
        {
          "output_type": "execute_result",
          "data": {
            "text/plain": [
              "['banana', 'cherry', 'apple']"
            ]
          },
          "metadata": {},
          "execution_count": 37
        }
      ]
    },
    {
      "cell_type": "code",
      "source": [
        "sorted(my_dict.keys(), key = lambda x: my_dict[x])"
      ],
      "metadata": {
        "colab": {
          "base_uri": "https://localhost:8080/"
        },
        "id": "lH85ZWfpnram",
        "outputId": "646bbc08-42dd-4595-efc7-40278daf52d1"
      },
      "execution_count": null,
      "outputs": [
        {
          "output_type": "execute_result",
          "data": {
            "text/plain": [
              "['banana', 'cherry', 'apple']"
            ]
          },
          "metadata": {},
          "execution_count": 35
        }
      ]
    },
    {
      "cell_type": "code",
      "source": [
        "my_dict.items()"
      ],
      "metadata": {
        "colab": {
          "base_uri": "https://localhost:8080/"
        },
        "id": "qkSfzalfkuUA",
        "outputId": "e568aa02-fdc6-43c6-db1f-a049ae2bac27"
      },
      "execution_count": null,
      "outputs": [
        {
          "output_type": "execute_result",
          "data": {
            "text/plain": [
              "dict_items([('cherry', 2), ('apple', 3), ('banana', 1)])"
            ]
          },
          "metadata": {},
          "execution_count": 20
        }
      ]
    },
    {
      "cell_type": "code",
      "source": [
        "sorted(my_dict.values())"
      ],
      "metadata": {
        "colab": {
          "base_uri": "https://localhost:8080/"
        },
        "id": "kZqJiBKPda4k",
        "outputId": "84c10820-b0b0-4758-9589-5ca7957a7d27"
      },
      "execution_count": null,
      "outputs": [
        {
          "output_type": "execute_result",
          "data": {
            "text/plain": [
              "[1, 2, 3]"
            ]
          },
          "metadata": {},
          "execution_count": 19
        }
      ]
    },
    {
      "cell_type": "code",
      "source": [
        "_list = [3,2,5,4,6]\n",
        "sorted(_list)"
      ],
      "metadata": {
        "colab": {
          "base_uri": "https://localhost:8080/"
        },
        "id": "hgFfe3NTkUpq",
        "outputId": "016a059c-93a0-425c-c855-e072b7d7c899"
      },
      "execution_count": null,
      "outputs": [
        {
          "output_type": "execute_result",
          "data": {
            "text/plain": [
              "[2, 3, 4, 5, 6]"
            ]
          },
          "metadata": {},
          "execution_count": 24
        }
      ]
    },
    {
      "cell_type": "code",
      "source": [
        "_dict = {'sam' : 28, 'Aryan':30, 'Rozy': 26}\n",
        "# ['Rozy' , 'Sam', 'Aryan']\n",
        "# Sorting has been done on keys based on values\n",
        "sorted(_dict.items(), key = lambda x: x[1]) # ('Aryan', 30) :x | x[1]: Value of dictionary"
      ],
      "metadata": {
        "colab": {
          "base_uri": "https://localhost:8080/"
        },
        "id": "tlpicpJYlMB6",
        "outputId": "fdec800f-651c-4f92-a0bf-994090cb0b3d"
      },
      "execution_count": null,
      "outputs": [
        {
          "output_type": "execute_result",
          "data": {
            "text/plain": [
              "[('Rozy', 26), ('sam', 28), ('Aryan', 30)]"
            ]
          },
          "metadata": {},
          "execution_count": 28
        }
      ]
    },
    {
      "cell_type": "code",
      "source": [
        "_dict.items()"
      ],
      "metadata": {
        "colab": {
          "base_uri": "https://localhost:8080/"
        },
        "id": "nkwyMMGFmQws",
        "outputId": "8bba90b2-bf4c-4d64-dbe6-4c01f22dbbdc"
      },
      "execution_count": null,
      "outputs": [
        {
          "output_type": "execute_result",
          "data": {
            "text/plain": [
              "dict_items([('sam', 28), ('Aryan', 30), ('Rozy', 26)])"
            ]
          },
          "metadata": {},
          "execution_count": 27
        }
      ]
    },
    {
      "cell_type": "code",
      "source": [
        "_list = [('Apple', 20, 0.5), ('Banana', 10, 0.15), ('Cherry', 30, 0.25)]\n",
        "\n",
        "# _list = [('Banana', 10, 0.15),  ('Cherry', 30, 0.25), ('Apple', 20, 0.5)]\n",
        "# Sorting Criteria : Discount 3rd element as 2nd index\n",
        "sorted(_list, key = lambda x: x[2], reverse = True)"
      ],
      "metadata": {
        "colab": {
          "base_uri": "https://localhost:8080/"
        },
        "id": "-zgcvPMgmQ_i",
        "outputId": "77bbb2ef-7a84-4e51-cf0f-bcb813084b75"
      },
      "execution_count": null,
      "outputs": [
        {
          "output_type": "execute_result",
          "data": {
            "text/plain": [
              "[('Apple', 20, 0.5), ('Cherry', 30, 0.25), ('Banana', 10, 0.15)]"
            ]
          },
          "metadata": {},
          "execution_count": 30
        }
      ]
    },
    {
      "cell_type": "code",
      "source": [
        "sorted(_list, key = lambda x: x[2])"
      ],
      "metadata": {
        "colab": {
          "base_uri": "https://localhost:8080/"
        },
        "id": "fzUoWr0_nHAf",
        "outputId": "fed81fcd-8b10-4d5a-974d-919e8c64ad83"
      },
      "execution_count": null,
      "outputs": [
        {
          "output_type": "execute_result",
          "data": {
            "text/plain": [
              "[('Banana', 10, 0.15), ('Cherry', 30, 0.25), ('Apple', 20, 0.5)]"
            ]
          },
          "metadata": {},
          "execution_count": 31
        }
      ]
    },
    {
      "cell_type": "code",
      "source": [
        "_list1 = ['a', 'b', 'c']\n",
        "_list2 = [63,32,56]\n",
        "\n",
        "# ['b', 'c', 'a'] : Sorting criteria is _list2\n",
        "\n",
        "list(dict(sorted(zip(_list1,_list2),key=lambda x: x[1])).keys())"
      ],
      "metadata": {
        "colab": {
          "base_uri": "https://localhost:8080/"
        },
        "id": "XYIqmHcynQR2",
        "outputId": "336ff0ac-80d1-4674-ed55-4fe72d086bc3"
      },
      "execution_count": null,
      "outputs": [
        {
          "output_type": "execute_result",
          "data": {
            "text/plain": [
              "['b', 'c', 'a']"
            ]
          },
          "metadata": {},
          "execution_count": 41
        }
      ]
    },
    {
      "cell_type": "code",
      "source": [],
      "metadata": {
        "id": "3GI74wPPo9xg"
      },
      "execution_count": null,
      "outputs": []
    }
  ]
}