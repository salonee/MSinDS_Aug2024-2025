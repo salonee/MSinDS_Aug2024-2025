{
  "cells": [
    {
      "cell_type": "markdown",
      "metadata": {
        "id": "view-in-github",
        "colab_type": "text"
      },
      "source": [
        "<a href=\"https://colab.research.google.com/github/salonee/MSinDS_Aug2024-2025/blob/main/6_OOPS_Concept_in_Python_13th_Oct.ipynb\" target=\"_parent\"><img src=\"https://colab.research.google.com/assets/colab-badge.svg\" alt=\"Open In Colab\"/></a>"
      ]
    },
    {
      "cell_type": "code",
      "execution_count": null,
      "metadata": {
        "id": "v9ElmkmP07be"
      },
      "outputs": [],
      "source": [
        "# OOPS : Object Oriented Programming\n",
        "# Class\n",
        "# ---> Structure of Class\n",
        "# Objects\n",
        "# variables : Class, Instance\n",
        "# Constructors (__init__) and self\n",
        "# Methods\n",
        "# --> Charactersitics / Properties\n",
        "# Encapsulation\n",
        "# Inheritance : super().__init__()\n",
        "# Polymorphism\n",
        "# Data Abstraction\n"
      ]
    },
    {
      "cell_type": "code",
      "execution_count": null,
      "metadata": {
        "id": "MXKuJ0UehsAS"
      },
      "outputs": [],
      "source": [
        "# Real world Use case of Class : Categorizing the functions to manage it effectively.\n",
        "# 1000s Function: Categorise it : using class\n",
        "# 10 function for getting the data from database : Class\n",
        "# 10-15 functions for cleaning data : Class\n",
        "# 10-15 functions for charts and visualisation : Class\n",
        "\n",
        "\n",
        "\n"
      ]
    },
    {
      "cell_type": "code",
      "execution_count": null,
      "metadata": {
        "id": "TGY8RnmJsOdV"
      },
      "outputs": [],
      "source": [
        "help(str)"
      ]
    },
    {
      "cell_type": "code",
      "execution_count": null,
      "metadata": {
        "id": "ip0MDcEBsRnV"
      },
      "outputs": [],
      "source": [
        "help(int)"
      ]
    },
    {
      "cell_type": "code",
      "execution_count": null,
      "metadata": {
        "id": "POpGV1Ewsb6Z"
      },
      "outputs": [],
      "source": [
        "help(object)"
      ]
    },
    {
      "cell_type": "code",
      "execution_count": null,
      "metadata": {
        "id": "NFGt5Deyt-Jf"
      },
      "outputs": [],
      "source": [
        "# Fundamental Understand of Python\n",
        "# Everything in Python is Object : Every code is written on top of Object class"
      ]
    },
    {
      "cell_type": "code",
      "execution_count": null,
      "metadata": {
        "id": "_M5AuRvdMMh-"
      },
      "outputs": [],
      "source": [
        "# def to define function : def is a keyword\n",
        "# class to define the class : class is a keyword\n"
      ]
    },
    {
      "cell_type": "code",
      "execution_count": null,
      "metadata": {
        "id": "FckPRPRc_Z9A"
      },
      "outputs": [],
      "source": [
        "# Class : Blueprint to create the object\n",
        "\n",
        "class house:\n",
        "   pass\n",
        "# pass : Written it as a placeholder, dont; throw error right now, later code will be added\n",
        "# trying to create a blueprint which will help me build houses.\n"
      ]
    },
    {
      "cell_type": "code",
      "execution_count": null,
      "metadata": {
        "id": "3EvnOF9MM3M7"
      },
      "outputs": [],
      "source": [
        "# def abc():\n",
        "#   pass # placeholder"
      ]
    },
    {
      "cell_type": "code",
      "execution_count": null,
      "metadata": {
        "id": "o_I91IZs_emb"
      },
      "outputs": [],
      "source": [
        "# Objects : Entities created using class\n",
        "\n",
        "house1 = house() # Initiating the object : Creating the object\n",
        "house2 = house()\n",
        "# house1 and house2 are the object created using the blueprint / class house.\n"
      ]
    },
    {
      "cell_type": "code",
      "execution_count": null,
      "metadata": {
        "id": "EDuXZF0KJCut"
      },
      "outputs": [],
      "source": [
        "class house:\n",
        "  design = 'Urban'"
      ]
    },
    {
      "cell_type": "code",
      "execution_count": null,
      "metadata": {
        "id": "lPKq2BdJwjgP"
      },
      "outputs": [],
      "source": [
        "house1 = house() # Initiating the object : Creating the object\n",
        "house2 = house()"
      ]
    },
    {
      "cell_type": "code",
      "execution_count": null,
      "metadata": {
        "id": "vkZIwrAB_e-a"
      },
      "outputs": [],
      "source": [
        "# variables : characteristics based on which objects will differ\n",
        "\n",
        "# Class variable\n",
        "# Instance Variable\n",
        "\n",
        "class house:\n",
        "  house_design = 'urban' # Class Variables : Constant across all objects | To define the blueprint\n"
      ]
    },
    {
      "cell_type": "code",
      "execution_count": null,
      "metadata": {
        "id": "KaYTyiDyxYNS"
      },
      "outputs": [],
      "source": [
        "house1 = house()"
      ]
    },
    {
      "cell_type": "code",
      "execution_count": null,
      "metadata": {
        "id": "Ry1huDLYxbSG"
      },
      "outputs": [],
      "source": [
        "house2 = house()"
      ]
    },
    {
      "cell_type": "code",
      "execution_count": null,
      "metadata": {
        "colab": {
          "base_uri": "https://localhost:8080/",
          "height": 35
        },
        "id": "DSnQUyLIxcqE",
        "outputId": "6200a274-73d8-4b80-9cce-c1f5d16e32af"
      },
      "outputs": [
        {
          "data": {
            "application/vnd.google.colaboratory.intrinsic+json": {
              "type": "string"
            },
            "text/plain": [
              "'urban'"
            ]
          },
          "execution_count": 14,
          "metadata": {},
          "output_type": "execute_result"
        }
      ],
      "source": [
        "house1.house_design"
      ]
    },
    {
      "cell_type": "code",
      "execution_count": null,
      "metadata": {
        "colab": {
          "base_uri": "https://localhost:8080/",
          "height": 35
        },
        "id": "Tn_Zu09sxf3R",
        "outputId": "2699f337-ae08-4e30-e0e2-1032e715d965"
      },
      "outputs": [
        {
          "data": {
            "application/vnd.google.colaboratory.intrinsic+json": {
              "type": "string"
            },
            "text/plain": [
              "'urban'"
            ]
          },
          "execution_count": 15,
          "metadata": {},
          "output_type": "execute_result"
        }
      ],
      "source": [
        "house2.house_design"
      ]
    },
    {
      "cell_type": "code",
      "execution_count": null,
      "metadata": {
        "id": "BzBhb4PJlnaX"
      },
      "outputs": [],
      "source": [
        "# TO access the value of variable in the object\n",
        "# Sytax :\n",
        "# object_name.variable_name\n"
      ]
    },
    {
      "cell_type": "code",
      "execution_count": null,
      "metadata": {
        "id": "ojSYymsKLo0n"
      },
      "outputs": [],
      "source": [
        "class homo_sapiens:\n",
        "  no_of_eyes = 2\n",
        "  no_of_ears = 2\n",
        "  no_of_mouth = 1\n",
        "\n",
        "# These variables are constant across all objects\n",
        "# these are my class variables."
      ]
    },
    {
      "cell_type": "code",
      "execution_count": null,
      "metadata": {
        "id": "W7XmrvNVMRq5"
      },
      "outputs": [],
      "source": [
        "p1 = homo_sapiens()\n",
        "p2 = homo_sapiens()"
      ]
    },
    {
      "cell_type": "code",
      "execution_count": null,
      "metadata": {
        "colab": {
          "base_uri": "https://localhost:8080/"
        },
        "id": "7LX7K7v9x9WG",
        "outputId": "fe10dcfb-acda-4bd3-974d-4072cb6cbbf1"
      },
      "outputs": [
        {
          "data": {
            "text/plain": [
              "2"
            ]
          },
          "execution_count": 18,
          "metadata": {},
          "output_type": "execute_result"
        }
      ],
      "source": [
        "p1.no_of_ears"
      ]
    },
    {
      "cell_type": "code",
      "execution_count": null,
      "metadata": {
        "colab": {
          "base_uri": "https://localhost:8080/"
        },
        "id": "VI2AX7Evx--J",
        "outputId": "89cf9cf5-4083-4728-c64a-b3c7ea73f0f7"
      },
      "outputs": [
        {
          "data": {
            "text/plain": [
              "2"
            ]
          },
          "execution_count": 19,
          "metadata": {},
          "output_type": "execute_result"
        }
      ],
      "source": [
        "p2.no_of_ears"
      ]
    },
    {
      "cell_type": "code",
      "execution_count": null,
      "metadata": {
        "id": "bTkLbzYzPEj_"
      },
      "outputs": [],
      "source": [
        "class bankaccount:\n",
        "  bank_name = 'SBI'\n",
        "  IFSC_code = 'SBIN00000'\n"
      ]
    },
    {
      "cell_type": "code",
      "execution_count": null,
      "metadata": {
        "id": "ivSUjcgxPLVh"
      },
      "outputs": [],
      "source": [
        "p1 = bankaccount()\n",
        "p2 = bankaccount()"
      ]
    },
    {
      "cell_type": "code",
      "execution_count": null,
      "metadata": {
        "colab": {
          "base_uri": "https://localhost:8080/",
          "height": 35
        },
        "id": "aAHKucWtPO4W",
        "outputId": "d0aaa693-93cd-4322-f89a-bbedb58eabb4"
      },
      "outputs": [
        {
          "data": {
            "application/vnd.google.colaboratory.intrinsic+json": {
              "type": "string"
            },
            "text/plain": [
              "'SBI'"
            ]
          },
          "execution_count": 25,
          "metadata": {},
          "output_type": "execute_result"
        }
      ],
      "source": [
        "p1.bank_name # class variable"
      ]
    },
    {
      "cell_type": "code",
      "execution_count": null,
      "metadata": {
        "colab": {
          "base_uri": "https://localhost:8080/",
          "height": 35
        },
        "id": "c_tFXxhuPSMU",
        "outputId": "9f246e2b-d7b2-4770-e94f-6a0870d94532"
      },
      "outputs": [
        {
          "data": {
            "application/vnd.google.colaboratory.intrinsic+json": {
              "type": "string"
            },
            "text/plain": [
              "'SBI'"
            ]
          },
          "execution_count": 26,
          "metadata": {},
          "output_type": "execute_result"
        }
      ],
      "source": [
        "p2.bank_name # Class variable"
      ]
    },
    {
      "cell_type": "code",
      "execution_count": null,
      "metadata": {
        "id": "PDkzVRI3l5HJ"
      },
      "outputs": [],
      "source": [
        "# Instance variable\n",
        "class homo_sapiens:\n",
        "  no_of_eyes = 2 # Class variable\n",
        "  no_of_ears = 2\n",
        "  no_of_hands = 2\n",
        "  no_of_legs = 2\n",
        "  no_of_mouth = 1\n",
        "  no_of_bones = 206\n",
        "\n",
        "  def __init__(self,color_of_skin, color_of_eyes):\n",
        "    self.color_of_skin = color_of_skin\n",
        "    self.color_of_eyes = color_of_eyes\n",
        "\n"
      ]
    },
    {
      "cell_type": "code",
      "execution_count": null,
      "metadata": {
        "id": "yV_qtuXUyYNE"
      },
      "outputs": [],
      "source": [
        "p1 = homo_sapiens(color_of_skin = 'Brown', color_of_eyes = 'Black')\n",
        "p2 = homo_sapiens(color_of_skin = 'White', color_of_eyes = 'Blue')"
      ]
    },
    {
      "cell_type": "code",
      "execution_count": null,
      "metadata": {
        "colab": {
          "base_uri": "https://localhost:8080/"
        },
        "id": "EXNktstSylx-",
        "outputId": "4deadf32-8159-465e-8ae4-48657fcc9063"
      },
      "outputs": [
        {
          "data": {
            "text/plain": [
              "2"
            ]
          },
          "execution_count": 22,
          "metadata": {},
          "output_type": "execute_result"
        }
      ],
      "source": [
        "# Class vs Instance Variable\n",
        "p1.no_of_ears # Class Variable"
      ]
    },
    {
      "cell_type": "code",
      "execution_count": null,
      "metadata": {
        "colab": {
          "base_uri": "https://localhost:8080/"
        },
        "id": "q7G8Stxbypzp",
        "outputId": "8b0b0866-0849-4a56-df47-9d88058bd5c4"
      },
      "outputs": [
        {
          "data": {
            "text/plain": [
              "2"
            ]
          },
          "execution_count": 23,
          "metadata": {},
          "output_type": "execute_result"
        }
      ],
      "source": [
        "p2.no_of_ears # Class Variable"
      ]
    },
    {
      "cell_type": "code",
      "execution_count": null,
      "metadata": {
        "colab": {
          "base_uri": "https://localhost:8080/",
          "height": 35
        },
        "id": "TXqM3M-8yvB6",
        "outputId": "773f59b6-8b4b-49a1-d50d-0959bd605a79"
      },
      "outputs": [
        {
          "data": {
            "application/vnd.google.colaboratory.intrinsic+json": {
              "type": "string"
            },
            "text/plain": [
              "'Brown'"
            ]
          },
          "execution_count": 24,
          "metadata": {},
          "output_type": "execute_result"
        }
      ],
      "source": [
        "p1.color_of_skin # Instance Variable"
      ]
    },
    {
      "cell_type": "code",
      "execution_count": null,
      "metadata": {
        "colab": {
          "base_uri": "https://localhost:8080/",
          "height": 35
        },
        "id": "aFAWZKLXywzc",
        "outputId": "4b0fdc42-7268-4378-cd34-c9945f364dba"
      },
      "outputs": [
        {
          "data": {
            "application/vnd.google.colaboratory.intrinsic+json": {
              "type": "string"
            },
            "text/plain": [
              "'White'"
            ]
          },
          "execution_count": 25,
          "metadata": {},
          "output_type": "execute_result"
        }
      ],
      "source": [
        "p2.color_of_skin # Instance Variable"
      ]
    },
    {
      "cell_type": "code",
      "execution_count": null,
      "metadata": {
        "id": "6rAZz4VIzRGq"
      },
      "outputs": [],
      "source": []
    },
    {
      "cell_type": "code",
      "execution_count": null,
      "metadata": {
        "id": "krIujrNmzREE"
      },
      "outputs": [],
      "source": []
    },
    {
      "cell_type": "code",
      "execution_count": null,
      "metadata": {
        "id": "Jr86zbwjyzJ9"
      },
      "outputs": [],
      "source": [
        "# Class Variables : Constant across all Objects\n",
        "# Instance Variables : Different for all objects"
      ]
    },
    {
      "cell_type": "code",
      "execution_count": null,
      "metadata": {
        "id": "2oYOhUegy9zw"
      },
      "outputs": [],
      "source": [
        "# __init__ & Self\n",
        "\n",
        "# __init__ : Constructor Method : It creates the object with the instance varibale | helps you initialise the object"
      ]
    },
    {
      "cell_type": "code",
      "execution_count": null,
      "metadata": {
        "id": "N77vMRHozgHT"
      },
      "outputs": [],
      "source": [
        "class house:\n",
        "  design = 'Urban' # Class variable\n",
        "\n",
        "  def __init__(self, bhk, pool_size):\n",
        "    self.bhk = bhk\n",
        "    self.pool_size = pool_size"
      ]
    },
    {
      "cell_type": "code",
      "execution_count": null,
      "metadata": {
        "colab": {
          "base_uri": "https://localhost:8080/"
        },
        "id": "S-iTdFmSzyyq",
        "outputId": "7d71b79f-f520-4ec0-c2ce-0734f0ee6514"
      },
      "outputs": [
        {
          "name": "stdout",
          "output_type": "stream",
          "text": [
            "2\n",
            "200\n"
          ]
        }
      ],
      "source": [
        "bhk = int(input())\n",
        "pool_size = int(input())\n",
        "house1 = house(bhk, pool_size) # Instance Variable"
      ]
    },
    {
      "cell_type": "code",
      "execution_count": null,
      "metadata": {
        "id": "7tvmNFxn0CLE"
      },
      "outputs": [],
      "source": [
        "house2 = house(bhk = 3, pool_size = 300)"
      ]
    },
    {
      "cell_type": "code",
      "execution_count": null,
      "metadata": {
        "colab": {
          "base_uri": "https://localhost:8080/"
        },
        "id": "aQZIQZvR0Wj_",
        "outputId": "709816a2-3c77-451c-e2c7-2c84713fc45c"
      },
      "outputs": [
        {
          "data": {
            "text/plain": [
              "2"
            ]
          },
          "execution_count": 30,
          "metadata": {},
          "output_type": "execute_result"
        }
      ],
      "source": [
        "house1.bhk # Instance Variable"
      ]
    },
    {
      "cell_type": "code",
      "execution_count": null,
      "metadata": {
        "colab": {
          "base_uri": "https://localhost:8080/"
        },
        "id": "7CYSS__R0ZBd",
        "outputId": "92be85f3-219a-4a5a-beea-eaf9a1acff14"
      },
      "outputs": [
        {
          "data": {
            "text/plain": [
              "3"
            ]
          },
          "execution_count": 31,
          "metadata": {},
          "output_type": "execute_result"
        }
      ],
      "source": [
        "house2.bhk # Instance Variable"
      ]
    },
    {
      "cell_type": "code",
      "execution_count": null,
      "metadata": {
        "id": "apwY7DcT0w6o"
      },
      "outputs": [],
      "source": [
        "class house:\n",
        "  design = 'Urban' # Class variable\n",
        "\n",
        "  def __init__(self, bhk, pool_size):\n",
        "    self.b = bhk\n",
        "    self.p = pool_size\n",
        "\n",
        "  def pool_info(self, color): # self --> Inheriting the global variables | Mandatory\n",
        "    print(f'House has the pool with area {self.p} and color {color}')\n",
        "    self.c = color\n",
        "\n",
        "  def house_info(self):\n",
        "    print(f'House is of {self.b}BHK and Pool color {self.c}')"
      ]
    },
    {
      "cell_type": "code",
      "execution_count": null,
      "metadata": {
        "id": "aIojFkJk1kbe"
      },
      "outputs": [],
      "source": [
        "h1 = house(bhk =2, pool_size = 200)\n",
        "h2 = house(bhk = 3, pool_size = 300)"
      ]
    },
    {
      "cell_type": "code",
      "execution_count": null,
      "metadata": {
        "id": "iiO4iimy3ldV"
      },
      "outputs": [],
      "source": []
    },
    {
      "cell_type": "code",
      "execution_count": null,
      "metadata": {
        "colab": {
          "base_uri": "https://localhost:8080/"
        },
        "id": "-g1UxLwl1q7b",
        "outputId": "77e608e0-a339-40f6-ab74-b61166ac23b0"
      },
      "outputs": [
        {
          "data": {
            "text/plain": [
              "2"
            ]
          },
          "execution_count": 67,
          "metadata": {},
          "output_type": "execute_result"
        }
      ],
      "source": [
        "h1.b"
      ]
    },
    {
      "cell_type": "code",
      "execution_count": null,
      "metadata": {
        "colab": {
          "base_uri": "https://localhost:8080/"
        },
        "id": "kcbCCZP611FX",
        "outputId": "13864628-cade-450c-c2a9-87139cd4f982"
      },
      "outputs": [
        {
          "data": {
            "text/plain": [
              "200"
            ]
          },
          "execution_count": 68,
          "metadata": {},
          "output_type": "execute_result"
        }
      ],
      "source": [
        "h1.p"
      ]
    },
    {
      "cell_type": "code",
      "execution_count": null,
      "metadata": {
        "colab": {
          "base_uri": "https://localhost:8080/"
        },
        "id": "D911wXGg2CIp",
        "outputId": "0e8dac1f-e6ea-4cdd-b25a-6d0681807577"
      },
      "outputs": [
        {
          "name": "stdout",
          "output_type": "stream",
          "text": [
            "House has the pool with area 200 and color Blue\n"
          ]
        }
      ],
      "source": [
        "h1.pool_info(color = 'Blue')"
      ]
    },
    {
      "cell_type": "code",
      "execution_count": null,
      "metadata": {
        "colab": {
          "base_uri": "https://localhost:8080/"
        },
        "id": "RWpNkqBf2PNB",
        "outputId": "d45b040d-fc67-49f7-a94a-f5a3d31907c7"
      },
      "outputs": [
        {
          "name": "stdout",
          "output_type": "stream",
          "text": [
            "House is of 2BHK and Pool color Blue\n"
          ]
        }
      ],
      "source": [
        "h1.house_info()"
      ]
    },
    {
      "cell_type": "code",
      "execution_count": null,
      "metadata": {
        "id": "XEHbpElgO-ok"
      },
      "outputs": [],
      "source": [
        "# self :\n",
        "# container which stores the values\n",
        "# and can be used later in all the functions inside the class | Method"
      ]
    },
    {
      "cell_type": "code",
      "execution_count": null,
      "metadata": {
        "id": "MhJkbcyN3YtI"
      },
      "outputs": [],
      "source": [
        "class house:\n",
        "  design = 'Urban' # Class variable\n",
        "\n",
        "  def __init__(abc, bhk, pool_size):\n",
        "    abc.b = bhk\n",
        "    abc.p = pool_size\n",
        "\n",
        "  def pool_info(abc, color): # self --> Inheriting the global variables | Mandatory\n",
        "    print(f'House has the pool with area {abc.p} and color {color}')\n",
        "    abc.c = color\n",
        "\n",
        "  def house_info(abc):\n",
        "    print(f'House is of {abc.b}BHK')\n",
        "\n",
        "  def interesting_case(abc):\n",
        "    abc.house_info()\n"
      ]
    },
    {
      "cell_type": "code",
      "execution_count": null,
      "metadata": {
        "id": "vt7u2RIg3kmH"
      },
      "outputs": [],
      "source": [
        "h1 = house(bhk =2, pool_size = 200)\n",
        "h2 = house(bhk = 3, pool_size = 300)"
      ]
    },
    {
      "cell_type": "code",
      "execution_count": null,
      "metadata": {
        "colab": {
          "base_uri": "https://localhost:8080/"
        },
        "id": "8tkloKOn4GBM",
        "outputId": "dea9d1dc-ac2d-4974-cdd4-507a7b962303"
      },
      "outputs": [
        {
          "name": "stdout",
          "output_type": "stream",
          "text": [
            "House is of 2BHK\n"
          ]
        }
      ],
      "source": [
        "h1.interesting_case()"
      ]
    },
    {
      "cell_type": "code",
      "execution_count": null,
      "metadata": {
        "colab": {
          "base_uri": "https://localhost:8080/"
        },
        "id": "Dc4aB2213oUA",
        "outputId": "f2bb5d42-0a41-4b00-8bff-266ce18b65f2"
      },
      "outputs": [
        {
          "name": "stdout",
          "output_type": "stream",
          "text": [
            "House has the pool with area 200 and color Blue\n"
          ]
        }
      ],
      "source": [
        "h1.pool_info(color = 'Blue')"
      ]
    },
    {
      "cell_type": "code",
      "execution_count": null,
      "metadata": {
        "id": "leXTwM5M3rv3"
      },
      "outputs": [],
      "source": [
        "class pnc:\n",
        "  def __init__(self,n, r):\n",
        "    self.n = n\n",
        "    self.r = r\n",
        "\n",
        "  def factorial(self,i):\n",
        "    _fact = 1\n",
        "    for i in range(1,i+1):\n",
        "      _fact*=i\n",
        "    return _fact\n",
        "\n",
        "  def permutation(self):\n",
        "    return self.factorial(self.n)/self.factorial(self.n - self.r)\n",
        "\n",
        "  def combination(self):\n",
        "    return self.factorial(self.n)/self.factorial(self.n - self.r)/self.factorial(self.r)\n"
      ]
    },
    {
      "cell_type": "code",
      "execution_count": null,
      "metadata": {
        "id": "SIy8AfXh5MFz"
      },
      "outputs": [],
      "source": [
        "p = pnc(n = 4, r = 2)"
      ]
    },
    {
      "cell_type": "code",
      "execution_count": null,
      "metadata": {
        "colab": {
          "base_uri": "https://localhost:8080/"
        },
        "id": "LmhoIwWF5P4l",
        "outputId": "60c63e87-338c-449a-aa1d-11c1898fe4e6"
      },
      "outputs": [
        {
          "data": {
            "text/plain": [
              "12.0"
            ]
          },
          "execution_count": 85,
          "metadata": {},
          "output_type": "execute_result"
        }
      ],
      "source": [
        "p.permutation()"
      ]
    },
    {
      "cell_type": "code",
      "execution_count": null,
      "metadata": {
        "colab": {
          "background_save": true
        },
        "id": "6JUaGgzU5ZF1"
      },
      "outputs": [],
      "source": [
        "class pnc:\n",
        "  # def __init__(self,n, r):\n",
        "  #   self.n = n\n",
        "  #   self.r = r\n",
        "\n",
        "  def factorial(self,i):\n",
        "    _fact = 1\n",
        "    for i in range(1,i+1):\n",
        "      _fact*=i\n",
        "    return _fact\n",
        "\n",
        "  def permutation(self,n,r):\n",
        "    return self.factorial(self.n)/self.factorial(self.n - self.r)\n",
        "\n",
        "  def combination(self,n,r):\n",
        "    return self.factorial(self.n)/self.factorial(self.n - self.r)/self.factorial(self.r)"
      ]
    },
    {
      "cell_type": "code",
      "execution_count": null,
      "metadata": {
        "id": "2yI_kSPGPtIz"
      },
      "outputs": [],
      "source": [
        "# Instance variable differs from object to object\n"
      ]
    },
    {
      "cell_type": "code",
      "execution_count": null,
      "metadata": {
        "id": "siSu6rhFSElq"
      },
      "outputs": [],
      "source": [
        "# Multiple objects can be created using class\n"
      ]
    },
    {
      "cell_type": "code",
      "execution_count": null,
      "metadata": {
        "id": "NLWXxCSeol7V"
      },
      "outputs": [],
      "source": []
    },
    {
      "cell_type": "code",
      "execution_count": null,
      "metadata": {
        "id": "Bqo1kJKSoLe4"
      },
      "outputs": [],
      "source": [
        "# Variable : Characteristics which define the object\n",
        "# Class Variable : Variable which doesn't change across objects\n",
        "# Instance Variable : Variable which changes across objects\n"
      ]
    },
    {
      "cell_type": "code",
      "execution_count": null,
      "metadata": {
        "id": "wmIjl-G9Ts55"
      },
      "outputs": [],
      "source": [
        "#self : parameter, argument, variable : which stores all variables & mehtods inside the class to be utlised accross all methods\n"
      ]
    },
    {
      "cell_type": "code",
      "execution_count": null,
      "metadata": {
        "id": "irHmsIO9TNw6"
      },
      "outputs": [],
      "source": [
        "def function_name(a,b,c):\n",
        "  pass"
      ]
    },
    {
      "cell_type": "code",
      "execution_count": null,
      "metadata": {
        "id": "sYY0byrVUU0S"
      },
      "outputs": [],
      "source": [
        "# self must be defined as the first parameter for all methods, it defines the object as an instance\n"
      ]
    },
    {
      "cell_type": "code",
      "execution_count": null,
      "metadata": {
        "id": "COD7xBH9uG-V"
      },
      "outputs": [],
      "source": [
        "# Practice : Create a class as circle and methods as area and perimeter\n",
        "# area = pi* r**2\n",
        "# Perimeter = 2* pi * r\n",
        "# pi = 3.14\n",
        "# radius is instance variable\n",
        "# __init__ (double underscore as prefix and suffix)\n",
        "\n",
        "\n",
        "\n"
      ]
    },
    {
      "cell_type": "code",
      "execution_count": null,
      "metadata": {
        "id": "Yx7-Yp5zvMVS"
      },
      "outputs": [],
      "source": [
        "# Practice :\n",
        "# Rectangle : Class\n",
        "# Input : length , breadth __init__\n",
        "# methods: Area, Perimeter and diagonal\n",
        "# Area :  l*b\n",
        "# perimeter : 2 (l+b)\n",
        "# diagonal : (l**2 + b**2) ** (0.5)\n",
        "# __init__ (double underscore as prefix and suffix)\n",
        "\n",
        "# Class variable : not required\n",
        "class Rectangle:\n",
        "\n"
      ]
    },
    {
      "cell_type": "code",
      "execution_count": null,
      "metadata": {
        "id": "wkc89olbwRPI"
      },
      "outputs": [],
      "source": []
    },
    {
      "cell_type": "markdown",
      "metadata": {
        "id": "Vvz47726x_Lw"
      },
      "source": [
        "#### Practice"
      ]
    },
    {
      "cell_type": "code",
      "execution_count": null,
      "metadata": {
        "id": "Ar2obH2OqVPO"
      },
      "outputs": [],
      "source": [
        "# Calculator\n",
        "class calculator:\n",
        "\n",
        "\n"
      ]
    },
    {
      "cell_type": "markdown",
      "metadata": {
        "id": "H-QccuoKyBRY"
      },
      "source": [
        "#### Encaptulation"
      ]
    },
    {
      "cell_type": "code",
      "execution_count": null,
      "metadata": {
        "id": "XolII9ZGKY7J"
      },
      "outputs": [],
      "source": [
        "# Characteristics of class\n",
        "# Encaptulation : Secure your variable to access it directly.\n",
        "# putting __ (double underscore ): secures the variable"
      ]
    },
    {
      "cell_type": "code",
      "execution_count": null,
      "metadata": {
        "id": "f7oWz5MoaOYN"
      },
      "outputs": [],
      "source": [
        "class account:\n",
        "  bank = 'HDFC'\n",
        "  def __init__(self,name,pan_card):\n",
        "    self.name = name\n",
        "    self.pan_card = pan_card\n",
        "    self.balance = 0\n",
        "\n",
        "  def deposit(self, amount):\n",
        "    self.balance = self.balance + amount\n",
        "    print(f'Hi {self.name}, You have deposited INR {amount} successfully, Your Current Balance is INR {self.balance}')\n",
        "\n",
        "  def withdraw(self, amount):\n",
        "    self.balance = self.balance - amount\n",
        "    print(f'Hi {self.name}, You have withdrawn INR {amount}, current balance INR {self.balance}')\n",
        "\n",
        "\n",
        "  def current_balance(self):\n",
        "    print(f'Hi {self.name}, Your Current balance is INR {self.balance}')\n"
      ]
    },
    {
      "cell_type": "code",
      "execution_count": null,
      "metadata": {
        "id": "vSq5HZlxaTdb"
      },
      "outputs": [],
      "source": [
        "alok = account(name = 'Alok', pan_card = 'XXXXXX')"
      ]
    },
    {
      "cell_type": "code",
      "execution_count": null,
      "metadata": {
        "colab": {
          "base_uri": "https://localhost:8080/"
        },
        "id": "NHreRqZFaZKz",
        "outputId": "b12b91c6-2c2a-46e8-af53-11a00209f3f5"
      },
      "outputs": [
        {
          "name": "stdout",
          "output_type": "stream",
          "text": [
            "Hi Alok, Your Current balance is INR 0\n"
          ]
        }
      ],
      "source": [
        "alok.current_balance()"
      ]
    },
    {
      "cell_type": "code",
      "execution_count": null,
      "metadata": {
        "id": "w0EHDjUoae9u"
      },
      "outputs": [],
      "source": [
        "alok.balance = 10000 # Deposting"
      ]
    },
    {
      "cell_type": "code",
      "execution_count": null,
      "metadata": {
        "colab": {
          "base_uri": "https://localhost:8080/"
        },
        "id": "8DRnMEv_aqRt",
        "outputId": "cf45a8d2-6637-4b41-e234-e1dafcf7c070"
      },
      "outputs": [
        {
          "name": "stdout",
          "output_type": "stream",
          "text": [
            "Hi Alok, Your Current balance is INR 10000\n"
          ]
        }
      ],
      "source": [
        "alok.current_balance()"
      ]
    },
    {
      "cell_type": "code",
      "execution_count": null,
      "metadata": {
        "id": "Q8yqolXoatDE"
      },
      "outputs": [],
      "source": [
        "# I have not deposited by normal means, I just hacked the variable and changed the value."
      ]
    },
    {
      "cell_type": "code",
      "execution_count": null,
      "metadata": {
        "id": "_00lDQkuLNIB"
      },
      "outputs": [],
      "source": [
        "# In Some application : there are few variables which are sensitive, and need protection to get updated directly.\n",
        "# Protect : by putting __ (double underscore) as prefix"
      ]
    },
    {
      "cell_type": "code",
      "execution_count": null,
      "metadata": {
        "id": "J-BMQstoLks5"
      },
      "outputs": [],
      "source": [
        "# Function : local variables which will get destroyed, you can;t access it once it has run.\n",
        "# Class : Instance creation, Encaptulation is required to protect some variables."
      ]
    },
    {
      "cell_type": "code",
      "execution_count": null,
      "metadata": {
        "id": "nyxbrGKgAMBv"
      },
      "outputs": [],
      "source": [
        "# Encapsulation : Makes the variable secret by putting double underscore before the variable, can;t be changed or accessed directly\n",
        "\n",
        "class account:\n",
        "  bank = 'HDFC'\n",
        "  def __init__(self,name,pan_card):\n",
        "    self.name = name\n",
        "    self.pan_card = pan_card\n",
        "    self.__balance = 0\n",
        "\n",
        "  def deposit(self, amount):\n",
        "    self.__balance = self.__balance + amount\n",
        "    print(f'Hi {self.name}, You have deposited INR {amount} successfully, Your Current Balance is INR {self.__balance}')\n",
        "\n",
        "  def withdraw(self, amount):\n",
        "    self.__balance = self.__balance - amount\n",
        "    print(f'Hi {self.name}, You have withdrawn INR {amount}, current balance INR {self.__balance}')\n",
        "\n",
        "\n",
        "  def current_balance(self):\n",
        "    print(f'Hi {self.name}, Your Current balance is INR {self.__balance}')\n",
        "\n",
        "\n",
        "# Enacaptulated the variable balance by putting __\n"
      ]
    },
    {
      "cell_type": "code",
      "execution_count": null,
      "metadata": {
        "id": "3hSB94WabF1S"
      },
      "outputs": [],
      "source": [
        "vikas = account(name = 'Vikas', pan_card='XXXXXX')"
      ]
    },
    {
      "cell_type": "code",
      "execution_count": null,
      "metadata": {
        "colab": {
          "base_uri": "https://localhost:8080/"
        },
        "id": "hcC7Cqu2bMmZ",
        "outputId": "2e42ddb6-0685-4a4c-d023-cf733b2f645d"
      },
      "outputs": [
        {
          "name": "stdout",
          "output_type": "stream",
          "text": [
            "Hi Vikas, Your Current balance is INR 0\n"
          ]
        }
      ],
      "source": [
        "vikas.current_balance()"
      ]
    },
    {
      "cell_type": "code",
      "execution_count": null,
      "metadata": {
        "id": "3uzEV212bPf0"
      },
      "outputs": [],
      "source": [
        "vikas.__balance = 10000 # it can't be done."
      ]
    },
    {
      "cell_type": "code",
      "execution_count": null,
      "metadata": {
        "colab": {
          "base_uri": "https://localhost:8080/"
        },
        "id": "U0xt9oR9baqc",
        "outputId": "c6cc3b67-6ae4-4b25-cb22-83c14b27fb93"
      },
      "outputs": [
        {
          "name": "stdout",
          "output_type": "stream",
          "text": [
            "Hi Vikas, Your Current balance is INR 0\n"
          ]
        }
      ],
      "source": [
        "vikas.current_balance()"
      ]
    },
    {
      "cell_type": "code",
      "execution_count": null,
      "metadata": {
        "colab": {
          "base_uri": "https://localhost:8080/"
        },
        "id": "c5megT6vbgSW",
        "outputId": "848225e0-dd0f-4dc5-c280-4306f39c940e"
      },
      "outputs": [
        {
          "name": "stdout",
          "output_type": "stream",
          "text": [
            "Hi Vikas, You have deposited INR 100 successfully, Your Current Balance is INR 100\n"
          ]
        }
      ],
      "source": [
        "vikas.deposit(amount = 100)"
      ]
    },
    {
      "cell_type": "code",
      "execution_count": null,
      "metadata": {
        "colab": {
          "base_uri": "https://localhost:8080/"
        },
        "id": "wiO48IScbk8c",
        "outputId": "017f49e9-69fa-4150-b50a-670495018305"
      },
      "outputs": [
        {
          "name": "stdout",
          "output_type": "stream",
          "text": [
            "Hi Vikas, Your Current balance is INR 100\n"
          ]
        }
      ],
      "source": [
        "vikas.current_balance()"
      ]
    },
    {
      "cell_type": "code",
      "execution_count": null,
      "metadata": {
        "id": "0lRXuVmYbyc-"
      },
      "outputs": [],
      "source": [
        "# Encaptulated variable : Change it."
      ]
    },
    {
      "cell_type": "code",
      "execution_count": null,
      "metadata": {
        "id": "SWNBPdb1M5KR"
      },
      "outputs": [],
      "source": [
        "# getter : display_balance and setter : deposit encaptualted variable method"
      ]
    },
    {
      "cell_type": "code",
      "execution_count": null,
      "metadata": {
        "id": "Euqx4QiyM5Hb"
      },
      "outputs": [],
      "source": [
        "# getter method : Displays the value of encaptulated variable | current_balance()\n",
        "# setter method : Changes the value of encaptulated variable | deposit(), withdraw()\n",
        "# Encaptulated variable can't be changed directly.\n"
      ]
    },
    {
      "cell_type": "markdown",
      "metadata": {
        "id": "qa2e91CMyE4I"
      },
      "source": [
        "#### Inheritance"
      ]
    },
    {
      "cell_type": "code",
      "execution_count": null,
      "metadata": {
        "id": "HY1G8ikJAL-3"
      },
      "outputs": [],
      "source": [
        "# Inheritance :\n",
        "class Animal: # Parent class\n",
        "  def __init__(self,species):\n",
        "    self.species = species\n",
        "\n",
        "  def walk(self):\n",
        "    print(f'{self.species} will walk on 4 legs')\n",
        "\n",
        "  def eat(self):\n",
        "    print(f'{self.species} will be Omnivorous')\n",
        "\n",
        "\n",
        "class dog(Animal): #Child Class\n",
        "  def __init__(self, breed, species):\n",
        "    self.breed =  breed\n",
        "    self.species = species\n",
        "\n",
        "  def sleep(self):\n",
        "    print(f'{self.breed} will sleep eyes closed')\n"
      ]
    },
    {
      "cell_type": "code",
      "execution_count": null,
      "metadata": {
        "id": "6LhXvLUSdYam"
      },
      "outputs": [],
      "source": [
        "beagle = dog(breed = 'beagle', species = 'dogo')"
      ]
    },
    {
      "cell_type": "code",
      "execution_count": null,
      "metadata": {
        "colab": {
          "base_uri": "https://localhost:8080/"
        },
        "id": "Kg-HCO_Edh3m",
        "outputId": "b6e6fb19-28bc-46ab-ada0-c9a215edd998"
      },
      "outputs": [
        {
          "name": "stdout",
          "output_type": "stream",
          "text": [
            "beagle will sleep eyes closed\n"
          ]
        }
      ],
      "source": [
        "beagle.sleep()"
      ]
    },
    {
      "cell_type": "code",
      "execution_count": null,
      "metadata": {
        "colab": {
          "base_uri": "https://localhost:8080/"
        },
        "id": "FGTwKSPSdnIV",
        "outputId": "0e2f807b-278c-458d-fbfa-7fbcf3017ff7"
      },
      "outputs": [
        {
          "name": "stdout",
          "output_type": "stream",
          "text": [
            "dogo will walk on 4 legs\n"
          ]
        }
      ],
      "source": [
        "beagle.walk() # Child class has inhertied the methods from the parent class"
      ]
    },
    {
      "cell_type": "code",
      "execution_count": null,
      "metadata": {
        "colab": {
          "base_uri": "https://localhost:8080/"
        },
        "id": "5zifE3_heHCV",
        "outputId": "a111fdbe-1e74-492c-acba-050864cf4a71"
      },
      "outputs": [
        {
          "name": "stdout",
          "output_type": "stream",
          "text": [
            "dogo will be Omnivorous\n"
          ]
        }
      ],
      "source": [
        "beagle.eat()"
      ]
    },
    {
      "cell_type": "code",
      "execution_count": null,
      "metadata": {
        "id": "PZ10U90Kh-RH"
      },
      "outputs": [],
      "source": [
        "# Inheritance : Child Class will be able to use methods present in Parent class"
      ]
    },
    {
      "cell_type": "code",
      "execution_count": null,
      "metadata": {
        "id": "cSIrd2-riT3y"
      },
      "outputs": [],
      "source": [
        "# super().__init__(species,legs)\n",
        "\n",
        "class Animal: # Parent class\n",
        "  def __init__(self,species,legs, eyes):\n",
        "    self.species = species\n",
        "    self.legs = legs\n",
        "    self.eyes = eyes\n",
        "\n",
        "  def walk(self):\n",
        "    print(f'{self.species} will walk on 4 legs')\n",
        "\n",
        "  def eat(self):\n",
        "    print(f'{self.species} will be Omnivorous')\n",
        "\n",
        "\n",
        "class dog(Animal): #Child Class\n",
        "  def __init__(self, breed, species, legs, eyes):\n",
        "    self.breed =  breed\n",
        "    # self.species = species\n",
        "    # self.legs = legs\n",
        "    # self.eyes = eyes\n",
        "    super().__init__(species,legs,eyes)\n",
        "\n",
        "  def sleep(self):\n",
        "    print(f'{self.breed} will sleep eyes closed')\n"
      ]
    },
    {
      "cell_type": "markdown",
      "metadata": {
        "id": "Y_-u3VU6yH3v"
      },
      "source": [
        "#### Polymorphism"
      ]
    },
    {
      "cell_type": "code",
      "execution_count": null,
      "metadata": {
        "id": "Dd6xJ8VUAL8A"
      },
      "outputs": [],
      "source": [
        "# Polymorphism : Something which takes many forms\n",
        "\n",
        "class Animal: # Parent class\n",
        "  def __init__(self,species,legs, eyes):\n",
        "    self.species = species\n",
        "    self.legs = legs\n",
        "    self.eyes = eyes\n",
        "\n",
        "  def walk(self):\n",
        "    print(f'{self.species} will walk on 4 legs')\n",
        "\n",
        "  def eat(self):\n",
        "    print(f'{self.species} will be Omnivorous')\n",
        "\n",
        "\n",
        "class Dog(Animal): #Child Class\n",
        "  def __init__(self, breed, species, legs, eyes):\n",
        "    self.breed =  breed\n",
        "    # self.species = species\n",
        "    # self.legs = legs\n",
        "    # self.eyes = eyes\n",
        "    super().__init__(species,legs,eyes)\n",
        "\n",
        "  def sleep(self):\n",
        "    print(f'{self.breed} will sleep eyes closed')\n",
        "\n",
        "class Human(Animal):\n",
        "  def __init__(self, species, legs, eyes):\n",
        "    # self.species = species\n",
        "    # self.legs = legs\n",
        "    # self.eyes = eyes\n",
        "    super().__init__(species,legs,eyes)\n",
        "\n",
        "  def walk(self):\n",
        "    print(f'{self.species} will walk on 2 legs')\n"
      ]
    },
    {
      "cell_type": "code",
      "execution_count": null,
      "metadata": {
        "id": "TkVsVaxef0lR"
      },
      "outputs": [],
      "source": [
        "h1 = Human(species = 'Homo Sapiens', legs =2, eyes = 2)"
      ]
    },
    {
      "cell_type": "code",
      "execution_count": null,
      "metadata": {
        "colab": {
          "base_uri": "https://localhost:8080/"
        },
        "id": "hwz96k0Qf-Ax",
        "outputId": "d51dc5b8-a8b9-4940-e1dc-4d0f942d2146"
      },
      "outputs": [
        {
          "name": "stdout",
          "output_type": "stream",
          "text": [
            "Homo Sapiens will be Omnivorous\n"
          ]
        }
      ],
      "source": [
        "h1.eat()"
      ]
    },
    {
      "cell_type": "code",
      "execution_count": null,
      "metadata": {
        "colab": {
          "base_uri": "https://localhost:8080/"
        },
        "id": "2xvblLaMgEpS",
        "outputId": "eee4b1aa-42f7-42c6-d42d-9fc039266050"
      },
      "outputs": [
        {
          "name": "stdout",
          "output_type": "stream",
          "text": [
            "Homo Sapiens will walk on 2 legs\n"
          ]
        }
      ],
      "source": [
        "h1.walk() # Polymorphism : method with same name can be part of parent and child class. it can be access accordongly"
      ]
    },
    {
      "cell_type": "code",
      "execution_count": null,
      "metadata": {
        "id": "uvdPu36Mgbai"
      },
      "outputs": [],
      "source": [
        "a = Animal(species = 'Rana tigrina',legs = 4, eyes = 2)"
      ]
    },
    {
      "cell_type": "code",
      "execution_count": null,
      "metadata": {
        "colab": {
          "base_uri": "https://localhost:8080/"
        },
        "id": "fsIBEh2_gjZ6",
        "outputId": "ff392102-0cac-4c53-aa80-28d530933c36"
      },
      "outputs": [
        {
          "name": "stdout",
          "output_type": "stream",
          "text": [
            "Rana tigrina will walk on 4 legs\n"
          ]
        }
      ],
      "source": [
        "a.walk()"
      ]
    },
    {
      "cell_type": "code",
      "execution_count": null,
      "metadata": {
        "id": "-FEX-nqwrRkv"
      },
      "outputs": [],
      "source": [
        "# Polymorphism :\n",
        "# 1. Child and parent class can have method will same name.\n",
        "# 2. Objects created by Child class will access the method of child class if names are clashing with parent class.\n"
      ]
    },
    {
      "cell_type": "code",
      "execution_count": null,
      "metadata": {
        "id": "BK-a7gWIrRhW"
      },
      "outputs": [],
      "source": [
        "# Inheritance. : Child class can access the methods of parent class\n",
        "# Polymorphism : Child class can have method with same name as of parent class with different functionality."
      ]
    },
    {
      "cell_type": "markdown",
      "metadata": {
        "id": "2tRUZuZkyLJs"
      },
      "source": [
        "#### Abstraction"
      ]
    },
    {
      "cell_type": "code",
      "execution_count": null,
      "metadata": {
        "id": "UPSlP41AduWb"
      },
      "outputs": [],
      "source": [
        "# Abstraction : Standardisation of creating class."
      ]
    },
    {
      "cell_type": "code",
      "execution_count": null,
      "metadata": {
        "id": "lERJDFLGrRev"
      },
      "outputs": [],
      "source": [
        "# Game Industry : Company create game\n",
        "# Abstract class\n",
        "from abc import ABC, abstractmethod # abc is a library which can be used to create abstract method\n",
        "\n",
        "class game(ABC): # Abstract class\n",
        "\n",
        "  @abstractmethod\n",
        "  def welcome_message(self): # This method is  mandatory\n",
        "    pass\n",
        "\n",
        "  @abstractmethod\n",
        "  def show_result(self): # This method is  mandatory\n",
        "    pass\n",
        "\n",
        "  @abstractmethod\n",
        "  def winning_points(self): # This method is  mandatory\n",
        "    pass\n",
        "\n",
        "\n",
        "  def exit(self): # This method is not mandatory\n",
        "    pass"
      ]
    },
    {
      "cell_type": "code",
      "execution_count": null,
      "metadata": {
        "id": "gdNL5B5Btote"
      },
      "outputs": [],
      "source": [
        "class RockpaperScissor(game):\n",
        "  def __init__(self, player1, player2):\n",
        "    self.player1 = player1\n",
        "    self.player2 = player2\n",
        "\n",
        "  def welcome_message(self):\n",
        "    print('welcome Message')\n",
        "\n",
        "  def show_result(self):\n",
        "    print('Show the result')\n",
        "\n",
        "  def winning_points(self):\n",
        "    print('Winning Points')\n",
        "\n",
        "  def abc(self):\n",
        "    print('abc')\n",
        "\n",
        "  def x(self):\n",
        "    print('x')\n",
        "\n",
        "\n"
      ]
    },
    {
      "cell_type": "code",
      "execution_count": null,
      "metadata": {
        "id": "6x5d_vjVtoq3"
      },
      "outputs": [],
      "source": [
        "play = RockpaperScissor(player1 = 'a', player2 = 'b')"
      ]
    },
    {
      "cell_type": "code",
      "execution_count": null,
      "metadata": {
        "id": "j6Ltm1TxwuNd"
      },
      "outputs": [],
      "source": [
        "# Abstraction : helps you to define the rule to create the blueprint or class"
      ]
    },
    {
      "cell_type": "code",
      "execution_count": null,
      "metadata": {
        "colab": {
          "base_uri": "https://localhost:8080/"
        },
        "id": "LGNtbkP3mBFq",
        "outputId": "50bb8b02-068f-40ab-8f6c-6975aa29e942"
      },
      "outputs": [
        {
          "name": "stdout",
          "output_type": "stream",
          "text": [
            "Help on class str in module builtins:\n",
            "\n",
            "class str(object)\n",
            " |  str(object='') -> str\n",
            " |  str(bytes_or_buffer[, encoding[, errors]]) -> str\n",
            " |  \n",
            " |  Create a new string object from the given object. If encoding or\n",
            " |  errors is specified, then the object must expose a data buffer\n",
            " |  that will be decoded using the given encoding and error handler.\n",
            " |  Otherwise, returns the result of object.__str__() (if defined)\n",
            " |  or repr(object).\n",
            " |  encoding defaults to sys.getdefaultencoding().\n",
            " |  errors defaults to 'strict'.\n",
            " |  \n",
            " |  Methods defined here:\n",
            " |  \n",
            " |  __add__(self, value, /)\n",
            " |      Return self+value.\n",
            " |  \n",
            " |  __contains__(self, key, /)\n",
            " |      Return key in self.\n",
            " |  \n",
            " |  __eq__(self, value, /)\n",
            " |      Return self==value.\n",
            " |  \n",
            " |  __format__(self, format_spec, /)\n",
            " |      Return a formatted version of the string as described by format_spec.\n",
            " |  \n",
            " |  __ge__(self, value, /)\n",
            " |      Return self>=value.\n",
            " |  \n",
            " |  __getattribute__(self, name, /)\n",
            " |      Return getattr(self, name).\n",
            " |  \n",
            " |  __getitem__(self, key, /)\n",
            " |      Return self[key].\n",
            " |  \n",
            " |  __getnewargs__(...)\n",
            " |  \n",
            " |  __gt__(self, value, /)\n",
            " |      Return self>value.\n",
            " |  \n",
            " |  __hash__(self, /)\n",
            " |      Return hash(self).\n",
            " |  \n",
            " |  __iter__(self, /)\n",
            " |      Implement iter(self).\n",
            " |  \n",
            " |  __le__(self, value, /)\n",
            " |      Return self<=value.\n",
            " |  \n",
            " |  __len__(self, /)\n",
            " |      Return len(self).\n",
            " |  \n",
            " |  __lt__(self, value, /)\n",
            " |      Return self<value.\n",
            " |  \n",
            " |  __mod__(self, value, /)\n",
            " |      Return self%value.\n",
            " |  \n",
            " |  __mul__(self, value, /)\n",
            " |      Return self*value.\n",
            " |  \n",
            " |  __ne__(self, value, /)\n",
            " |      Return self!=value.\n",
            " |  \n",
            " |  __repr__(self, /)\n",
            " |      Return repr(self).\n",
            " |  \n",
            " |  __rmod__(self, value, /)\n",
            " |      Return value%self.\n",
            " |  \n",
            " |  __rmul__(self, value, /)\n",
            " |      Return value*self.\n",
            " |  \n",
            " |  __sizeof__(self, /)\n",
            " |      Return the size of the string in memory, in bytes.\n",
            " |  \n",
            " |  __str__(self, /)\n",
            " |      Return str(self).\n",
            " |  \n",
            " |  capitalize(self, /)\n",
            " |      Return a capitalized version of the string.\n",
            " |      \n",
            " |      More specifically, make the first character have upper case and the rest lower\n",
            " |      case.\n",
            " |  \n",
            " |  casefold(self, /)\n",
            " |      Return a version of the string suitable for caseless comparisons.\n",
            " |  \n",
            " |  center(self, width, fillchar=' ', /)\n",
            " |      Return a centered string of length width.\n",
            " |      \n",
            " |      Padding is done using the specified fill character (default is a space).\n",
            " |  \n",
            " |  count(...)\n",
            " |      S.count(sub[, start[, end]]) -> int\n",
            " |      \n",
            " |      Return the number of non-overlapping occurrences of substring sub in\n",
            " |      string S[start:end].  Optional arguments start and end are\n",
            " |      interpreted as in slice notation.\n",
            " |  \n",
            " |  encode(self, /, encoding='utf-8', errors='strict')\n",
            " |      Encode the string using the codec registered for encoding.\n",
            " |      \n",
            " |      encoding\n",
            " |        The encoding in which to encode the string.\n",
            " |      errors\n",
            " |        The error handling scheme to use for encoding errors.\n",
            " |        The default is 'strict' meaning that encoding errors raise a\n",
            " |        UnicodeEncodeError.  Other possible values are 'ignore', 'replace' and\n",
            " |        'xmlcharrefreplace' as well as any other name registered with\n",
            " |        codecs.register_error that can handle UnicodeEncodeErrors.\n",
            " |  \n",
            " |  endswith(...)\n",
            " |      S.endswith(suffix[, start[, end]]) -> bool\n",
            " |      \n",
            " |      Return True if S ends with the specified suffix, False otherwise.\n",
            " |      With optional start, test S beginning at that position.\n",
            " |      With optional end, stop comparing S at that position.\n",
            " |      suffix can also be a tuple of strings to try.\n",
            " |  \n",
            " |  expandtabs(self, /, tabsize=8)\n",
            " |      Return a copy where all tab characters are expanded using spaces.\n",
            " |      \n",
            " |      If tabsize is not given, a tab size of 8 characters is assumed.\n",
            " |  \n",
            " |  find(...)\n",
            " |      S.find(sub[, start[, end]]) -> int\n",
            " |      \n",
            " |      Return the lowest index in S where substring sub is found,\n",
            " |      such that sub is contained within S[start:end].  Optional\n",
            " |      arguments start and end are interpreted as in slice notation.\n",
            " |      \n",
            " |      Return -1 on failure.\n",
            " |  \n",
            " |  format(...)\n",
            " |      S.format(*args, **kwargs) -> str\n",
            " |      \n",
            " |      Return a formatted version of S, using substitutions from args and kwargs.\n",
            " |      The substitutions are identified by braces ('{' and '}').\n",
            " |  \n",
            " |  format_map(...)\n",
            " |      S.format_map(mapping) -> str\n",
            " |      \n",
            " |      Return a formatted version of S, using substitutions from mapping.\n",
            " |      The substitutions are identified by braces ('{' and '}').\n",
            " |  \n",
            " |  index(...)\n",
            " |      S.index(sub[, start[, end]]) -> int\n",
            " |      \n",
            " |      Return the lowest index in S where substring sub is found,\n",
            " |      such that sub is contained within S[start:end].  Optional\n",
            " |      arguments start and end are interpreted as in slice notation.\n",
            " |      \n",
            " |      Raises ValueError when the substring is not found.\n",
            " |  \n",
            " |  isalnum(self, /)\n",
            " |      Return True if the string is an alpha-numeric string, False otherwise.\n",
            " |      \n",
            " |      A string is alpha-numeric if all characters in the string are alpha-numeric and\n",
            " |      there is at least one character in the string.\n",
            " |  \n",
            " |  isalpha(self, /)\n",
            " |      Return True if the string is an alphabetic string, False otherwise.\n",
            " |      \n",
            " |      A string is alphabetic if all characters in the string are alphabetic and there\n",
            " |      is at least one character in the string.\n",
            " |  \n",
            " |  isascii(self, /)\n",
            " |      Return True if all characters in the string are ASCII, False otherwise.\n",
            " |      \n",
            " |      ASCII characters have code points in the range U+0000-U+007F.\n",
            " |      Empty string is ASCII too.\n",
            " |  \n",
            " |  isdecimal(self, /)\n",
            " |      Return True if the string is a decimal string, False otherwise.\n",
            " |      \n",
            " |      A string is a decimal string if all characters in the string are decimal and\n",
            " |      there is at least one character in the string.\n",
            " |  \n",
            " |  isdigit(self, /)\n",
            " |      Return True if the string is a digit string, False otherwise.\n",
            " |      \n",
            " |      A string is a digit string if all characters in the string are digits and there\n",
            " |      is at least one character in the string.\n",
            " |  \n",
            " |  isidentifier(self, /)\n",
            " |      Return True if the string is a valid Python identifier, False otherwise.\n",
            " |      \n",
            " |      Call keyword.iskeyword(s) to test whether string s is a reserved identifier,\n",
            " |      such as \"def\" or \"class\".\n",
            " |  \n",
            " |  islower(self, /)\n",
            " |      Return True if the string is a lowercase string, False otherwise.\n",
            " |      \n",
            " |      A string is lowercase if all cased characters in the string are lowercase and\n",
            " |      there is at least one cased character in the string.\n",
            " |  \n",
            " |  isnumeric(self, /)\n",
            " |      Return True if the string is a numeric string, False otherwise.\n",
            " |      \n",
            " |      A string is numeric if all characters in the string are numeric and there is at\n",
            " |      least one character in the string.\n",
            " |  \n",
            " |  isprintable(self, /)\n",
            " |      Return True if the string is printable, False otherwise.\n",
            " |      \n",
            " |      A string is printable if all of its characters are considered printable in\n",
            " |      repr() or if it is empty.\n",
            " |  \n",
            " |  isspace(self, /)\n",
            " |      Return True if the string is a whitespace string, False otherwise.\n",
            " |      \n",
            " |      A string is whitespace if all characters in the string are whitespace and there\n",
            " |      is at least one character in the string.\n",
            " |  \n",
            " |  istitle(self, /)\n",
            " |      Return True if the string is a title-cased string, False otherwise.\n",
            " |      \n",
            " |      In a title-cased string, upper- and title-case characters may only\n",
            " |      follow uncased characters and lowercase characters only cased ones.\n",
            " |  \n",
            " |  isupper(self, /)\n",
            " |      Return True if the string is an uppercase string, False otherwise.\n",
            " |      \n",
            " |      A string is uppercase if all cased characters in the string are uppercase and\n",
            " |      there is at least one cased character in the string.\n",
            " |  \n",
            " |  join(self, iterable, /)\n",
            " |      Concatenate any number of strings.\n",
            " |      \n",
            " |      The string whose method is called is inserted in between each given string.\n",
            " |      The result is returned as a new string.\n",
            " |      \n",
            " |      Example: '.'.join(['ab', 'pq', 'rs']) -> 'ab.pq.rs'\n",
            " |  \n",
            " |  ljust(self, width, fillchar=' ', /)\n",
            " |      Return a left-justified string of length width.\n",
            " |      \n",
            " |      Padding is done using the specified fill character (default is a space).\n",
            " |  \n",
            " |  lower(self, /)\n",
            " |      Return a copy of the string converted to lowercase.\n",
            " |  \n",
            " |  lstrip(self, chars=None, /)\n",
            " |      Return a copy of the string with leading whitespace removed.\n",
            " |      \n",
            " |      If chars is given and not None, remove characters in chars instead.\n",
            " |  \n",
            " |  partition(self, sep, /)\n",
            " |      Partition the string into three parts using the given separator.\n",
            " |      \n",
            " |      This will search for the separator in the string.  If the separator is found,\n",
            " |      returns a 3-tuple containing the part before the separator, the separator\n",
            " |      itself, and the part after it.\n",
            " |      \n",
            " |      If the separator is not found, returns a 3-tuple containing the original string\n",
            " |      and two empty strings.\n",
            " |  \n",
            " |  removeprefix(self, prefix, /)\n",
            " |      Return a str with the given prefix string removed if present.\n",
            " |      \n",
            " |      If the string starts with the prefix string, return string[len(prefix):].\n",
            " |      Otherwise, return a copy of the original string.\n",
            " |  \n",
            " |  removesuffix(self, suffix, /)\n",
            " |      Return a str with the given suffix string removed if present.\n",
            " |      \n",
            " |      If the string ends with the suffix string and that suffix is not empty,\n",
            " |      return string[:-len(suffix)]. Otherwise, return a copy of the original\n",
            " |      string.\n",
            " |  \n",
            " |  replace(self, old, new, count=-1, /)\n",
            " |      Return a copy with all occurrences of substring old replaced by new.\n",
            " |      \n",
            " |        count\n",
            " |          Maximum number of occurrences to replace.\n",
            " |          -1 (the default value) means replace all occurrences.\n",
            " |      \n",
            " |      If the optional argument count is given, only the first count occurrences are\n",
            " |      replaced.\n",
            " |  \n",
            " |  rfind(...)\n",
            " |      S.rfind(sub[, start[, end]]) -> int\n",
            " |      \n",
            " |      Return the highest index in S where substring sub is found,\n",
            " |      such that sub is contained within S[start:end].  Optional\n",
            " |      arguments start and end are interpreted as in slice notation.\n",
            " |      \n",
            " |      Return -1 on failure.\n",
            " |  \n",
            " |  rindex(...)\n",
            " |      S.rindex(sub[, start[, end]]) -> int\n",
            " |      \n",
            " |      Return the highest index in S where substring sub is found,\n",
            " |      such that sub is contained within S[start:end].  Optional\n",
            " |      arguments start and end are interpreted as in slice notation.\n",
            " |      \n",
            " |      Raises ValueError when the substring is not found.\n",
            " |  \n",
            " |  rjust(self, width, fillchar=' ', /)\n",
            " |      Return a right-justified string of length width.\n",
            " |      \n",
            " |      Padding is done using the specified fill character (default is a space).\n",
            " |  \n",
            " |  rpartition(self, sep, /)\n",
            " |      Partition the string into three parts using the given separator.\n",
            " |      \n",
            " |      This will search for the separator in the string, starting at the end. If\n",
            " |      the separator is found, returns a 3-tuple containing the part before the\n",
            " |      separator, the separator itself, and the part after it.\n",
            " |      \n",
            " |      If the separator is not found, returns a 3-tuple containing two empty strings\n",
            " |      and the original string.\n",
            " |  \n",
            " |  rsplit(self, /, sep=None, maxsplit=-1)\n",
            " |      Return a list of the substrings in the string, using sep as the separator string.\n",
            " |      \n",
            " |        sep\n",
            " |          The separator used to split the string.\n",
            " |      \n",
            " |          When set to None (the default value), will split on any whitespace\n",
            " |          character (including \\\\n \\\\r \\\\t \\\\f and spaces) and will discard\n",
            " |          empty strings from the result.\n",
            " |        maxsplit\n",
            " |          Maximum number of splits (starting from the left).\n",
            " |          -1 (the default value) means no limit.\n",
            " |      \n",
            " |      Splitting starts at the end of the string and works to the front.\n",
            " |  \n",
            " |  rstrip(self, chars=None, /)\n",
            " |      Return a copy of the string with trailing whitespace removed.\n",
            " |      \n",
            " |      If chars is given and not None, remove characters in chars instead.\n",
            " |  \n",
            " |  split(self, /, sep=None, maxsplit=-1)\n",
            " |      Return a list of the substrings in the string, using sep as the separator string.\n",
            " |      \n",
            " |        sep\n",
            " |          The separator used to split the string.\n",
            " |      \n",
            " |          When set to None (the default value), will split on any whitespace\n",
            " |          character (including \\\\n \\\\r \\\\t \\\\f and spaces) and will discard\n",
            " |          empty strings from the result.\n",
            " |        maxsplit\n",
            " |          Maximum number of splits (starting from the left).\n",
            " |          -1 (the default value) means no limit.\n",
            " |      \n",
            " |      Note, str.split() is mainly useful for data that has been intentionally\n",
            " |      delimited.  With natural text that includes punctuation, consider using\n",
            " |      the regular expression module.\n",
            " |  \n",
            " |  splitlines(self, /, keepends=False)\n",
            " |      Return a list of the lines in the string, breaking at line boundaries.\n",
            " |      \n",
            " |      Line breaks are not included in the resulting list unless keepends is given and\n",
            " |      true.\n",
            " |  \n",
            " |  startswith(...)\n",
            " |      S.startswith(prefix[, start[, end]]) -> bool\n",
            " |      \n",
            " |      Return True if S starts with the specified prefix, False otherwise.\n",
            " |      With optional start, test S beginning at that position.\n",
            " |      With optional end, stop comparing S at that position.\n",
            " |      prefix can also be a tuple of strings to try.\n",
            " |  \n",
            " |  strip(self, chars=None, /)\n",
            " |      Return a copy of the string with leading and trailing whitespace removed.\n",
            " |      \n",
            " |      If chars is given and not None, remove characters in chars instead.\n",
            " |  \n",
            " |  swapcase(self, /)\n",
            " |      Convert uppercase characters to lowercase and lowercase characters to uppercase.\n",
            " |  \n",
            " |  title(self, /)\n",
            " |      Return a version of the string where each word is titlecased.\n",
            " |      \n",
            " |      More specifically, words start with uppercased characters and all remaining\n",
            " |      cased characters have lower case.\n",
            " |  \n",
            " |  translate(self, table, /)\n",
            " |      Replace each character in the string using the given translation table.\n",
            " |      \n",
            " |        table\n",
            " |          Translation table, which must be a mapping of Unicode ordinals to\n",
            " |          Unicode ordinals, strings, or None.\n",
            " |      \n",
            " |      The table must implement lookup/indexing via __getitem__, for instance a\n",
            " |      dictionary or list.  If this operation raises LookupError, the character is\n",
            " |      left untouched.  Characters mapped to None are deleted.\n",
            " |  \n",
            " |  upper(self, /)\n",
            " |      Return a copy of the string converted to uppercase.\n",
            " |  \n",
            " |  zfill(self, width, /)\n",
            " |      Pad a numeric string with zeros on the left, to fill a field of the given width.\n",
            " |      \n",
            " |      The string is never truncated.\n",
            " |  \n",
            " |  ----------------------------------------------------------------------\n",
            " |  Static methods defined here:\n",
            " |  \n",
            " |  __new__(*args, **kwargs) from builtins.type\n",
            " |      Create and return a new object.  See help(type) for accurate signature.\n",
            " |  \n",
            " |  maketrans(...)\n",
            " |      Return a translation table usable for str.translate().\n",
            " |      \n",
            " |      If there is only one argument, it must be a dictionary mapping Unicode\n",
            " |      ordinals (integers) or characters to Unicode ordinals, strings or None.\n",
            " |      Character keys will be then converted to ordinals.\n",
            " |      If there are two arguments, they must be strings of equal length, and\n",
            " |      in the resulting dictionary, each character in x will be mapped to the\n",
            " |      character at the same position in y. If there is a third argument, it\n",
            " |      must be a string, whose characters will be mapped to None in the result.\n",
            "\n"
          ]
        }
      ],
      "source": [
        "help(str)"
      ]
    },
    {
      "cell_type": "code",
      "execution_count": null,
      "metadata": {
        "colab": {
          "base_uri": "https://localhost:8080/"
        },
        "id": "f_GxW5c8mDfp",
        "outputId": "5eef610a-58d8-4057-fea3-e4acb0abf796"
      },
      "outputs": [
        {
          "name": "stdout",
          "output_type": "stream",
          "text": [
            "Help on class object in module builtins:\n",
            "\n",
            "class object\n",
            " |  The base class of the class hierarchy.\n",
            " |  \n",
            " |  When called, it accepts no arguments and returns a new featureless\n",
            " |  instance that has no instance attributes and cannot be given any.\n",
            " |  \n",
            " |  Built-in subclasses:\n",
            " |      anext_awaitable\n",
            " |      async_generator\n",
            " |      async_generator\n",
            " |      async_generator_asend\n",
            " |      ... and 107 other subclasses\n",
            " |  \n",
            " |  Methods defined here:\n",
            " |  \n",
            " |  __delattr__(self, name, /)\n",
            " |      Implement delattr(self, name).\n",
            " |  \n",
            " |  __dir__(self, /)\n",
            " |      Default dir() implementation.\n",
            " |  \n",
            " |  __eq__(self, value, /)\n",
            " |      Return self==value.\n",
            " |  \n",
            " |  __format__(self, format_spec, /)\n",
            " |      Default object formatter.\n",
            " |  \n",
            " |  __ge__(self, value, /)\n",
            " |      Return self>=value.\n",
            " |  \n",
            " |  __getattribute__(self, name, /)\n",
            " |      Return getattr(self, name).\n",
            " |  \n",
            " |  __gt__(self, value, /)\n",
            " |      Return self>value.\n",
            " |  \n",
            " |  __hash__(self, /)\n",
            " |      Return hash(self).\n",
            " |  \n",
            " |  __init__(self, /, *args, **kwargs)\n",
            " |      Initialize self.  See help(type(self)) for accurate signature.\n",
            " |  \n",
            " |  __le__(self, value, /)\n",
            " |      Return self<=value.\n",
            " |  \n",
            " |  __lt__(self, value, /)\n",
            " |      Return self<value.\n",
            " |  \n",
            " |  __ne__(self, value, /)\n",
            " |      Return self!=value.\n",
            " |  \n",
            " |  __reduce__(self, /)\n",
            " |      Helper for pickle.\n",
            " |  \n",
            " |  __reduce_ex__(self, protocol, /)\n",
            " |      Helper for pickle.\n",
            " |  \n",
            " |  __repr__(self, /)\n",
            " |      Return repr(self).\n",
            " |  \n",
            " |  __setattr__(self, name, value, /)\n",
            " |      Implement setattr(self, name, value).\n",
            " |  \n",
            " |  __sizeof__(self, /)\n",
            " |      Size of object in memory, in bytes.\n",
            " |  \n",
            " |  __str__(self, /)\n",
            " |      Return str(self).\n",
            " |  \n",
            " |  ----------------------------------------------------------------------\n",
            " |  Class methods defined here:\n",
            " |  \n",
            " |  __init_subclass__(...) from builtins.type\n",
            " |      This method is called when a class is subclassed.\n",
            " |      \n",
            " |      The default implementation does nothing. It may be\n",
            " |      overridden to extend subclasses.\n",
            " |  \n",
            " |  __subclasshook__(...) from builtins.type\n",
            " |      Abstract classes can override this to customize issubclass().\n",
            " |      \n",
            " |      This is invoked early on by abc.ABCMeta.__subclasscheck__().\n",
            " |      It should return True, False or NotImplemented.  If it returns\n",
            " |      NotImplemented, the normal algorithm is used.  Otherwise, it\n",
            " |      overrides the normal algorithm (and the outcome is cached).\n",
            " |  \n",
            " |  ----------------------------------------------------------------------\n",
            " |  Static methods defined here:\n",
            " |  \n",
            " |  __new__(*args, **kwargs) from builtins.type\n",
            " |      Create and return a new object.  See help(type) for accurate signature.\n",
            " |  \n",
            " |  ----------------------------------------------------------------------\n",
            " |  Data and other attributes defined here:\n",
            " |  \n",
            " |  __class__ = <class 'type'>\n",
            " |      type(object) -> the object's type\n",
            " |      type(name, bases, dict, **kwds) -> a new type\n",
            "\n"
          ]
        }
      ],
      "source": [
        "help(object)"
      ]
    },
    {
      "cell_type": "code",
      "execution_count": null,
      "metadata": {
        "id": "Jmg4Cdj9mPqI"
      },
      "outputs": [],
      "source": [
        "import os"
      ]
    },
    {
      "cell_type": "code",
      "execution_count": null,
      "metadata": {
        "colab": {
          "base_uri": "https://localhost:8080/",
          "height": 35
        },
        "id": "W1PFf0trojV_",
        "outputId": "a368433f-6c82-4afb-bdde-3b938ddaf5f7"
      },
      "outputs": [
        {
          "data": {
            "application/vnd.google.colaboratory.intrinsic+json": {
              "type": "string"
            },
            "text/plain": [
              "'/content'"
            ]
          },
          "execution_count": 123,
          "metadata": {},
          "output_type": "execute_result"
        }
      ],
      "source": [
        "os.getcwd()"
      ]
    },
    {
      "cell_type": "code",
      "execution_count": null,
      "metadata": {
        "colab": {
          "base_uri": "https://localhost:8080/"
        },
        "id": "6HMgEhAuosom",
        "outputId": "3cc1615f-a636-41c9-f07f-9f5815b40a79"
      },
      "outputs": [
        {
          "data": {
            "text/plain": [
              "['ABC',\n",
              " 'Animal',\n",
              " 'Dog',\n",
              " 'Human',\n",
              " 'In',\n",
              " 'Out',\n",
              " 'RockpaperScissor',\n",
              " '_',\n",
              " '_11',\n",
              " '_123',\n",
              " '_14',\n",
              " '_15',\n",
              " '_19',\n",
              " '_20',\n",
              " '_21',\n",
              " '_24',\n",
              " '_25',\n",
              " '_26',\n",
              " '_30',\n",
              " '_31',\n",
              " '_32',\n",
              " '_34',\n",
              " '_37',\n",
              " '_41',\n",
              " '_45',\n",
              " '_49',\n",
              " '_50',\n",
              " '_53',\n",
              " '_56',\n",
              " '_57',\n",
              " '_58',\n",
              " '_59',\n",
              " '_6',\n",
              " '_9',\n",
              " '__',\n",
              " '___',\n",
              " '__builtin__',\n",
              " '__builtins__',\n",
              " '__doc__',\n",
              " '__loader__',\n",
              " '__name__',\n",
              " '__package__',\n",
              " '__spec__',\n",
              " '_dh',\n",
              " '_i',\n",
              " '_i1',\n",
              " '_i10',\n",
              " '_i100',\n",
              " '_i101',\n",
              " '_i102',\n",
              " '_i103',\n",
              " '_i104',\n",
              " '_i105',\n",
              " '_i106',\n",
              " '_i107',\n",
              " '_i108',\n",
              " '_i109',\n",
              " '_i11',\n",
              " '_i110',\n",
              " '_i111',\n",
              " '_i112',\n",
              " '_i113',\n",
              " '_i114',\n",
              " '_i115',\n",
              " '_i116',\n",
              " '_i117',\n",
              " '_i118',\n",
              " '_i119',\n",
              " '_i12',\n",
              " '_i120',\n",
              " '_i121',\n",
              " '_i122',\n",
              " '_i123',\n",
              " '_i124',\n",
              " '_i13',\n",
              " '_i14',\n",
              " '_i15',\n",
              " '_i16',\n",
              " '_i17',\n",
              " '_i18',\n",
              " '_i19',\n",
              " '_i2',\n",
              " '_i20',\n",
              " '_i21',\n",
              " '_i22',\n",
              " '_i23',\n",
              " '_i24',\n",
              " '_i25',\n",
              " '_i26',\n",
              " '_i27',\n",
              " '_i28',\n",
              " '_i29',\n",
              " '_i3',\n",
              " '_i30',\n",
              " '_i31',\n",
              " '_i32',\n",
              " '_i33',\n",
              " '_i34',\n",
              " '_i35',\n",
              " '_i36',\n",
              " '_i37',\n",
              " '_i38',\n",
              " '_i39',\n",
              " '_i4',\n",
              " '_i40',\n",
              " '_i41',\n",
              " '_i42',\n",
              " '_i43',\n",
              " '_i44',\n",
              " '_i45',\n",
              " '_i46',\n",
              " '_i47',\n",
              " '_i48',\n",
              " '_i49',\n",
              " '_i5',\n",
              " '_i50',\n",
              " '_i51',\n",
              " '_i52',\n",
              " '_i53',\n",
              " '_i54',\n",
              " '_i55',\n",
              " '_i56',\n",
              " '_i57',\n",
              " '_i58',\n",
              " '_i59',\n",
              " '_i6',\n",
              " '_i60',\n",
              " '_i61',\n",
              " '_i62',\n",
              " '_i63',\n",
              " '_i64',\n",
              " '_i65',\n",
              " '_i66',\n",
              " '_i67',\n",
              " '_i68',\n",
              " '_i69',\n",
              " '_i7',\n",
              " '_i70',\n",
              " '_i71',\n",
              " '_i72',\n",
              " '_i73',\n",
              " '_i74',\n",
              " '_i75',\n",
              " '_i76',\n",
              " '_i77',\n",
              " '_i78',\n",
              " '_i79',\n",
              " '_i8',\n",
              " '_i80',\n",
              " '_i81',\n",
              " '_i82',\n",
              " '_i83',\n",
              " '_i84',\n",
              " '_i85',\n",
              " '_i86',\n",
              " '_i87',\n",
              " '_i88',\n",
              " '_i89',\n",
              " '_i9',\n",
              " '_i90',\n",
              " '_i91',\n",
              " '_i92',\n",
              " '_i93',\n",
              " '_i94',\n",
              " '_i95',\n",
              " '_i96',\n",
              " '_i97',\n",
              " '_i98',\n",
              " '_i99',\n",
              " '_ih',\n",
              " '_ii',\n",
              " '_iii',\n",
              " '_oh',\n",
              " 'a',\n",
              " 'abstractmethod',\n",
              " 'account',\n",
              " 'alok',\n",
              " 'beagle',\n",
              " 'c',\n",
              " 'cal_factorial',\n",
              " 'calculator',\n",
              " 'dog',\n",
              " 'exit',\n",
              " 'f',\n",
              " 'game',\n",
              " 'get_ipython',\n",
              " 'h1',\n",
              " 'os',\n",
              " 'play',\n",
              " 'quit',\n",
              " 'vikas']"
            ]
          },
          "execution_count": 124,
          "metadata": {},
          "output_type": "execute_result"
        }
      ],
      "source": [
        "dir()"
      ]
    },
    {
      "cell_type": "code",
      "execution_count": null,
      "metadata": {
        "id": "bfk0L7ChoxaI"
      },
      "outputs": [],
      "source": []
    }
  ],
  "metadata": {
    "colab": {
      "provenance": [],
      "include_colab_link": true
    },
    "kernelspec": {
      "display_name": "Python 3",
      "name": "python3"
    },
    "language_info": {
      "name": "python"
    }
  },
  "nbformat": 4,
  "nbformat_minor": 0
}
