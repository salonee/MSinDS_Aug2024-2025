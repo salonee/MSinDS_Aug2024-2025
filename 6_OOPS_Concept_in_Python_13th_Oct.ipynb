{
  "nbformat": 4,
  "nbformat_minor": 0,
  "metadata": {
    "colab": {
      "provenance": [],
      "collapsed_sections": [
        "Vvz47726x_Lw",
        "H-QccuoKyBRY",
        "qa2e91CMyE4I",
        "Y_-u3VU6yH3v",
        "2tRUZuZkyLJs"
      ],
      "include_colab_link": true
    },
    "kernelspec": {
      "name": "python3",
      "display_name": "Python 3"
    },
    "language_info": {
      "name": "python"
    }
  },
  "cells": [
    {
      "cell_type": "markdown",
      "metadata": {
        "id": "view-in-github",
        "colab_type": "text"
      },
      "source": [
        "<a href=\"https://colab.research.google.com/github/salonee/MSinDS_Aug2024-2025/blob/main/6_OOPS_Concept_in_Python_13th_Oct.ipynb\" target=\"_parent\"><img src=\"https://colab.research.google.com/assets/colab-badge.svg\" alt=\"Open In Colab\"/></a>"
      ]
    },
    {
      "cell_type": "code",
      "execution_count": null,
      "metadata": {
        "id": "v9ElmkmP07be"
      },
      "outputs": [],
      "source": [
        "# OOPS : Object Oriented Programming\n",
        "# Class\n",
        "# ---> Structure of Class\n",
        "# Objects\n",
        "# variables : Class, Instance\n",
        "# Constructors (__init__) and self\n",
        "# Methods\n",
        "# --> Charactersitics / Properties\n",
        "# Encapsulation\n",
        "# Inheritance : super().__init__()\n",
        "# Polymorphism\n",
        "# Data Abstraction\n"
      ]
    },
    {
      "cell_type": "code",
      "source": [
        "# Real world Use case of Class : Categorizing the functions to manage it effectively.\n",
        "# 1000s Function: Categorise it : using class\n",
        "# 10 function for getting the data from database : Class\n",
        "# 10-15 functions for cleaning data : Class\n",
        "# 10-15 functions for charts and visualisation : Class\n"
      ],
      "metadata": {
        "id": "MXKuJ0UehsAS"
      },
      "execution_count": null,
      "outputs": []
    },
    {
      "cell_type": "code",
      "source": [
        "help(str)"
      ],
      "metadata": {
        "id": "TGY8RnmJsOdV"
      },
      "execution_count": null,
      "outputs": []
    },
    {
      "cell_type": "code",
      "source": [
        "help(int)"
      ],
      "metadata": {
        "id": "ip0MDcEBsRnV"
      },
      "execution_count": null,
      "outputs": []
    },
    {
      "cell_type": "code",
      "source": [
        "help(object)"
      ],
      "metadata": {
        "id": "POpGV1Ewsb6Z"
      },
      "execution_count": null,
      "outputs": []
    },
    {
      "cell_type": "code",
      "source": [
        "# Fundamental Understand of Python\n",
        "# Everything in Python is Object : Every code is written on top of Object class"
      ],
      "metadata": {
        "id": "NFGt5Deyt-Jf"
      },
      "execution_count": null,
      "outputs": []
    },
    {
      "cell_type": "code",
      "source": [
        "# def to define function : def is a keyword\n",
        "# class to define the class : class is a keyword\n"
      ],
      "metadata": {
        "id": "_M5AuRvdMMh-"
      },
      "execution_count": null,
      "outputs": []
    },
    {
      "cell_type": "code",
      "source": [
        "# Class : Blueprint to create the object\n",
        "\n",
        "class house:\n",
        "   pass\n",
        "# pass : Written it as a placeholder, dont; throw error right now, later code will be added\n",
        "# trying to create a blueprint which will help me build houses.\n"
      ],
      "metadata": {
        "id": "FckPRPRc_Z9A"
      },
      "execution_count": null,
      "outputs": []
    },
    {
      "cell_type": "code",
      "source": [
        "# def abc():\n",
        "#   pass # placeholder"
      ],
      "metadata": {
        "id": "3EvnOF9MM3M7"
      },
      "execution_count": null,
      "outputs": []
    },
    {
      "cell_type": "code",
      "source": [
        "# Objects : Entities created using class\n",
        "\n",
        "house1 = house() # Initiating the object : Creating the object\n",
        "house2 = house()\n",
        "# house1 and house2 are the object created using the blueprint / class house.\n"
      ],
      "metadata": {
        "id": "o_I91IZs_emb"
      },
      "execution_count": null,
      "outputs": []
    },
    {
      "cell_type": "code",
      "source": [
        "class house:\n",
        "  design = 'Urban'"
      ],
      "metadata": {
        "id": "EDuXZF0KJCut"
      },
      "execution_count": null,
      "outputs": []
    },
    {
      "cell_type": "code",
      "source": [
        "house1 = house() # Initiating the object : Creating the object\n",
        "house2 = house()"
      ],
      "metadata": {
        "id": "lPKq2BdJwjgP"
      },
      "execution_count": null,
      "outputs": []
    },
    {
      "cell_type": "code",
      "source": [
        "# variables : characteristics based on which objects will differ\n",
        "\n",
        "# Class variable\n",
        "# Instance Variable\n",
        "\n",
        "class house:\n",
        "  house_design = 'urban' # Class Variables : Constant across all objects | To define the blueprint\n"
      ],
      "metadata": {
        "id": "vkZIwrAB_e-a"
      },
      "execution_count": null,
      "outputs": []
    },
    {
      "cell_type": "code",
      "source": [
        "house1 = house()"
      ],
      "metadata": {
        "id": "KaYTyiDyxYNS"
      },
      "execution_count": null,
      "outputs": []
    },
    {
      "cell_type": "code",
      "source": [
        "house2 = house()"
      ],
      "metadata": {
        "id": "Ry1huDLYxbSG"
      },
      "execution_count": null,
      "outputs": []
    },
    {
      "cell_type": "code",
      "source": [
        "house1.house_design"
      ],
      "metadata": {
        "colab": {
          "base_uri": "https://localhost:8080/",
          "height": 35
        },
        "id": "DSnQUyLIxcqE",
        "outputId": "6200a274-73d8-4b80-9cce-c1f5d16e32af"
      },
      "execution_count": null,
      "outputs": [
        {
          "output_type": "execute_result",
          "data": {
            "text/plain": [
              "'urban'"
            ],
            "application/vnd.google.colaboratory.intrinsic+json": {
              "type": "string"
            }
          },
          "metadata": {},
          "execution_count": 14
        }
      ]
    },
    {
      "cell_type": "code",
      "source": [
        "house2.house_design"
      ],
      "metadata": {
        "colab": {
          "base_uri": "https://localhost:8080/",
          "height": 35
        },
        "id": "Tn_Zu09sxf3R",
        "outputId": "2699f337-ae08-4e30-e0e2-1032e715d965"
      },
      "execution_count": null,
      "outputs": [
        {
          "output_type": "execute_result",
          "data": {
            "text/plain": [
              "'urban'"
            ],
            "application/vnd.google.colaboratory.intrinsic+json": {
              "type": "string"
            }
          },
          "metadata": {},
          "execution_count": 15
        }
      ]
    },
    {
      "cell_type": "code",
      "source": [
        "# TO access the value of variable in the object\n",
        "# Sytax :\n",
        "# object_name.variable_name\n"
      ],
      "metadata": {
        "id": "BzBhb4PJlnaX"
      },
      "execution_count": null,
      "outputs": []
    },
    {
      "cell_type": "code",
      "source": [
        "class homo_sapiens:\n",
        "  no_of_eyes = 2\n",
        "  no_of_ears = 2\n",
        "  no_of_mouth = 1\n",
        "\n",
        "# These variables are constant across all objects\n",
        "# these are my class variables."
      ],
      "metadata": {
        "id": "ojSYymsKLo0n"
      },
      "execution_count": null,
      "outputs": []
    },
    {
      "cell_type": "code",
      "source": [
        "p1 = homo_sapiens()\n",
        "p2 = homo_sapiens()"
      ],
      "metadata": {
        "id": "W7XmrvNVMRq5"
      },
      "execution_count": null,
      "outputs": []
    },
    {
      "cell_type": "code",
      "source": [
        "p1.no_of_ears"
      ],
      "metadata": {
        "colab": {
          "base_uri": "https://localhost:8080/"
        },
        "id": "7LX7K7v9x9WG",
        "outputId": "fe10dcfb-acda-4bd3-974d-4072cb6cbbf1"
      },
      "execution_count": null,
      "outputs": [
        {
          "output_type": "execute_result",
          "data": {
            "text/plain": [
              "2"
            ]
          },
          "metadata": {},
          "execution_count": 18
        }
      ]
    },
    {
      "cell_type": "code",
      "source": [
        "p2.no_of_ears"
      ],
      "metadata": {
        "colab": {
          "base_uri": "https://localhost:8080/"
        },
        "id": "VI2AX7Evx--J",
        "outputId": "89cf9cf5-4083-4728-c64a-b3c7ea73f0f7"
      },
      "execution_count": null,
      "outputs": [
        {
          "output_type": "execute_result",
          "data": {
            "text/plain": [
              "2"
            ]
          },
          "metadata": {},
          "execution_count": 19
        }
      ]
    },
    {
      "cell_type": "code",
      "source": [
        "class bankaccount:\n",
        "  bank_name = 'SBI'\n",
        "  IFSC_code = 'SBIN00000'\n"
      ],
      "metadata": {
        "id": "bTkLbzYzPEj_"
      },
      "execution_count": null,
      "outputs": []
    },
    {
      "cell_type": "code",
      "source": [
        "p1 = bankaccount()\n",
        "p2 = bankaccount()"
      ],
      "metadata": {
        "id": "ivSUjcgxPLVh"
      },
      "execution_count": null,
      "outputs": []
    },
    {
      "cell_type": "code",
      "source": [
        "p1.bank_name # class variable"
      ],
      "metadata": {
        "colab": {
          "base_uri": "https://localhost:8080/",
          "height": 35
        },
        "id": "aAHKucWtPO4W",
        "outputId": "d0aaa693-93cd-4322-f89a-bbedb58eabb4"
      },
      "execution_count": null,
      "outputs": [
        {
          "output_type": "execute_result",
          "data": {
            "text/plain": [
              "'SBI'"
            ],
            "application/vnd.google.colaboratory.intrinsic+json": {
              "type": "string"
            }
          },
          "metadata": {},
          "execution_count": 25
        }
      ]
    },
    {
      "cell_type": "code",
      "source": [
        "p2.bank_name # Class variable"
      ],
      "metadata": {
        "colab": {
          "base_uri": "https://localhost:8080/",
          "height": 35
        },
        "id": "c_tFXxhuPSMU",
        "outputId": "9f246e2b-d7b2-4770-e94f-6a0870d94532"
      },
      "execution_count": null,
      "outputs": [
        {
          "output_type": "execute_result",
          "data": {
            "text/plain": [
              "'SBI'"
            ],
            "application/vnd.google.colaboratory.intrinsic+json": {
              "type": "string"
            }
          },
          "metadata": {},
          "execution_count": 26
        }
      ]
    },
    {
      "cell_type": "code",
      "source": [
        "# Instance variable\n",
        "class homo_sapiens:\n",
        "  no_of_eyes = 2 # Class variable\n",
        "  no_of_ears = 2\n",
        "  no_of_hands = 2\n",
        "  no_of_legs = 2\n",
        "  no_of_mouth = 1\n",
        "  no_of_bones = 206\n",
        "\n",
        "  def __init__(self,color_of_skin, color_of_eyes):\n",
        "    self.color_of_skin = color_of_skin\n",
        "    self.color_of_eyes = color_of_eyes\n",
        "\n"
      ],
      "metadata": {
        "id": "PDkzVRI3l5HJ"
      },
      "execution_count": null,
      "outputs": []
    },
    {
      "cell_type": "code",
      "source": [
        "p1 = homo_sapiens(color_of_skin = 'Brown', color_of_eyes = 'Black')\n",
        "p2 = homo_sapiens(color_of_skin = 'White', color_of_eyes = 'Blue')"
      ],
      "metadata": {
        "id": "yV_qtuXUyYNE"
      },
      "execution_count": null,
      "outputs": []
    },
    {
      "cell_type": "code",
      "source": [
        "# Class vs Instance Variable\n",
        "p1.no_of_ears # Class Variable"
      ],
      "metadata": {
        "colab": {
          "base_uri": "https://localhost:8080/"
        },
        "id": "EXNktstSylx-",
        "outputId": "4deadf32-8159-465e-8ae4-48657fcc9063"
      },
      "execution_count": null,
      "outputs": [
        {
          "output_type": "execute_result",
          "data": {
            "text/plain": [
              "2"
            ]
          },
          "metadata": {},
          "execution_count": 22
        }
      ]
    },
    {
      "cell_type": "code",
      "source": [
        "p2.no_of_ears # Class Variable"
      ],
      "metadata": {
        "colab": {
          "base_uri": "https://localhost:8080/"
        },
        "id": "q7G8Stxbypzp",
        "outputId": "8b0b0866-0849-4a56-df47-9d88058bd5c4"
      },
      "execution_count": null,
      "outputs": [
        {
          "output_type": "execute_result",
          "data": {
            "text/plain": [
              "2"
            ]
          },
          "metadata": {},
          "execution_count": 23
        }
      ]
    },
    {
      "cell_type": "code",
      "source": [
        "p1.color_of_skin # Instance Variable"
      ],
      "metadata": {
        "colab": {
          "base_uri": "https://localhost:8080/",
          "height": 35
        },
        "id": "TXqM3M-8yvB6",
        "outputId": "773f59b6-8b4b-49a1-d50d-0959bd605a79"
      },
      "execution_count": null,
      "outputs": [
        {
          "output_type": "execute_result",
          "data": {
            "text/plain": [
              "'Brown'"
            ],
            "application/vnd.google.colaboratory.intrinsic+json": {
              "type": "string"
            }
          },
          "metadata": {},
          "execution_count": 24
        }
      ]
    },
    {
      "cell_type": "code",
      "source": [
        "p2.color_of_skin # Instance Variable"
      ],
      "metadata": {
        "colab": {
          "base_uri": "https://localhost:8080/",
          "height": 35
        },
        "id": "aFAWZKLXywzc",
        "outputId": "4b0fdc42-7268-4378-cd34-c9945f364dba"
      },
      "execution_count": null,
      "outputs": [
        {
          "output_type": "execute_result",
          "data": {
            "text/plain": [
              "'White'"
            ],
            "application/vnd.google.colaboratory.intrinsic+json": {
              "type": "string"
            }
          },
          "metadata": {},
          "execution_count": 25
        }
      ]
    },
    {
      "cell_type": "code",
      "source": [],
      "metadata": {
        "id": "6rAZz4VIzRGq"
      },
      "execution_count": null,
      "outputs": []
    },
    {
      "cell_type": "code",
      "source": [],
      "metadata": {
        "id": "krIujrNmzREE"
      },
      "execution_count": null,
      "outputs": []
    },
    {
      "cell_type": "code",
      "source": [
        "# Class Variables : Constant across all Objects\n",
        "# Instance Variables : Different for all objects"
      ],
      "metadata": {
        "id": "Jr86zbwjyzJ9"
      },
      "execution_count": null,
      "outputs": []
    },
    {
      "cell_type": "code",
      "source": [
        "# __init__ & Self\n",
        "\n",
        "# __init__ : Constructor Method : It creates the object with the instance varibale | helps you initialise the object"
      ],
      "metadata": {
        "id": "2oYOhUegy9zw"
      },
      "execution_count": null,
      "outputs": []
    },
    {
      "cell_type": "code",
      "source": [
        "class house:\n",
        "  design = 'Urban' # Class variable\n",
        "\n",
        "  def __init__(self, bhk, pool_size):\n",
        "    self.bhk = bhk\n",
        "    self.pool_size = pool_size"
      ],
      "metadata": {
        "id": "N77vMRHozgHT"
      },
      "execution_count": null,
      "outputs": []
    },
    {
      "cell_type": "code",
      "source": [
        "bhk = int(input())\n",
        "pool_size = int(input())\n",
        "house1 = house(bhk, pool_size) # Instance Variable"
      ],
      "metadata": {
        "colab": {
          "base_uri": "https://localhost:8080/"
        },
        "id": "S-iTdFmSzyyq",
        "outputId": "7d71b79f-f520-4ec0-c2ce-0734f0ee6514"
      },
      "execution_count": null,
      "outputs": [
        {
          "name": "stdout",
          "output_type": "stream",
          "text": [
            "2\n",
            "200\n"
          ]
        }
      ]
    },
    {
      "cell_type": "code",
      "source": [
        "house2 = house(bhk = 3, pool_size = 300)"
      ],
      "metadata": {
        "id": "7tvmNFxn0CLE"
      },
      "execution_count": null,
      "outputs": []
    },
    {
      "cell_type": "code",
      "source": [
        "house1.bhk # Instance Variable"
      ],
      "metadata": {
        "colab": {
          "base_uri": "https://localhost:8080/"
        },
        "id": "aQZIQZvR0Wj_",
        "outputId": "709816a2-3c77-451c-e2c7-2c84713fc45c"
      },
      "execution_count": null,
      "outputs": [
        {
          "output_type": "execute_result",
          "data": {
            "text/plain": [
              "2"
            ]
          },
          "metadata": {},
          "execution_count": 30
        }
      ]
    },
    {
      "cell_type": "code",
      "source": [
        "house2.bhk # Instance Variable"
      ],
      "metadata": {
        "colab": {
          "base_uri": "https://localhost:8080/"
        },
        "id": "7CYSS__R0ZBd",
        "outputId": "92be85f3-219a-4a5a-beea-eaf9a1acff14"
      },
      "execution_count": null,
      "outputs": [
        {
          "output_type": "execute_result",
          "data": {
            "text/plain": [
              "3"
            ]
          },
          "metadata": {},
          "execution_count": 31
        }
      ]
    },
    {
      "cell_type": "code",
      "source": [
        "class house:\n",
        "  design = 'Urban' # Class variable\n",
        "\n",
        "  def __init__(self, bhk, pool_size):\n",
        "    self.b = bhk\n",
        "    self.p = pool_size\n",
        "\n",
        "  def pool_info(self, color): # self --> Inheriting the global variables | Mandatory\n",
        "    print(f'House has the pool with area {self.p} and color {color}')\n",
        "    self.c = color\n",
        "\n",
        "  def house_info(self):\n",
        "    print(f'House is of {self.b}BHK and Pool color {self.c}')"
      ],
      "metadata": {
        "id": "apwY7DcT0w6o"
      },
      "execution_count": null,
      "outputs": []
    },
    {
      "cell_type": "code",
      "source": [
        "h1 = house(bhk =2, pool_size = 200)\n",
        "h2 = house(bhk = 3, pool_size = 300)"
      ],
      "metadata": {
        "id": "aIojFkJk1kbe"
      },
      "execution_count": null,
      "outputs": []
    },
    {
      "cell_type": "code",
      "source": [],
      "metadata": {
        "id": "iiO4iimy3ldV"
      },
      "execution_count": null,
      "outputs": []
    },
    {
      "cell_type": "code",
      "source": [
        "h1.b"
      ],
      "metadata": {
        "colab": {
          "base_uri": "https://localhost:8080/"
        },
        "id": "-g1UxLwl1q7b",
        "outputId": "77e608e0-a339-40f6-ab74-b61166ac23b0"
      },
      "execution_count": null,
      "outputs": [
        {
          "output_type": "execute_result",
          "data": {
            "text/plain": [
              "2"
            ]
          },
          "metadata": {},
          "execution_count": 67
        }
      ]
    },
    {
      "cell_type": "code",
      "source": [
        "h1.p"
      ],
      "metadata": {
        "colab": {
          "base_uri": "https://localhost:8080/"
        },
        "id": "kcbCCZP611FX",
        "outputId": "13864628-cade-450c-c2a9-87139cd4f982"
      },
      "execution_count": null,
      "outputs": [
        {
          "output_type": "execute_result",
          "data": {
            "text/plain": [
              "200"
            ]
          },
          "metadata": {},
          "execution_count": 68
        }
      ]
    },
    {
      "cell_type": "code",
      "source": [
        "h1.pool_info(color = 'Blue')"
      ],
      "metadata": {
        "colab": {
          "base_uri": "https://localhost:8080/"
        },
        "id": "D911wXGg2CIp",
        "outputId": "0e8dac1f-e6ea-4cdd-b25a-6d0681807577"
      },
      "execution_count": null,
      "outputs": [
        {
          "output_type": "stream",
          "name": "stdout",
          "text": [
            "House has the pool with area 200 and color Blue\n"
          ]
        }
      ]
    },
    {
      "cell_type": "code",
      "source": [
        "h1.house_info()"
      ],
      "metadata": {
        "colab": {
          "base_uri": "https://localhost:8080/"
        },
        "id": "RWpNkqBf2PNB",
        "outputId": "d45b040d-fc67-49f7-a94a-f5a3d31907c7"
      },
      "execution_count": null,
      "outputs": [
        {
          "output_type": "stream",
          "name": "stdout",
          "text": [
            "House is of 2BHK and Pool color Blue\n"
          ]
        }
      ]
    },
    {
      "cell_type": "code",
      "source": [
        "# self :\n",
        "# container which stores the values\n",
        "# and can be used later in all the functions inside the class | Method"
      ],
      "metadata": {
        "id": "XEHbpElgO-ok"
      },
      "execution_count": null,
      "outputs": []
    },
    {
      "cell_type": "code",
      "source": [
        "class house:\n",
        "  design = 'Urban' # Class variable\n",
        "\n",
        "  def __init__(abc, bhk, pool_size):\n",
        "    abc.b = bhk\n",
        "    abc.p = pool_size\n",
        "\n",
        "  def pool_info(abc, color): # self --> Inheriting the global variables | Mandatory\n",
        "    print(f'House has the pool with area {abc.p} and color {color}')\n",
        "    abc.c = color\n",
        "\n",
        "  def house_info(abc):\n",
        "    print(f'House is of {abc.b}BHK')\n",
        "\n",
        "  def interesting_case(abc):\n",
        "    abc.house_info()\n"
      ],
      "metadata": {
        "id": "MhJkbcyN3YtI"
      },
      "execution_count": null,
      "outputs": []
    },
    {
      "cell_type": "code",
      "source": [
        "h1 = house(bhk =2, pool_size = 200)\n",
        "h2 = house(bhk = 3, pool_size = 300)"
      ],
      "metadata": {
        "id": "vt7u2RIg3kmH"
      },
      "execution_count": null,
      "outputs": []
    },
    {
      "cell_type": "code",
      "source": [
        "h1.interesting_case()"
      ],
      "metadata": {
        "colab": {
          "base_uri": "https://localhost:8080/"
        },
        "id": "8tkloKOn4GBM",
        "outputId": "dea9d1dc-ac2d-4974-cdd4-507a7b962303"
      },
      "execution_count": null,
      "outputs": [
        {
          "output_type": "stream",
          "name": "stdout",
          "text": [
            "House is of 2BHK\n"
          ]
        }
      ]
    },
    {
      "cell_type": "code",
      "source": [
        "h1.pool_info(color = 'Blue')"
      ],
      "metadata": {
        "colab": {
          "base_uri": "https://localhost:8080/"
        },
        "id": "Dc4aB2213oUA",
        "outputId": "f2bb5d42-0a41-4b00-8bff-266ce18b65f2"
      },
      "execution_count": null,
      "outputs": [
        {
          "output_type": "stream",
          "name": "stdout",
          "text": [
            "House has the pool with area 200 and color Blue\n"
          ]
        }
      ]
    },
    {
      "cell_type": "code",
      "source": [
        "class pnc:\n",
        "  def __init__(self,n, r):\n",
        "    self.n = n\n",
        "    self.r = r\n",
        "\n",
        "  def factorial(self,i):\n",
        "    _fact = 1\n",
        "    for i in range(1,i+1):\n",
        "      _fact*=i\n",
        "    return _fact\n",
        "\n",
        "  def permutation(self):\n",
        "    return self.factorial(self.n)/self.factorial(self.n - self.r)\n",
        "\n",
        "  def combination(self):\n",
        "    return self.factorial(self.n)/self.factorial(self.n - self.r)/self.factorial(self.r)\n"
      ],
      "metadata": {
        "id": "leXTwM5M3rv3"
      },
      "execution_count": null,
      "outputs": []
    },
    {
      "cell_type": "code",
      "source": [
        "p = pnc(n = 4, r = 2)"
      ],
      "metadata": {
        "id": "SIy8AfXh5MFz"
      },
      "execution_count": null,
      "outputs": []
    },
    {
      "cell_type": "code",
      "source": [
        "p.permutation()"
      ],
      "metadata": {
        "colab": {
          "base_uri": "https://localhost:8080/"
        },
        "id": "LmhoIwWF5P4l",
        "outputId": "60c63e87-338c-449a-aa1d-11c1898fe4e6"
      },
      "execution_count": null,
      "outputs": [
        {
          "output_type": "execute_result",
          "data": {
            "text/plain": [
              "12.0"
            ]
          },
          "metadata": {},
          "execution_count": 85
        }
      ]
    },
    {
      "cell_type": "code",
      "source": [
        "class pnc:\n",
        "  # def __init__(self,n, r):\n",
        "  #   self.n = n\n",
        "  #   self.r = r\n",
        "\n",
        "  def factorial(self,i):\n",
        "    _fact = 1\n",
        "    for i in range(1,i+1):\n",
        "      _fact*=i\n",
        "    return _fact\n",
        "\n",
        "  def permutation(self,n,r):\n",
        "    return self.factorial(n)/self.factorial(n - r)\n",
        "\n",
        "  def combination(self,n,r):\n",
        "    return self.factorial(n)/self.factorial(n - r)/self.factorial(r)"
      ],
      "metadata": {
        "id": "6JUaGgzU5ZF1"
      },
      "execution_count": null,
      "outputs": []
    },
    {
      "cell_type": "code",
      "source": [
        "p = pnc()"
      ],
      "metadata": {
        "id": "UDlBSbSu5r5h"
      },
      "execution_count": null,
      "outputs": []
    },
    {
      "cell_type": "code",
      "source": [
        "p.permutation(n = 4, r = 2)"
      ],
      "metadata": {
        "colab": {
          "base_uri": "https://localhost:8080/"
        },
        "id": "UvglxnlA6qoD",
        "outputId": "9402c7e7-942d-4873-dee7-67b26592f5d1"
      },
      "execution_count": null,
      "outputs": [
        {
          "output_type": "execute_result",
          "data": {
            "text/plain": [
              "12.0"
            ]
          },
          "metadata": {},
          "execution_count": 90
        }
      ]
    },
    {
      "cell_type": "code",
      "source": [
        "# Instance variable differs from object to object\n"
      ],
      "metadata": {
        "id": "2yI_kSPGPtIz"
      },
      "execution_count": null,
      "outputs": []
    },
    {
      "cell_type": "code",
      "source": [
        "# Multiple objects can be created using class\n"
      ],
      "metadata": {
        "id": "siSu6rhFSElq"
      },
      "execution_count": null,
      "outputs": []
    },
    {
      "cell_type": "code",
      "source": [],
      "metadata": {
        "id": "NLWXxCSeol7V"
      },
      "execution_count": null,
      "outputs": []
    },
    {
      "cell_type": "code",
      "source": [
        "# Variable : Characteristics which define the object\n",
        "# Class Variable : Variable which doesn't change across objects\n",
        "# Instance Variable : Variable which changes across objects\n"
      ],
      "metadata": {
        "id": "Bqo1kJKSoLe4"
      },
      "execution_count": null,
      "outputs": []
    },
    {
      "cell_type": "code",
      "source": [
        "#self : parameter, argument, variable : which stores all variables & mehtods inside the class to be utlised accross all methods\n"
      ],
      "metadata": {
        "id": "wmIjl-G9Ts55"
      },
      "execution_count": null,
      "outputs": []
    },
    {
      "cell_type": "code",
      "source": [
        "def function_name(a,b,c):\n",
        "  pass"
      ],
      "metadata": {
        "id": "irHmsIO9TNw6"
      },
      "execution_count": null,
      "outputs": []
    },
    {
      "cell_type": "code",
      "source": [
        "# self must be defined as the first parameter for all methods, it defines the object as an instance\n"
      ],
      "metadata": {
        "id": "sYY0byrVUU0S"
      },
      "execution_count": null,
      "outputs": []
    },
    {
      "cell_type": "code",
      "source": [
        "# Practice : Create a class as circle and methods as area and perimeter\n",
        "# area = pi* r**2\n",
        "# Perimeter = 2* pi * r\n",
        "# pi = 3.14\n",
        "# radius is instance variable\n",
        "# __init__ (double underscore as prefix and suffix)\n",
        "\n",
        "class circle:\n",
        "  def __init__(self, radius, pi = 3.14 ):\n",
        "    self.r = radius\n",
        "    self.pi = pi\n",
        "\n",
        "  def area(self):\n",
        "    return self.pi* (self.r**2)\n",
        "\n",
        "  def perimeter(self): # self with method : this method will use all global variables in self\n",
        "    return 2* self.pi* self.r\n"
      ],
      "metadata": {
        "id": "COD7xBH9uG-V"
      },
      "execution_count": null,
      "outputs": []
    },
    {
      "cell_type": "code",
      "source": [
        "c1 = circle(radius =2 , pi = 3.1415)"
      ],
      "metadata": {
        "id": "L9WQ5vAt8NwQ"
      },
      "execution_count": null,
      "outputs": []
    },
    {
      "cell_type": "code",
      "source": [
        "c1.area()"
      ],
      "metadata": {
        "colab": {
          "base_uri": "https://localhost:8080/"
        },
        "id": "hlw_8K_r81ez",
        "outputId": "28644a11-4894-4702-973f-e493c8ad266d"
      },
      "execution_count": null,
      "outputs": [
        {
          "output_type": "execute_result",
          "data": {
            "text/plain": [
              "12.566"
            ]
          },
          "metadata": {},
          "execution_count": 95
        }
      ]
    },
    {
      "cell_type": "code",
      "source": [
        "c1.perimeter()"
      ],
      "metadata": {
        "colab": {
          "base_uri": "https://localhost:8080/"
        },
        "id": "v1uNnUVm83Dg",
        "outputId": "51184514-2a73-4813-d4f6-590e5976d124"
      },
      "execution_count": null,
      "outputs": [
        {
          "output_type": "execute_result",
          "data": {
            "text/plain": [
              "12.566"
            ]
          },
          "metadata": {},
          "execution_count": 96
        }
      ]
    },
    {
      "cell_type": "code",
      "source": [
        "c2 = circle(radius = 3)"
      ],
      "metadata": {
        "id": "W95jiFy886TD"
      },
      "execution_count": null,
      "outputs": []
    },
    {
      "cell_type": "code",
      "source": [
        "c2.area()"
      ],
      "metadata": {
        "colab": {
          "base_uri": "https://localhost:8080/"
        },
        "id": "72YyLKYR88s_",
        "outputId": "df11bb70-23dd-4a56-8c58-7bd14ecf6c02"
      },
      "execution_count": null,
      "outputs": [
        {
          "output_type": "execute_result",
          "data": {
            "text/plain": [
              "28.26"
            ]
          },
          "metadata": {},
          "execution_count": 98
        }
      ]
    },
    {
      "cell_type": "code",
      "source": [
        "c2.perimeter()"
      ],
      "metadata": {
        "colab": {
          "base_uri": "https://localhost:8080/"
        },
        "id": "ThwB86Y48-Ei",
        "outputId": "3d245467-784c-4c15-e99a-e96a0a7b3763"
      },
      "execution_count": null,
      "outputs": [
        {
          "output_type": "execute_result",
          "data": {
            "text/plain": [
              "18.84"
            ]
          },
          "metadata": {},
          "execution_count": 99
        }
      ]
    },
    {
      "cell_type": "code",
      "source": [
        "# Practice :\n",
        "# Rectangle : Class\n",
        "# Input : length , breadth __init__\n",
        "# methods: Area, Perimeter and diagonal\n",
        "# Area :  l*b\n",
        "# perimeter : 2 (l+b)\n",
        "# diagonal : (l**2 + b**2) ** (0.5)\n",
        "# __init__ (double underscore as prefix and suffix)\n",
        "\n",
        "# Class variable : not required\n",
        "class Rectangle:\n",
        "  def __init__(self,length, breadth):\n",
        "    self.l = length\n",
        "    self.b = breadth\n",
        "\n",
        "  def area(self):\n",
        "    return self.l * self.b\n",
        "\n",
        "  def perimeter(self):\n",
        "    return 2* (self.l +self.b)\n",
        "\n"
      ],
      "metadata": {
        "id": "Yx7-Yp5zvMVS"
      },
      "execution_count": null,
      "outputs": []
    },
    {
      "cell_type": "code",
      "source": [
        "r = Rectangle(length = 4, breadth =3) # Object"
      ],
      "metadata": {
        "id": "wkc89olbwRPI"
      },
      "execution_count": null,
      "outputs": []
    },
    {
      "cell_type": "code",
      "source": [
        "r.area()"
      ],
      "metadata": {
        "colab": {
          "base_uri": "https://localhost:8080/"
        },
        "id": "HVdDlQBL9qSH",
        "outputId": "966cafe7-47de-4e0e-f97d-0e3b3e503840"
      },
      "execution_count": null,
      "outputs": [
        {
          "output_type": "execute_result",
          "data": {
            "text/plain": [
              "12"
            ]
          },
          "metadata": {},
          "execution_count": 102
        }
      ]
    },
    {
      "cell_type": "code",
      "source": [
        "r.perimeter()"
      ],
      "metadata": {
        "colab": {
          "base_uri": "https://localhost:8080/"
        },
        "id": "GGzmaWpj9sHC",
        "outputId": "9aa10d92-243d-4249-fd87-c4b0d4cdeea8"
      },
      "execution_count": null,
      "outputs": [
        {
          "output_type": "execute_result",
          "data": {
            "text/plain": [
              "14"
            ]
          },
          "metadata": {},
          "execution_count": 103
        }
      ]
    },
    {
      "cell_type": "code",
      "source": [
        "class Rectangle:\n",
        "  def __init__(self,length, breadth):\n",
        "    self.l = length\n",
        "    self.b = breadth\n",
        "    self.area = self.l * self.b\n",
        "    self.perimeter = 2* (self.l +self.b)\n",
        "\n",
        "  # def area(self):\n",
        "  #   return self.l * self.b\n",
        "\n",
        "  # def perimeter(self):\n",
        "  #   return 2* (self.l +self.b)"
      ],
      "metadata": {
        "id": "5_PNaDQX9-an"
      },
      "execution_count": null,
      "outputs": []
    },
    {
      "cell_type": "code",
      "source": [
        "r = Rectangle(4,3) # Mention while creating the object\n",
        "# r --> Object\n",
        "# Rectangle --> class\n",
        "# l,b, area, perimeter --> Variables\n",
        "# def : that becomes your method"
      ],
      "metadata": {
        "id": "NLcw7o3p-CgJ"
      },
      "execution_count": null,
      "outputs": []
    },
    {
      "cell_type": "code",
      "source": [
        "r.area"
      ],
      "metadata": {
        "colab": {
          "base_uri": "https://localhost:8080/"
        },
        "id": "_qt9bFTw-GQL",
        "outputId": "4098c3f6-ace0-427f-9f16-547a7086d051"
      },
      "execution_count": null,
      "outputs": [
        {
          "output_type": "execute_result",
          "data": {
            "text/plain": [
              "12"
            ]
          },
          "metadata": {},
          "execution_count": 112
        }
      ]
    },
    {
      "cell_type": "code",
      "source": [
        "r.perimeter"
      ],
      "metadata": {
        "colab": {
          "base_uri": "https://localhost:8080/"
        },
        "id": "_aFjdquu-RHu",
        "outputId": "8b5ba63b-f7f1-417e-8b99-02628e2249a1"
      },
      "execution_count": null,
      "outputs": [
        {
          "output_type": "execute_result",
          "data": {
            "text/plain": [
              "14"
            ]
          },
          "metadata": {},
          "execution_count": 113
        }
      ]
    },
    {
      "cell_type": "code",
      "source": [
        "# Class : Blueprint to create the object\n",
        "# Object : Entities created by class\n",
        "# variable : Charaxcteristics of Object\n",
        "# --Class Variable : Constant across objects\n",
        "# -- Instance Variable : Vary accorss objects\n",
        "# __init__ : Constructor method : which takes in instance variable to create the object\n",
        "# self: Container which stores the value or method to make it global inside class\n",
        "# method : Function inside the class\n"
      ],
      "metadata": {
        "id": "RxIx7h5R9xVq"
      },
      "execution_count": null,
      "outputs": []
    },
    {
      "cell_type": "markdown",
      "source": [
        "#### Practice"
      ],
      "metadata": {
        "id": "Vvz47726x_Lw"
      }
    },
    {
      "cell_type": "code",
      "source": [
        "'''\n",
        "Question: Bank Account Management\n",
        "You are designing a simple banking system. Create a class BankAccount that simulates a basic bank account.\n",
        "The class should have the following features:\n",
        "\n",
        "An attribute balance to store the current balance while opening the account\n",
        "A method deposit(self, amount) to add money to the account.\n",
        "A method withdraw(self, amount) to withdraw money from the account. If the withdrawal amount is more than the available balance, print \"Insufficient funds!\"\n",
        "A method check_balance(self) to print the current balance of the account.\n",
        "Scenario:\n",
        "\n",
        "Create an account for a customer., taking details of customer in __init__ and initial balance\n",
        "Deposit $500 into the account.\n",
        "Withdraw $100.\n",
        "Check the current balance.\n",
        "Try withdrawing $500 and handle the \"insufficient funds\" scenario.\n",
        "\n",
        "'''\n",
        "# Inside function or class don't take input using input() Function\n",
        "\n",
        "class BankAccount:\n",
        "  bank_name = 'AB Bank of India'\n",
        "  def __init__(self,name,pancard,balance =0):\n",
        "    self.name = name\n",
        "    self.pancard = pancard\n",
        "    self.balance = balance\n",
        "\n",
        "  def deposit(self,amount):\n",
        "    self.balance += amount\n",
        "    print(f'You have successfully deposited the amount INR {amount} \\n. New Balance is INR {self.balance}')\n",
        "\n",
        "  def withdraw(self, amount):\n",
        "    if amount > self.balance:\n",
        "      print('You have insufficient balance')\n",
        "    else:\n",
        "      self.balance -= amount\n",
        "      print(f'You have successfully withdrawn the amount INR {amount},\\n New Balance INR {self.balance}')\n",
        "\n",
        "  def check_balance(self):\n",
        "    print(f'You have INR {self.balance} in account')\n",
        "\n"
      ],
      "metadata": {
        "id": "Ar2obH2OqVPO"
      },
      "execution_count": null,
      "outputs": []
    },
    {
      "cell_type": "code",
      "source": [
        "arya = BankAccount(name = 'Arya', pancard = 'usu74r423', balance = 500)"
      ],
      "metadata": {
        "id": "2R36JssP8ruH"
      },
      "execution_count": null,
      "outputs": []
    },
    {
      "cell_type": "code",
      "source": [
        "arya.check_balance()"
      ],
      "metadata": {
        "colab": {
          "base_uri": "https://localhost:8080/"
        },
        "id": "J__hwqTX82yG",
        "outputId": "eb4eefc7-a461-4192-d58a-3a772bf13925"
      },
      "execution_count": null,
      "outputs": [
        {
          "output_type": "stream",
          "name": "stdout",
          "text": [
            "You have INR 500 in account\n"
          ]
        }
      ]
    },
    {
      "cell_type": "code",
      "source": [
        "arya.deposit(500)"
      ],
      "metadata": {
        "colab": {
          "base_uri": "https://localhost:8080/"
        },
        "id": "Gyq9u-pS9Ab1",
        "outputId": "cc8bd6db-ad6b-4cb0-a8f5-b8e81d9d47c1"
      },
      "execution_count": null,
      "outputs": [
        {
          "output_type": "stream",
          "name": "stdout",
          "text": [
            "You have successfully deposited the amount INR 500 \n",
            ". New Balance is INR 1000\n"
          ]
        }
      ]
    },
    {
      "cell_type": "code",
      "source": [
        "arya.withdraw(1500)"
      ],
      "metadata": {
        "colab": {
          "base_uri": "https://localhost:8080/"
        },
        "id": "cm6Q7UoC9Iyk",
        "outputId": "d67e2c53-fc54-4906-bf13-b027c478523b"
      },
      "execution_count": null,
      "outputs": [
        {
          "output_type": "stream",
          "name": "stdout",
          "text": [
            "You have insufficient balance\n"
          ]
        }
      ]
    },
    {
      "cell_type": "code",
      "source": [
        "arya.withdraw(200)"
      ],
      "metadata": {
        "colab": {
          "base_uri": "https://localhost:8080/"
        },
        "id": "aET37VZt9MoN",
        "outputId": "6d3d3e14-beff-47ad-b265-19756e5b1487"
      },
      "execution_count": null,
      "outputs": [
        {
          "output_type": "stream",
          "name": "stdout",
          "text": [
            "You have successfully withdrawn the amount INR 200,\n",
            " New Balance INR 800\n"
          ]
        }
      ]
    },
    {
      "cell_type": "code",
      "source": [
        "vikas = BankAccount(name = 'Vikas', pancard = 'uwe74r423')"
      ],
      "metadata": {
        "id": "3uyuLKIV9RlM"
      },
      "execution_count": null,
      "outputs": []
    },
    {
      "cell_type": "code",
      "source": [
        "vikas.check_balance()"
      ],
      "metadata": {
        "colab": {
          "base_uri": "https://localhost:8080/"
        },
        "id": "AxHPHciC9dqo",
        "outputId": "84e75d29-45fb-4ac4-bc2c-b56e16d08a10"
      },
      "execution_count": null,
      "outputs": [
        {
          "output_type": "stream",
          "name": "stdout",
          "text": [
            "You have INR 0 in account\n"
          ]
        }
      ]
    },
    {
      "cell_type": "code",
      "source": [
        "arya.check_balance()"
      ],
      "metadata": {
        "colab": {
          "base_uri": "https://localhost:8080/"
        },
        "id": "rGDHxctL9iYa",
        "outputId": "3af157cc-b69c-4925-b0bb-742b95d8f556"
      },
      "execution_count": null,
      "outputs": [
        {
          "output_type": "stream",
          "name": "stdout",
          "text": [
            "You have INR 800 in account\n"
          ]
        }
      ]
    },
    {
      "cell_type": "code",
      "source": [
        "class AlmaBetter:\n",
        "  def __init__(self,no_of_course,fee,duration,certification,course_name):\n",
        "    self.course_no = no_of_course\n",
        "    self.fees = fee\n",
        "    self.durantions = duration\n",
        "    self.certifications = certification\n",
        "    self.course_name = course_name\n"
      ],
      "metadata": {
        "id": "Sp2DETc6_5m3"
      },
      "execution_count": null,
      "outputs": []
    },
    {
      "cell_type": "code",
      "source": [
        "Premium_Course = AlmaBetter(course_name= 'AlmaBetter_Full_Stack_Data_Science',no_of_course = 'Type 1',fee = 28000, duration= '6 Months',certification = 'Premium')"
      ],
      "metadata": {
        "id": "23Qfz4HH__BW"
      },
      "execution_count": null,
      "outputs": []
    },
    {
      "cell_type": "code",
      "source": [
        "Premium_Course.course_name"
      ],
      "metadata": {
        "colab": {
          "base_uri": "https://localhost:8080/"
        },
        "id": "D5NrW2C2AMCt",
        "outputId": "9fe4b871-22db-4b8f-fe7a-51a9ea8186a0"
      },
      "execution_count": null,
      "outputs": [
        {
          "output_type": "execute_result",
          "data": {
            "text/plain": [
              "'AlmaBetter_Full_Stack_Data_Science'"
            ],
            "application/vnd.google.colaboratory.intrinsic+json": {
              "type": "string"
            }
          },
          "metadata": {},
          "execution_count": 25
        }
      ]
    },
    {
      "cell_type": "code",
      "source": [],
      "metadata": {
        "id": "pThTHDMaAbTO"
      },
      "execution_count": null,
      "outputs": []
    },
    {
      "cell_type": "markdown",
      "source": [
        "#### Encaptulation"
      ],
      "metadata": {
        "id": "H-QccuoKyBRY"
      }
    },
    {
      "cell_type": "code",
      "source": [
        "# Characteristics of class\n",
        "# Encaptulation : Secure your variable to access it directly.\n",
        "# putting __ (double underscore ): secures the variable | No view & Edit\n",
        "# putting _ (Single Underscore) :  Protected but can be accessed but like a warning."
      ],
      "metadata": {
        "id": "XolII9ZGKY7J"
      },
      "execution_count": null,
      "outputs": []
    },
    {
      "cell_type": "code",
      "source": [
        "class BankAccount:\n",
        "  bank_name = 'AB Bank of India'\n",
        "  def __init__(self,name,pancard,balance =0):\n",
        "    self.name = name\n",
        "    self.pancard = pancard\n",
        "    self.balance = balance\n",
        "\n",
        "  def deposit(self,amount):\n",
        "    self.balance += amount\n",
        "    print(f'You have successfully deposited the amount INR {amount} \\n. New Balance is INR {self.balance}')\n",
        "\n",
        "  def withdraw(self, amount):\n",
        "    if amount > self.balance:\n",
        "      print('You have insufficient balance')\n",
        "    else:\n",
        "      self.balance -= amount\n",
        "      print(f'You have successfully withdrawn the amount INR {amount},\\n New Balance INR {self.balance}')\n",
        "\n",
        "  def check_balance(self):\n",
        "    print(f'You have INR {self.balance} in account')\n",
        "\n"
      ],
      "metadata": {
        "id": "f7oWz5MoaOYN"
      },
      "execution_count": null,
      "outputs": []
    },
    {
      "cell_type": "code",
      "source": [
        "ab = BankAccount(name =\"ab\", pancard = 'sdgwedg4434',balance = 500)"
      ],
      "metadata": {
        "id": "9KlCN-vHpW4d"
      },
      "execution_count": null,
      "outputs": []
    },
    {
      "cell_type": "code",
      "source": [
        "ab.balance # Access my variable present in the instance"
      ],
      "metadata": {
        "colab": {
          "base_uri": "https://localhost:8080/"
        },
        "id": "h5c3S5Aopimu",
        "outputId": "ab8ee29c-6efc-4d3f-bcfa-2d55968f2420"
      },
      "execution_count": null,
      "outputs": [
        {
          "output_type": "execute_result",
          "data": {
            "text/plain": [
              "500"
            ]
          },
          "metadata": {},
          "execution_count": 29
        }
      ]
    },
    {
      "cell_type": "code",
      "source": [
        "ab.balance = 10000"
      ],
      "metadata": {
        "id": "smpqOE97tsj0"
      },
      "execution_count": null,
      "outputs": []
    },
    {
      "cell_type": "code",
      "source": [
        "ab.check_balance()"
      ],
      "metadata": {
        "colab": {
          "base_uri": "https://localhost:8080/"
        },
        "id": "hNKl8qmjB5Lx",
        "outputId": "1b01a8ae-9649-4350-8c38-01992d8ad0a2"
      },
      "execution_count": null,
      "outputs": [
        {
          "output_type": "stream",
          "name": "stdout",
          "text": [
            "You have INR 10000 in account\n"
          ]
        }
      ]
    },
    {
      "cell_type": "code",
      "source": [
        "# Encaptulation : Your variable , method : Private (__) Double Underscore, protected variable (_ : Warning to coders)\n",
        "class BankAccount:\n",
        "  bank_name = 'AB Bank of India'\n",
        "  def __init__(self,name,pancard,balance =0):\n",
        "    self.name = name # Public Variable\n",
        "    self._pancard = pancard # Protected Variable : Warning\n",
        "    self.__balance = balance # Private Variable\n",
        "\n",
        "  def deposit(self,amount):\n",
        "    self.__balance += amount\n",
        "    print(f'You have successfully deposited the amount INR {amount} \\n. New Balance is INR {self.__balance}')\n",
        "\n",
        "  def withdraw(self, amount):\n",
        "    if amount > self.__balance:\n",
        "      print('You have insufficient balance')\n",
        "    else:\n",
        "      self.__balance -= amount\n",
        "      print(f'You have successfully withdrawn the amount INR {amount},\\n New Balance INR {self.__balance}')\n",
        "\n",
        "  def check_balance(self):\n",
        "    print(f'You have INR {self.__balance} in account')"
      ],
      "metadata": {
        "id": "jh5tR_WjCY8s"
      },
      "execution_count": null,
      "outputs": []
    },
    {
      "cell_type": "code",
      "source": [
        "ab = BankAccount(name =\"ab\", pancard = 'sdgwedg4434',balance = 500)"
      ],
      "metadata": {
        "id": "iSBa99jGCyVr"
      },
      "execution_count": null,
      "outputs": []
    },
    {
      "cell_type": "code",
      "source": [
        "ab._pancard"
      ],
      "metadata": {
        "colab": {
          "base_uri": "https://localhost:8080/"
        },
        "id": "iIKgmgVGED7N",
        "outputId": "8bbbd777-1f02-41a6-a8b6-41796d58f64c"
      },
      "execution_count": null,
      "outputs": [
        {
          "output_type": "execute_result",
          "data": {
            "text/plain": [
              "'sdgwedg4434'"
            ],
            "application/vnd.google.colaboratory.intrinsic+json": {
              "type": "string"
            }
          },
          "metadata": {},
          "execution_count": 43
        }
      ]
    },
    {
      "cell_type": "code",
      "source": [
        "ab._pancard = 'dewdewj12312'"
      ],
      "metadata": {
        "id": "pCYAns71EGeT"
      },
      "execution_count": null,
      "outputs": []
    },
    {
      "cell_type": "code",
      "source": [
        "ab._pancard # Changed"
      ],
      "metadata": {
        "colab": {
          "base_uri": "https://localhost:8080/"
        },
        "id": "6Kn2HaPBEIKQ",
        "outputId": "22a65a55-1d56-41d4-a7b1-2535a2b10f1f"
      },
      "execution_count": null,
      "outputs": [
        {
          "output_type": "execute_result",
          "data": {
            "text/plain": [
              "'dewdewj12312'"
            ],
            "application/vnd.google.colaboratory.intrinsic+json": {
              "type": "string"
            }
          },
          "metadata": {},
          "execution_count": 45
        }
      ]
    },
    {
      "cell_type": "code",
      "source": [
        "ab.__balance"
      ],
      "metadata": {
        "colab": {
          "base_uri": "https://localhost:8080/"
        },
        "id": "GCSyZLl1C0pU",
        "outputId": "f61bb91a-757c-41a7-95d4-54f4b09523ac"
      },
      "execution_count": null,
      "outputs": [
        {
          "output_type": "error",
          "ename": "AttributeError",
          "evalue": "'BankAccount' object has no attribute '__balance'",
          "traceback": [
            "\u001b[0;31m---------------------------------------------------------------------------\u001b[0m",
            "\u001b[0;31mAttributeError\u001b[0m                            Traceback (most recent call last)",
            "\u001b[0;32m<ipython-input-46-694366d4dca1>\u001b[0m in \u001b[0;36m<cell line: 1>\u001b[0;34m()\u001b[0m\n\u001b[0;32m----> 1\u001b[0;31m \u001b[0mab\u001b[0m\u001b[0;34m.\u001b[0m\u001b[0m__balance\u001b[0m\u001b[0;34m\u001b[0m\u001b[0;34m\u001b[0m\u001b[0m\n\u001b[0m",
            "\u001b[0;31mAttributeError\u001b[0m: 'BankAccount' object has no attribute '__balance'"
          ]
        }
      ]
    },
    {
      "cell_type": "code",
      "source": [
        "ab.check_balance()"
      ],
      "metadata": {
        "colab": {
          "base_uri": "https://localhost:8080/"
        },
        "id": "dTI7htVYC88C",
        "outputId": "393d6560-ef13-4a3c-d54d-d8b389b5e968"
      },
      "execution_count": null,
      "outputs": [
        {
          "output_type": "stream",
          "name": "stdout",
          "text": [
            "You have INR 500 in account\n"
          ]
        }
      ]
    },
    {
      "cell_type": "code",
      "source": [
        "# In Some application : there are few variables which are sensitive, and need protection to get updated directly.\n",
        "# Protect : by putting __ (double underscore) as prefix"
      ],
      "metadata": {
        "id": "_00lDQkuLNIB"
      },
      "execution_count": null,
      "outputs": []
    },
    {
      "cell_type": "code",
      "source": [],
      "metadata": {
        "id": "6xUqbRl_D2o7"
      },
      "execution_count": null,
      "outputs": []
    },
    {
      "cell_type": "code",
      "source": [
        "# Function : local variables which will get destroyed, you can;t access it once it has run.\n",
        "# Class : Instance creation, Encaptulation is required to protect some variables."
      ],
      "metadata": {
        "id": "J-BMQstoLks5"
      },
      "execution_count": null,
      "outputs": []
    },
    {
      "cell_type": "code",
      "source": [
        "# Encapsulation : Makes the variable secret by putting double underscore before the variable, can;t be changed or accessed directly\n",
        "\n"
      ],
      "metadata": {
        "id": "nyxbrGKgAMBv"
      },
      "execution_count": null,
      "outputs": []
    },
    {
      "cell_type": "code",
      "source": [
        "# Encaptulated variable : Private variables can only be access using the methods"
      ],
      "metadata": {
        "id": "0lRXuVmYbyc-"
      },
      "execution_count": null,
      "outputs": []
    },
    {
      "cell_type": "code",
      "source": [
        "class BankAccount:\n",
        "  bank_name = 'AB Bank of India'\n",
        "  def __init__(self,name,pancard,balance =0):\n",
        "    self.name = name # Public Variable\n",
        "    self._pancard = pancard # Protected Variable : Warning\n",
        "    self.__balance = balance # Private Variable\n",
        "\n",
        "  def deposit(self,amount): # setter method\n",
        "    self.__balance += amount\n",
        "    print(f'You have successfully deposited the amount INR {amount} \\n. New Balance is INR {self.__balance}')\n",
        "\n",
        "  def withdraw(self, amount): # setter method\n",
        "    if amount > self.__balance:\n",
        "      print('You have insufficient balance')\n",
        "    else:\n",
        "      self.__balance -= amount\n",
        "      print(f'You have successfully withdrawn the amount INR {amount},\\n New Balance INR {self.__balance}')\n",
        "\n",
        "  def check_balance(self): #getter method\n",
        "    print(f'You have INR {self.__balance} in account')"
      ],
      "metadata": {
        "id": "MEZZFhweEpCy"
      },
      "execution_count": null,
      "outputs": []
    },
    {
      "cell_type": "code",
      "source": [
        "# getter : check_balance and setter : deposit/Withdraw encaptulated variable method"
      ],
      "metadata": {
        "id": "SWNBPdb1M5KR"
      },
      "execution_count": null,
      "outputs": []
    },
    {
      "cell_type": "code",
      "source": [
        "# getter method : Displays the value of encaptulated variable | current_balance()\n",
        "# setter method : Changes the value of encaptulated variable | deposit(), withdraw()\n",
        "# Encaptulated variable can't be changed directly.\n"
      ],
      "metadata": {
        "id": "Euqx4QiyM5Hb"
      },
      "execution_count": null,
      "outputs": []
    },
    {
      "cell_type": "code",
      "source": [
        "class LibraryManagement:\n",
        "  def __init__(self, name, book, dues=0):\n",
        "    self.name = name\n",
        "    self.book = book\n",
        "    self.__dues = dues # Private Data (__)\n",
        "\n",
        "  def GetDuesInfo(self): # Getter\n",
        "    print(f'Hi {self.name}, You have due of INR {self.__dues}')\n",
        "\n",
        "  def DuesClearance(self, amount): # Setter\n",
        "    self.__dues -= amount\n",
        "    print(f'Hi {self.name}, You have INR {self.__dues} remaining as dues')\n",
        "\n"
      ],
      "metadata": {
        "id": "zO_zuMXBSTpy"
      },
      "execution_count": null,
      "outputs": []
    },
    {
      "cell_type": "code",
      "source": [
        "alok = LibraryManagement(name = 'Alok', book = 'Python' , dues = 30)"
      ],
      "metadata": {
        "id": "4RFWFALOSrF6"
      },
      "execution_count": null,
      "outputs": []
    },
    {
      "cell_type": "code",
      "source": [
        "alok.__dues"
      ],
      "metadata": {
        "colab": {
          "base_uri": "https://localhost:8080/",
          "height": 141
        },
        "id": "eeb5wFfKSzD6",
        "outputId": "db257551-1019-4932-e8af-fcea1150c39a"
      },
      "execution_count": null,
      "outputs": [
        {
          "output_type": "error",
          "ename": "AttributeError",
          "evalue": "'LibraryManagement' object has no attribute '__dues'",
          "traceback": [
            "\u001b[0;31m---------------------------------------------------------------------------\u001b[0m",
            "\u001b[0;31mAttributeError\u001b[0m                            Traceback (most recent call last)",
            "\u001b[0;32m<ipython-input-83-55b22697fba7>\u001b[0m in \u001b[0;36m<cell line: 1>\u001b[0;34m()\u001b[0m\n\u001b[0;32m----> 1\u001b[0;31m \u001b[0malok\u001b[0m\u001b[0;34m.\u001b[0m\u001b[0m__dues\u001b[0m\u001b[0;34m\u001b[0m\u001b[0;34m\u001b[0m\u001b[0m\n\u001b[0m",
            "\u001b[0;31mAttributeError\u001b[0m: 'LibraryManagement' object has no attribute '__dues'"
          ]
        }
      ]
    },
    {
      "cell_type": "code",
      "source": [
        "alok.GetDuesInfo() # Getter"
      ],
      "metadata": {
        "colab": {
          "base_uri": "https://localhost:8080/"
        },
        "id": "Bf461HYbTQcX",
        "outputId": "ab5b640b-43f2-4d75-fe70-5ca6c73cf18a"
      },
      "execution_count": null,
      "outputs": [
        {
          "output_type": "stream",
          "name": "stdout",
          "text": [
            "Hi Alok, You have due of INR 30\n"
          ]
        }
      ]
    },
    {
      "cell_type": "code",
      "source": [
        "alok.DuesClearance(amount = 30) # Setter"
      ],
      "metadata": {
        "colab": {
          "base_uri": "https://localhost:8080/"
        },
        "id": "ia3taCQET1kA",
        "outputId": "ea15843e-d1ea-4ba0-96d0-8b67b856f45d"
      },
      "execution_count": null,
      "outputs": [
        {
          "output_type": "stream",
          "name": "stdout",
          "text": [
            "Hi Alok, You have INR 0 remaining as dues\n"
          ]
        }
      ]
    },
    {
      "cell_type": "markdown",
      "source": [
        "#### Inheritance"
      ],
      "metadata": {
        "id": "qa2e91CMyE4I"
      }
    },
    {
      "cell_type": "code",
      "source": [
        "# Inheritance :\n",
        "class Animal: # Parent class\n",
        "  def __init__(self,species):\n",
        "    self.species = species\n",
        "\n",
        "  def walk(self):\n",
        "    print('This Animal will walk on 4 legs')\n",
        "\n",
        "  def sleep(self):\n",
        "    print('This Animal will sleep eyes closed')\n",
        "\n",
        "\n",
        "class Dog(Animal): # Dog class is child : Animal Class is parent\n",
        "  def __init__(self, name):\n",
        "    self.name = name\n",
        "\n",
        "  def sound(self):\n",
        "    print('This Animal  will bark')\n",
        "\n",
        "\n"
      ],
      "metadata": {
        "id": "HY1G8ikJAL-3"
      },
      "execution_count": null,
      "outputs": []
    },
    {
      "cell_type": "code",
      "source": [
        "husky = Dog(name = 'Rocko')"
      ],
      "metadata": {
        "id": "Mgw8dy9JGzWS"
      },
      "execution_count": null,
      "outputs": []
    },
    {
      "cell_type": "code",
      "source": [
        "husky.sound()"
      ],
      "metadata": {
        "colab": {
          "base_uri": "https://localhost:8080/"
        },
        "id": "_2YK8jQmG6G7",
        "outputId": "2053d0a1-aa66-423e-c162-2941954643dd"
      },
      "execution_count": null,
      "outputs": [
        {
          "output_type": "stream",
          "name": "stdout",
          "text": [
            "This Animal  will bark\n"
          ]
        }
      ]
    },
    {
      "cell_type": "code",
      "source": [
        "husky.sleep() # No error : Property of Inheritance"
      ],
      "metadata": {
        "colab": {
          "base_uri": "https://localhost:8080/"
        },
        "id": "D6acJagFG-3H",
        "outputId": "88840681-669e-4511-a5ff-c5d71edd3909"
      },
      "execution_count": null,
      "outputs": [
        {
          "output_type": "stream",
          "name": "stdout",
          "text": [
            "This Animal will sleep eyes closed\n"
          ]
        }
      ]
    },
    {
      "cell_type": "code",
      "source": [
        "husky.walk()"
      ],
      "metadata": {
        "colab": {
          "base_uri": "https://localhost:8080/"
        },
        "id": "xDXFYjOfHd0O",
        "outputId": "105f95b4-bdb7-4170-a5ea-e72bcc880cc4"
      },
      "execution_count": null,
      "outputs": [
        {
          "output_type": "stream",
          "name": "stdout",
          "text": [
            "This Animal will walk on 4 legs\n"
          ]
        }
      ]
    },
    {
      "cell_type": "code",
      "source": [
        "a = Animal(species = 'Xyz')"
      ],
      "metadata": {
        "id": "YWb3WD9bHnLE"
      },
      "execution_count": null,
      "outputs": []
    },
    {
      "cell_type": "code",
      "source": [
        "a.walk()"
      ],
      "metadata": {
        "colab": {
          "base_uri": "https://localhost:8080/"
        },
        "id": "l_YQXSZDHqut",
        "outputId": "79c7d459-058a-4e65-85b7-7f61c0984bdc"
      },
      "execution_count": null,
      "outputs": [
        {
          "output_type": "stream",
          "name": "stdout",
          "text": [
            "This Animal will walk on 4 legs\n"
          ]
        }
      ]
    },
    {
      "cell_type": "code",
      "source": [
        "a.sound()"
      ],
      "metadata": {
        "colab": {
          "base_uri": "https://localhost:8080/"
        },
        "id": "n11GOdp0HtLy",
        "outputId": "0a6dc089-a1d5-457b-ec04-16005094fdad"
      },
      "execution_count": null,
      "outputs": [
        {
          "output_type": "stream",
          "name": "stdout",
          "text": [
            "This Animal  will bark\n"
          ]
        }
      ]
    },
    {
      "cell_type": "code",
      "source": [
        "# Inheritance : Child Class will be able to use methods/variables present in Parent class"
      ],
      "metadata": {
        "id": "PZ10U90Kh-RH"
      },
      "execution_count": null,
      "outputs": []
    },
    {
      "cell_type": "code",
      "source": [
        "# super().__init__(species,legs)\n",
        "\n",
        "class Animal: # Parent class\n",
        "  def __init__(self,species,legs,eyes, ears,mouth):\n",
        "    self.species = species\n",
        "    self.legs = legs\n",
        "    self.eyes = eyes\n",
        "    self.ears = ears\n",
        "    self.mouth = mouth\n",
        "\n",
        "  def walk(self):\n",
        "    print(f'This Animal will walk on {self.legs} legs')\n",
        "\n",
        "  def sleep(self):\n",
        "    print('This Animal will sleep eyes closed')\n",
        "\n",
        "\n",
        "class Dog(Animal): # Dog class is child : Animal Class is parent\n",
        "  def __init__(self, name,species,legs,eyes, ears,mouth):\n",
        "    self.name = name\n",
        "    self.species = species\n",
        "    self.legs = legs\n",
        "    self.eyes = eyes\n",
        "    self.ears = ears\n",
        "    self.mouth = mouth\n",
        "\n",
        "  def sound(self):\n",
        "    print('This Animal  will bark')\n"
      ],
      "metadata": {
        "id": "cSIrd2-riT3y"
      },
      "execution_count": null,
      "outputs": []
    },
    {
      "cell_type": "code",
      "source": [
        "beagle = Dog(name = 'Brownie',species = 'Xyz',legs = 4)"
      ],
      "metadata": {
        "id": "x3CN_osiIQDv"
      },
      "execution_count": null,
      "outputs": []
    },
    {
      "cell_type": "code",
      "source": [
        "beagle.walk()"
      ],
      "metadata": {
        "colab": {
          "base_uri": "https://localhost:8080/"
        },
        "id": "Wl1X075mIUmu",
        "outputId": "67b65487-c2a3-4f90-90ce-8cc052d30ca3"
      },
      "execution_count": null,
      "outputs": [
        {
          "output_type": "stream",
          "name": "stdout",
          "text": [
            "This Animal will walk on 4 legs\n"
          ]
        }
      ]
    },
    {
      "cell_type": "code",
      "source": [
        "class Animal: # Parent class\n",
        "  def __init__(self,species,legs,eyes, ears,mouth):\n",
        "    self.species = species\n",
        "    self.legs = legs\n",
        "    self.eyes = eyes\n",
        "    self.ears = ears\n",
        "    self.mouth = mouth\n",
        "\n",
        "  def walk(self):\n",
        "    print(f'This Animal will walk on {self.legs} legs')\n",
        "\n",
        "  def sleep(self):\n",
        "    print('This Animal will sleep eyes closed')\n",
        "\n",
        "\n",
        "class Dog(Animal): # Dog class is child : Animal Class is parent\n",
        "  def __init__(self, name,species,legs,eyes, ears,mouth):\n",
        "    self.name = name # Child class can have own instance variable\n",
        "    super().__init__(species,legs,eyes, ears,mouth) # access the init of parent class\n",
        "\n",
        "  def sound(self):\n",
        "    print('This Animal  will bark')\n"
      ],
      "metadata": {
        "id": "LFa5G7GxJDjp"
      },
      "execution_count": null,
      "outputs": []
    },
    {
      "cell_type": "code",
      "source": [
        "beagle = Dog(name= 'brownie', species = 'Xyz', legs = 4, eyes =2, ears = 2, mouth = 1)"
      ],
      "metadata": {
        "id": "RNfBTkUBJV0R"
      },
      "execution_count": null,
      "outputs": []
    },
    {
      "cell_type": "code",
      "source": [
        "beagle.walk()"
      ],
      "metadata": {
        "colab": {
          "base_uri": "https://localhost:8080/"
        },
        "id": "jUNAOalKJgeZ",
        "outputId": "22fb39f4-72c4-46bb-a450-150ae5870db3"
      },
      "execution_count": null,
      "outputs": [
        {
          "output_type": "stream",
          "name": "stdout",
          "text": [
            "This Animal will walk on 4 legs\n"
          ]
        }
      ]
    },
    {
      "cell_type": "code",
      "source": [
        "beagle.sound()"
      ],
      "metadata": {
        "colab": {
          "base_uri": "https://localhost:8080/"
        },
        "id": "bJBIhV5TJiiK",
        "outputId": "3f8afe68-9d51-4aa5-9766-32a21af3740d"
      },
      "execution_count": null,
      "outputs": [
        {
          "output_type": "stream",
          "name": "stdout",
          "text": [
            "This Animal  will bark\n"
          ]
        }
      ]
    },
    {
      "cell_type": "markdown",
      "source": [
        "#### Polymorphism"
      ],
      "metadata": {
        "id": "Y_-u3VU6yH3v"
      }
    },
    {
      "cell_type": "code",
      "source": [
        "# Polymorphism : Something which takes many forms\n",
        "\n",
        "class Animal: # Parent class\n",
        "  def __init__(self,species,legs,eyes, ears,mouth):\n",
        "    self.species = species\n",
        "    self.legs = legs\n",
        "    self.eyes = eyes\n",
        "    self.ears = ears\n",
        "    self.mouth = mouth\n",
        "\n",
        "  def walk(self):\n",
        "    print(f'This Animal will walk on {self.legs} legs')\n",
        "\n",
        "  def sleep(self):\n",
        "    print('This Animal will sleep eyes closed')\n",
        "\n",
        "\n",
        "class Dog(Animal): # Dog class is child : Animal Class is parent\n",
        "  def __init__(self, name,species,legs,eyes, ears,mouth):\n",
        "    self.name = name # Child class can have own instance variable\n",
        "    super().__init__(species,legs,eyes, ears,mouth) # access the init of parent class\n",
        "\n",
        "  def sound(self):\n",
        "    print('This Animal  will bark')\n",
        "\n",
        "class Human(Animal):\n",
        "  def __init__(self, name, species,legs,eyes, ears,mouth ):\n",
        "    self.name = name\n",
        "    super().__init__(species,legs,eyes, ears,mouth) # access the __init__ of parent class\n",
        "\n",
        "  def speak(self):\n",
        "    print('Human will speak in many languages')\n",
        "\n",
        "  def walk(self):\n",
        "    print(f'Human will walk on {self.legs} legs')\n",
        "\n",
        "\n"
      ],
      "metadata": {
        "id": "Dd6xJ8VUAL8A"
      },
      "execution_count": null,
      "outputs": []
    },
    {
      "cell_type": "code",
      "source": [
        "h = Human(name = 'vicky', species = 'Homo Sapiens',legs = 2,eyes = 2, ears= 2,mouth= 1)"
      ],
      "metadata": {
        "id": "-TDwtYPtKw2Y"
      },
      "execution_count": null,
      "outputs": []
    },
    {
      "cell_type": "code",
      "source": [
        "h.walk() # Why this happened? Why not error?"
      ],
      "metadata": {
        "colab": {
          "base_uri": "https://localhost:8080/"
        },
        "id": "ntVzbXLnK8IB",
        "outputId": "0a76fdbd-d261-4c2d-9df4-b879daaf4c2c"
      },
      "execution_count": null,
      "outputs": [
        {
          "output_type": "stream",
          "name": "stdout",
          "text": [
            "Human will walk on 2 legs\n"
          ]
        }
      ]
    },
    {
      "cell_type": "code",
      "source": [
        "# Polymorphism :\n",
        "# 1. Child class can have method with the same name as of parent class"
      ],
      "metadata": {
        "id": "tdgWV_6nLMns"
      },
      "execution_count": null,
      "outputs": []
    },
    {
      "cell_type": "code",
      "source": [
        "# Polymorphism :\n",
        "# 1. Child and parent class can have method will same name.\n",
        "# 2. Objects created by Child class will access the method of child class if names are clashing with parent class.\n"
      ],
      "metadata": {
        "id": "-FEX-nqwrRkv"
      },
      "execution_count": null,
      "outputs": []
    },
    {
      "cell_type": "code",
      "source": [
        "# Inheritance. : Child class can access the methods of parent class\n",
        "# Polymorphism : Child class can have method with same name as of parent class with different functionality."
      ],
      "metadata": {
        "id": "BK-a7gWIrRhW"
      },
      "execution_count": null,
      "outputs": []
    },
    {
      "cell_type": "markdown",
      "source": [
        "#### Abstraction"
      ],
      "metadata": {
        "id": "2tRUZuZkyLJs"
      }
    },
    {
      "cell_type": "code",
      "source": [
        "# Abstraction : Standardisation of creating class."
      ],
      "metadata": {
        "id": "UPSlP41AduWb"
      },
      "execution_count": null,
      "outputs": []
    },
    {
      "cell_type": "code",
      "source": [
        "# print(), .keys()"
      ],
      "metadata": {
        "id": "VR-Qc3KjQGNb"
      },
      "execution_count": null,
      "outputs": []
    },
    {
      "cell_type": "code",
      "source": [
        "import os\n",
        "os.getcwd()"
      ],
      "metadata": {
        "colab": {
          "base_uri": "https://localhost:8080/",
          "height": 35
        },
        "id": "PxFJSHZMQOsK",
        "outputId": "eb259135-6f41-492e-f9a1-e2c4a176cca9"
      },
      "execution_count": null,
      "outputs": [
        {
          "output_type": "execute_result",
          "data": {
            "text/plain": [
              "'/content'"
            ],
            "application/vnd.google.colaboratory.intrinsic+json": {
              "type": "string"
            }
          },
          "metadata": {},
          "execution_count": 80
        }
      ]
    },
    {
      "cell_type": "code",
      "source": [
        "# import pandas as pd\n",
        "# pd."
      ],
      "metadata": {
        "id": "5PINUYvWQbPQ"
      },
      "execution_count": null,
      "outputs": []
    },
    {
      "cell_type": "code",
      "source": [
        "# Game Industry : Company create game\n",
        "# Abstract class\n",
        "from abc import ABC, abstractmethod # abc is a library which can be used to create abstract method\n",
        "\n",
        "class game(ABC): # Abstract class\n",
        "\n",
        "  @abstractmethod\n",
        "  def welcome_message(self): # This method is  mandatory\n",
        "    pass\n",
        "\n",
        "  @abstractmethod\n",
        "  def show_result(self): # This method is  mandatory\n",
        "    pass\n",
        "\n",
        "  @abstractmethod\n",
        "  def winning_points(self): # This method is  mandatory\n",
        "    pass\n",
        "\n",
        "\n",
        "  def exit(self): # This method is not mandatory\n",
        "    pass"
      ],
      "metadata": {
        "id": "lERJDFLGrRev"
      },
      "execution_count": null,
      "outputs": []
    },
    {
      "cell_type": "code",
      "source": [
        "class Tictactoe(game):\n",
        "  def __init__(self, p1, p2):\n",
        "    self.p1 = p1\n",
        "    self.p2 = p2\n",
        "\n",
        "  def welcome_message(self):\n",
        "    print('Hello, Welcome to the game of Tictactoe')\n",
        "\n",
        "  def final_leaderboard(self):\n",
        "    print('You have score X number of points')\n",
        "\n",
        "  def show_result(self):\n",
        "    print('You won!')\n",
        "\n",
        "  def winning_points(self):\n",
        "    print('You have the highest number of points')\n"
      ],
      "metadata": {
        "id": "gdNL5B5Btote"
      },
      "execution_count": null,
      "outputs": []
    },
    {
      "cell_type": "code",
      "source": [
        "t1 = Tictactoe(p1 = 'Abc', p2 = 'xyz')"
      ],
      "metadata": {
        "id": "rkwTaf8FPTqS"
      },
      "execution_count": null,
      "outputs": []
    },
    {
      "cell_type": "code",
      "source": [],
      "metadata": {
        "id": "bfk0L7ChoxaI"
      },
      "execution_count": null,
      "outputs": []
    }
  ]
}